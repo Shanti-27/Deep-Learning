{
 "cells": [
  {
   "cell_type": "markdown",
   "metadata": {
    "id": "5kKGl6Izh95w"
   },
   "source": [
    "**Deep Learning Model for Boston Housing Price Prediction**"
   ]
  },
  {
   "cell_type": "code",
   "execution_count": 1,
   "metadata": {
    "id": "PZuxIk0MiAKb"
   },
   "outputs": [],
   "source": [
    "import tensorflow as tf\n",
    "from tensorflow.keras.datasets import boston_housing"
   ]
  },
  {
   "cell_type": "code",
   "execution_count": 2,
   "metadata": {
    "colab": {
     "base_uri": "https://localhost:8080/"
    },
    "id": "aRlTGNnNiAMK",
    "outputId": "7dc384eb-0f0f-45d9-a389-5b9509f0bb29"
   },
   "outputs": [
    {
     "name": "stdout",
     "output_type": "stream",
     "text": [
      "Downloading data from https://storage.googleapis.com/tensorflow/tf-keras-datasets/boston_housing.npz\n",
      "57026/57026 [==============================] - 0s 0us/step\n"
     ]
    }
   ],
   "source": [
    "# Load the Boston Housing dataset\n",
    "(features_train, actual_prices_train), (features_test, actual_prices_test) = boston_housing.load_data(test_split=0.2, seed=42)"
   ]
  },
  {
   "cell_type": "code",
   "execution_count": 7,
   "metadata": {
    "id": "sPo9akWdiAPO"
   },
   "outputs": [],
   "source": [
    "# Create the model\n",
    "model = tf.keras.Sequential([\n",
    "    tf.keras.layers.Dense(10, input_shape=(13,)),\n",
    "    tf.keras.layers.Dense(10),\n",
    "    tf.keras.layers.Dense(1)\n",
    "])"
   ]
  },
  {
   "cell_type": "code",
   "execution_count": 4,
   "metadata": {
    "id": "6AHZ1MILiAQ2"
   },
   "outputs": [],
   "source": [
    "# Apply batch normalization after the dense layers\n",
    "model.add(tf.keras.layers.BatchNormalization())\n"
   ]
  },
  {
   "cell_type": "code",
   "execution_count": 8,
   "metadata": {
    "colab": {
     "base_uri": "https://localhost:8080/"
    },
    "id": "M-EQ_vTFiAUA",
    "outputId": "74851879-b8d8-467d-f634-1abd91a672c7"
   },
   "outputs": [
    {
     "name": "stdout",
     "output_type": "stream",
     "text": [
      "Epoch 1/100\n",
      "13/13 [==============================] - 1s 3ms/step - loss: 109792.8906\n",
      "Epoch 2/100\n",
      "13/13 [==============================] - 0s 3ms/step - loss: 46777.1172\n",
      "Epoch 3/100\n",
      "13/13 [==============================] - 0s 3ms/step - loss: 16424.1230\n",
      "Epoch 4/100\n",
      "13/13 [==============================] - 0s 3ms/step - loss: 6118.0547\n",
      "Epoch 5/100\n",
      "13/13 [==============================] - 0s 3ms/step - loss: 4174.8467\n",
      "Epoch 6/100\n",
      "13/13 [==============================] - 0s 3ms/step - loss: 3538.4460\n",
      "Epoch 7/100\n",
      "13/13 [==============================] - 0s 3ms/step - loss: 2815.8821\n",
      "Epoch 8/100\n",
      "13/13 [==============================] - 0s 3ms/step - loss: 2271.5239\n",
      "Epoch 9/100\n",
      "13/13 [==============================] - 0s 4ms/step - loss: 1794.4941\n",
      "Epoch 10/100\n",
      "13/13 [==============================] - 0s 3ms/step - loss: 1431.1476\n",
      "Epoch 11/100\n",
      "13/13 [==============================] - 0s 3ms/step - loss: 1110.8882\n",
      "Epoch 12/100\n",
      "13/13 [==============================] - 0s 3ms/step - loss: 856.6855\n",
      "Epoch 13/100\n",
      "13/13 [==============================] - 0s 3ms/step - loss: 650.6565\n",
      "Epoch 14/100\n",
      "13/13 [==============================] - 0s 3ms/step - loss: 502.6136\n",
      "Epoch 15/100\n",
      "13/13 [==============================] - 0s 3ms/step - loss: 378.0509\n",
      "Epoch 16/100\n",
      "13/13 [==============================] - 0s 3ms/step - loss: 290.8766\n",
      "Epoch 17/100\n",
      "13/13 [==============================] - 0s 3ms/step - loss: 224.5952\n",
      "Epoch 18/100\n",
      "13/13 [==============================] - 0s 3ms/step - loss: 178.1931\n",
      "Epoch 19/100\n",
      "13/13 [==============================] - 0s 3ms/step - loss: 147.0567\n",
      "Epoch 20/100\n",
      "13/13 [==============================] - 0s 3ms/step - loss: 125.0925\n",
      "Epoch 21/100\n",
      "13/13 [==============================] - 0s 3ms/step - loss: 110.0551\n",
      "Epoch 22/100\n",
      "13/13 [==============================] - 0s 3ms/step - loss: 100.2629\n",
      "Epoch 23/100\n",
      "13/13 [==============================] - 0s 3ms/step - loss: 93.6909\n",
      "Epoch 24/100\n",
      "13/13 [==============================] - 0s 3ms/step - loss: 88.7473\n",
      "Epoch 25/100\n",
      "13/13 [==============================] - 0s 3ms/step - loss: 85.4278\n",
      "Epoch 26/100\n",
      "13/13 [==============================] - 0s 3ms/step - loss: 82.5948\n",
      "Epoch 27/100\n",
      "13/13 [==============================] - 0s 3ms/step - loss: 81.0537\n",
      "Epoch 28/100\n",
      "13/13 [==============================] - 0s 3ms/step - loss: 78.9183\n",
      "Epoch 29/100\n",
      "13/13 [==============================] - 0s 3ms/step - loss: 77.6722\n",
      "Epoch 30/100\n",
      "13/13 [==============================] - 0s 3ms/step - loss: 76.1746\n",
      "Epoch 31/100\n",
      "13/13 [==============================] - 0s 3ms/step - loss: 74.8832\n",
      "Epoch 32/100\n",
      "13/13 [==============================] - 0s 4ms/step - loss: 73.8368\n",
      "Epoch 33/100\n",
      "13/13 [==============================] - 0s 3ms/step - loss: 72.6734\n",
      "Epoch 34/100\n",
      "13/13 [==============================] - 0s 3ms/step - loss: 71.6922\n",
      "Epoch 35/100\n",
      "13/13 [==============================] - 0s 3ms/step - loss: 71.1666\n",
      "Epoch 36/100\n",
      "13/13 [==============================] - 0s 3ms/step - loss: 69.7098\n",
      "Epoch 37/100\n",
      "13/13 [==============================] - 0s 3ms/step - loss: 68.9034\n",
      "Epoch 38/100\n",
      "13/13 [==============================] - 0s 3ms/step - loss: 67.8189\n",
      "Epoch 39/100\n",
      "13/13 [==============================] - 0s 3ms/step - loss: 67.2343\n",
      "Epoch 40/100\n",
      "13/13 [==============================] - 0s 3ms/step - loss: 66.2242\n",
      "Epoch 41/100\n",
      "13/13 [==============================] - 0s 3ms/step - loss: 65.5586\n",
      "Epoch 42/100\n",
      "13/13 [==============================] - 0s 3ms/step - loss: 64.9611\n",
      "Epoch 43/100\n",
      "13/13 [==============================] - 0s 3ms/step - loss: 64.4010\n",
      "Epoch 44/100\n",
      "13/13 [==============================] - 0s 3ms/step - loss: 63.4769\n",
      "Epoch 45/100\n",
      "13/13 [==============================] - 0s 3ms/step - loss: 63.7398\n",
      "Epoch 46/100\n",
      "13/13 [==============================] - 0s 3ms/step - loss: 62.8789\n",
      "Epoch 47/100\n",
      "13/13 [==============================] - 0s 3ms/step - loss: 61.6148\n",
      "Epoch 48/100\n",
      "13/13 [==============================] - 0s 3ms/step - loss: 61.5921\n",
      "Epoch 49/100\n",
      "13/13 [==============================] - 0s 3ms/step - loss: 60.8584\n",
      "Epoch 50/100\n",
      "13/13 [==============================] - 0s 4ms/step - loss: 60.4067\n",
      "Epoch 51/100\n",
      "13/13 [==============================] - 0s 3ms/step - loss: 60.0243\n",
      "Epoch 52/100\n",
      "13/13 [==============================] - 0s 3ms/step - loss: 59.7679\n",
      "Epoch 53/100\n",
      "13/13 [==============================] - 0s 3ms/step - loss: 59.2455\n",
      "Epoch 54/100\n",
      "13/13 [==============================] - 0s 3ms/step - loss: 58.8170\n",
      "Epoch 55/100\n",
      "13/13 [==============================] - 0s 3ms/step - loss: 58.3111\n",
      "Epoch 56/100\n",
      "13/13 [==============================] - 0s 4ms/step - loss: 57.9202\n",
      "Epoch 57/100\n",
      "13/13 [==============================] - 0s 3ms/step - loss: 57.6524\n",
      "Epoch 58/100\n",
      "13/13 [==============================] - 0s 3ms/step - loss: 57.5039\n",
      "Epoch 59/100\n",
      "13/13 [==============================] - 0s 3ms/step - loss: 57.0632\n",
      "Epoch 60/100\n",
      "13/13 [==============================] - 0s 3ms/step - loss: 56.7691\n",
      "Epoch 61/100\n",
      "13/13 [==============================] - 0s 3ms/step - loss: 56.5879\n",
      "Epoch 62/100\n",
      "13/13 [==============================] - 0s 3ms/step - loss: 56.3157\n",
      "Epoch 63/100\n",
      "13/13 [==============================] - 0s 3ms/step - loss: 56.0897\n",
      "Epoch 64/100\n",
      "13/13 [==============================] - 0s 3ms/step - loss: 55.7820\n",
      "Epoch 65/100\n",
      "13/13 [==============================] - 0s 3ms/step - loss: 55.7421\n",
      "Epoch 66/100\n",
      "13/13 [==============================] - 0s 3ms/step - loss: 55.4183\n",
      "Epoch 67/100\n",
      "13/13 [==============================] - 0s 3ms/step - loss: 55.4865\n",
      "Epoch 68/100\n",
      "13/13 [==============================] - 0s 3ms/step - loss: 54.9361\n",
      "Epoch 69/100\n",
      "13/13 [==============================] - 0s 3ms/step - loss: 54.9821\n",
      "Epoch 70/100\n",
      "13/13 [==============================] - 0s 3ms/step - loss: 55.0090\n",
      "Epoch 71/100\n",
      "13/13 [==============================] - 0s 3ms/step - loss: 54.7845\n",
      "Epoch 72/100\n",
      "13/13 [==============================] - 0s 3ms/step - loss: 54.4058\n",
      "Epoch 73/100\n",
      "13/13 [==============================] - 0s 3ms/step - loss: 54.2101\n",
      "Epoch 74/100\n",
      "13/13 [==============================] - 0s 3ms/step - loss: 54.4081\n",
      "Epoch 75/100\n",
      "13/13 [==============================] - 0s 3ms/step - loss: 54.1063\n",
      "Epoch 76/100\n",
      "13/13 [==============================] - 0s 3ms/step - loss: 53.9701\n",
      "Epoch 77/100\n",
      "13/13 [==============================] - 0s 3ms/step - loss: 53.6892\n",
      "Epoch 78/100\n",
      "13/13 [==============================] - 0s 3ms/step - loss: 53.7850\n",
      "Epoch 79/100\n",
      "13/13 [==============================] - 0s 3ms/step - loss: 54.8496\n",
      "Epoch 80/100\n",
      "13/13 [==============================] - 0s 3ms/step - loss: 54.2303\n",
      "Epoch 81/100\n",
      "13/13 [==============================] - 0s 3ms/step - loss: 54.5611\n",
      "Epoch 82/100\n",
      "13/13 [==============================] - 0s 3ms/step - loss: 53.0629\n",
      "Epoch 83/100\n",
      "13/13 [==============================] - 0s 3ms/step - loss: 53.1146\n",
      "Epoch 84/100\n",
      "13/13 [==============================] - 0s 3ms/step - loss: 52.9946\n",
      "Epoch 85/100\n",
      "13/13 [==============================] - 0s 3ms/step - loss: 52.9074\n",
      "Epoch 86/100\n",
      "13/13 [==============================] - 0s 3ms/step - loss: 52.7615\n",
      "Epoch 87/100\n",
      "13/13 [==============================] - 0s 3ms/step - loss: 52.7605\n",
      "Epoch 88/100\n",
      "13/13 [==============================] - 0s 3ms/step - loss: 52.4851\n",
      "Epoch 89/100\n",
      "13/13 [==============================] - 0s 3ms/step - loss: 52.5932\n",
      "Epoch 90/100\n",
      "13/13 [==============================] - 0s 3ms/step - loss: 52.5499\n",
      "Epoch 91/100\n",
      "13/13 [==============================] - 0s 3ms/step - loss: 52.3533\n",
      "Epoch 92/100\n",
      "13/13 [==============================] - 0s 3ms/step - loss: 52.1534\n",
      "Epoch 93/100\n",
      "13/13 [==============================] - 0s 3ms/step - loss: 52.0850\n",
      "Epoch 94/100\n",
      "13/13 [==============================] - 0s 3ms/step - loss: 52.0864\n",
      "Epoch 95/100\n",
      "13/13 [==============================] - 0s 3ms/step - loss: 52.1759\n",
      "Epoch 96/100\n",
      "13/13 [==============================] - 0s 3ms/step - loss: 51.8018\n",
      "Epoch 97/100\n",
      "13/13 [==============================] - 0s 3ms/step - loss: 51.5521\n",
      "Epoch 98/100\n",
      "13/13 [==============================] - 0s 3ms/step - loss: 51.6047\n",
      "Epoch 99/100\n",
      "13/13 [==============================] - 0s 3ms/step - loss: 51.4997\n",
      "Epoch 100/100\n",
      "13/13 [==============================] - 0s 3ms/step - loss: 51.5287\n"
     ]
    },
    {
     "data": {
      "text/plain": [
       "<keras.callbacks.History at 0x7f71ea4b0fd0>"
      ]
     },
     "execution_count": 8,
     "metadata": {},
     "output_type": "execute_result"
    }
   ],
   "source": [
    "# Compile and train the model\n",
    "model.compile(optimizer='adam', loss='mse')\n",
    "model.fit(features_train, actual_prices_train, epochs=100)             # as we increase the epochs value we can observe that the loss funtion is nearing to the value zero.\n"
   ]
  },
  {
   "cell_type": "code",
   "execution_count": 12,
   "metadata": {
    "colab": {
     "base_uri": "https://localhost:8080/"
    },
    "id": "wI_7nWdLiAY9",
    "outputId": "acc536f7-d170-4a52-b892-ab7d7c23a34e"
   },
   "outputs": [
    {
     "name": "stdout",
     "output_type": "stream",
     "text": [
      "Model: \"sequential_1\"\n",
      "_________________________________________________________________\n",
      " Layer (type)                Output Shape              Param #   \n",
      "=================================================================\n",
      " dense_4 (Dense)             (None, 10)                140       \n",
      "                                                                 \n",
      " dense_5 (Dense)             (None, 10)                110       \n",
      "                                                                 \n",
      " dense_6 (Dense)             (None, 1)                 11        \n",
      "                                                                 \n",
      "=================================================================\n",
      "Total params: 261\n",
      "Trainable params: 261\n",
      "Non-trainable params: 0\n",
      "_________________________________________________________________\n"
     ]
    }
   ],
   "source": [
    "model.summary()"
   ]
  },
  {
   "cell_type": "markdown",
   "metadata": {
    "id": "JOSpTOaxkdW4"
   },
   "source": [
    "In this project, we developed a deep learning model for Boston Housing price prediction. The model consisted of three \n",
    "hidden layers with 10 units each and used batch normalization to improve performance and stability. We trained the model \n",
    "using the Adam optimizer and mean squared error (MSE) loss function. The model achieved satisfactory results in predicting \n",
    "housing prices based on the given features. Overall, this model demonstrates the effectiveness of deep learning in regression\n",
    "tasks such as housing price prediction.\n"
   ]
  },
  {
   "cell_type": "code",
   "execution_count": null,
   "metadata": {
    "id": "YL7QnbLXiAdv"
   },
   "outputs": [],
   "source": []
  }
 ],
 "metadata": {
  "accelerator": "GPU",
  "colab": {
   "gpuType": "T4",
   "provenance": []
  },
  "kernelspec": {
   "display_name": "Python 3 (ipykernel)",
   "language": "python",
   "name": "python3"
  },
  "language_info": {
   "codemirror_mode": {
    "name": "ipython",
    "version": 3
   },
   "file_extension": ".py",
   "mimetype": "text/x-python",
   "name": "python",
   "nbconvert_exporter": "python",
   "pygments_lexer": "ipython3",
   "version": "3.9.13"
  }
 },
 "nbformat": 4,
 "nbformat_minor": 1
}
