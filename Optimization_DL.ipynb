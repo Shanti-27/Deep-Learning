{
  "nbformat": 4,
  "nbformat_minor": 0,
  "metadata": {
    "colab": {
      "provenance": []
    },
    "kernelspec": {
      "name": "python3",
      "display_name": "Python 3"
    },
    "language_info": {
      "name": "python"
    }
  },
  "cells": [
    {
      "cell_type": "code",
      "execution_count": 3,
      "metadata": {
        "id": "mrSBwH6erIIx"
      },
      "outputs": [],
      "source": [
        "import tensorflow as tf\n",
        "from tensorflow import keras\n",
        "from keras.datasets import mnist\n",
        "from keras.models import Sequential\n",
        "from keras.models import Sequential\n",
        "from keras.layers import Dense, Dropout, Flatten"
      ]
    },
    {
      "cell_type": "code",
      "source": [
        "# import dataset\n",
        "# https://keras.io/api/datasets/mnist/ -----"
      ],
      "metadata": {
        "id": "LMxqM8pqrknZ"
      },
      "execution_count": null,
      "outputs": []
    },
    {
      "cell_type": "code",
      "source": [
        "(x_train, y_train), (x_test, y_test) = mnist.load_data()\n"
      ],
      "metadata": {
        "colab": {
          "base_uri": "https://localhost:8080/"
        },
        "id": "sQKNBbvxrkpC",
        "outputId": "e70a189f-5c5d-4aae-aae7-99a2804606a0"
      },
      "execution_count": 4,
      "outputs": [
        {
          "output_type": "stream",
          "name": "stdout",
          "text": [
            "Downloading data from https://storage.googleapis.com/tensorflow/tf-keras-datasets/mnist.npz\n",
            "11490434/11490434 [==============================] - 0s 0us/step\n"
          ]
        }
      ]
    },
    {
      "cell_type": "code",
      "source": [
        "print(x_train.shape , y_train.shape)\n",
        "print(x_test.shape, y_test.shape)\n"
      ],
      "metadata": {
        "colab": {
          "base_uri": "https://localhost:8080/"
        },
        "id": "FCxxClOcrksL",
        "outputId": "224c3735-60a3-4dae-8ee4-8dc157af5083"
      },
      "execution_count": 5,
      "outputs": [
        {
          "output_type": "stream",
          "name": "stdout",
          "text": [
            "(60000, 28, 28) (60000,)\n",
            "(10000, 28, 28) (10000,)\n"
          ]
        }
      ]
    },
    {
      "cell_type": "code",
      "source": [
        "x_train.shape[0]"
      ],
      "metadata": {
        "colab": {
          "base_uri": "https://localhost:8080/"
        },
        "id": "d2oCfXxPrktw",
        "outputId": "257dfaad-b3b1-4509-f3da-e7d9e59cd6aa"
      },
      "execution_count": 6,
      "outputs": [
        {
          "output_type": "execute_result",
          "data": {
            "text/plain": [
              "60000"
            ]
          },
          "metadata": {},
          "execution_count": 6
        }
      ]
    },
    {
      "cell_type": "code",
      "source": [
        "x_train = x_train.reshape(x_train.shape[0], 28,28,1)\n",
        "x_test = x_test.reshape(x_test.shape[0], 28,28,1)\n",
        "input_shape = (28,28,1)\n",
        "y_train = keras.utils.to_categorical(y_train)\n",
        "y_test = keras.utils.to_categorical(y_test)"
      ],
      "metadata": {
        "id": "UF32U7Xorkw6"
      },
      "execution_count": 8,
      "outputs": []
    },
    {
      "cell_type": "markdown",
      "source": [
        "# Preprocessing - Min-Max approach (pixel range is 0 to 255, after min-max approcach range is 0 to 1)"
      ],
      "metadata": {
        "id": "y1F2T4apu7F3"
      }
    },
    {
      "cell_type": "code",
      "source": [
        "x_train = x_train/255.0\n",
        "x_test = x_test/255.0"
      ],
      "metadata": {
        "id": "FRKCTY38rkyi"
      },
      "execution_count": 9,
      "outputs": []
    },
    {
      "cell_type": "markdown",
      "source": [
        "# Building a Model"
      ],
      "metadata": {
        "id": "Us5n0lAPvn2N"
      }
    },
    {
      "cell_type": "code",
      "source": [
        "def build_model(optimizer):\n",
        "  model = Sequential()\n",
        "  model.add(Flatten())               # 2D to 1D (matrix to vector)\n",
        "  model.add(Dense(256, activation='relu', input_shape=input_shape))\n",
        "  model.add(Dropout(0.25))\n",
        "  model.add(Dense(256, activation='relu'))\n",
        "  model.add(Dropout(0.5))\n",
        "  model.add(Dense(10, activation='softmax'))          # multiclass --- activation is softmax (give probability value for all the 10 classes)\n",
        "  model.compile(optimizer=optimizer, loss=keras.losses.categorical_crossentropy, metrics=['accuracy'])\n",
        "  return model\n"
      ],
      "metadata": {
        "id": "q9NUb9lark1w"
      },
      "execution_count": 17,
      "outputs": []
    },
    {
      "cell_type": "code",
      "source": [
        "# Train the model\n",
        "optimizers = ['SGD', 'Adagrad', 'Adadelta', 'RMSprop', 'Adam']\n",
        "\n",
        "for i in optimizers:\n",
        "  model = build_model(i)\n",
        "  history = model.fit(x_train, y_train, validation_data=(x_test, y_test), batch_size=64, epochs=10, verbose=1, shuffle=True)\n"
      ],
      "metadata": {
        "colab": {
          "base_uri": "https://localhost:8080/"
        },
        "id": "hvynDPujrk3J",
        "outputId": "ce65f3f1-706f-4559-c343-f98d9e9ebd71"
      },
      "execution_count": 20,
      "outputs": [
        {
          "output_type": "stream",
          "name": "stdout",
          "text": [
            "Epoch 1/10\n",
            "938/938 [==============================] - 9s 9ms/step - loss: 1.0987 - accuracy: 0.6659 - val_loss: 0.4390 - val_accuracy: 0.8834\n",
            "Epoch 2/10\n",
            "938/938 [==============================] - 7s 7ms/step - loss: 0.5307 - accuracy: 0.8416 - val_loss: 0.3324 - val_accuracy: 0.9055\n",
            "Epoch 3/10\n",
            "938/938 [==============================] - 8s 8ms/step - loss: 0.4263 - accuracy: 0.8741 - val_loss: 0.2840 - val_accuracy: 0.9177\n",
            "Epoch 4/10\n",
            "938/938 [==============================] - 7s 8ms/step - loss: 0.3696 - accuracy: 0.8934 - val_loss: 0.2513 - val_accuracy: 0.9267\n",
            "Epoch 5/10\n",
            "938/938 [==============================] - 7s 7ms/step - loss: 0.3310 - accuracy: 0.9024 - val_loss: 0.2294 - val_accuracy: 0.9314\n",
            "Epoch 6/10\n",
            "938/938 [==============================] - 8s 8ms/step - loss: 0.3033 - accuracy: 0.9104 - val_loss: 0.2098 - val_accuracy: 0.9370\n",
            "Epoch 7/10\n",
            "938/938 [==============================] - 7s 7ms/step - loss: 0.2834 - accuracy: 0.9171 - val_loss: 0.1930 - val_accuracy: 0.9417\n",
            "Epoch 8/10\n",
            "938/938 [==============================] - 8s 8ms/step - loss: 0.2630 - accuracy: 0.9230 - val_loss: 0.1839 - val_accuracy: 0.9430\n",
            "Epoch 9/10\n",
            "938/938 [==============================] - 7s 7ms/step - loss: 0.2494 - accuracy: 0.9276 - val_loss: 0.1706 - val_accuracy: 0.9477\n",
            "Epoch 10/10\n",
            "938/938 [==============================] - 8s 8ms/step - loss: 0.2337 - accuracy: 0.9313 - val_loss: 0.1614 - val_accuracy: 0.9496\n",
            "Epoch 1/10\n",
            "938/938 [==============================] - 10s 10ms/step - loss: 1.8332 - accuracy: 0.4100 - val_loss: 1.1490 - val_accuracy: 0.7994\n",
            "Epoch 2/10\n",
            "938/938 [==============================] - 7s 8ms/step - loss: 1.0693 - accuracy: 0.6872 - val_loss: 0.6643 - val_accuracy: 0.8553\n",
            "Epoch 3/10\n",
            "938/938 [==============================] - 8s 9ms/step - loss: 0.7932 - accuracy: 0.7614 - val_loss: 0.5140 - val_accuracy: 0.8730\n",
            "Epoch 4/10\n",
            "938/938 [==============================] - 8s 8ms/step - loss: 0.6758 - accuracy: 0.7947 - val_loss: 0.4444 - val_accuracy: 0.8866\n",
            "Epoch 5/10\n",
            "938/938 [==============================] - 8s 8ms/step - loss: 0.5986 - accuracy: 0.8193 - val_loss: 0.4024 - val_accuracy: 0.8942\n",
            "Epoch 6/10\n",
            "938/938 [==============================] - 9s 10ms/step - loss: 0.5552 - accuracy: 0.8329 - val_loss: 0.3743 - val_accuracy: 0.8995\n",
            "Epoch 7/10\n",
            "938/938 [==============================] - 7s 8ms/step - loss: 0.5195 - accuracy: 0.8452 - val_loss: 0.3540 - val_accuracy: 0.9040\n",
            "Epoch 8/10\n",
            "938/938 [==============================] - 8s 9ms/step - loss: 0.4885 - accuracy: 0.8555 - val_loss: 0.3372 - val_accuracy: 0.9069\n",
            "Epoch 9/10\n",
            "938/938 [==============================] - 8s 9ms/step - loss: 0.4721 - accuracy: 0.8615 - val_loss: 0.3240 - val_accuracy: 0.9100\n",
            "Epoch 10/10\n",
            "938/938 [==============================] - 8s 8ms/step - loss: 0.4538 - accuracy: 0.8670 - val_loss: 0.3131 - val_accuracy: 0.9126\n",
            "Epoch 1/10\n",
            "938/938 [==============================] - 11s 10ms/step - loss: 2.3379 - accuracy: 0.1102 - val_loss: 2.2372 - val_accuracy: 0.1771\n",
            "Epoch 2/10\n",
            "938/938 [==============================] - 10s 10ms/step - loss: 2.2618 - accuracy: 0.1503 - val_loss: 2.1610 - val_accuracy: 0.3274\n",
            "Epoch 3/10\n",
            "938/938 [==============================] - 9s 10ms/step - loss: 2.1910 - accuracy: 0.2006 - val_loss: 2.0870 - val_accuracy: 0.4536\n",
            "Epoch 4/10\n",
            "938/938 [==============================] - 9s 10ms/step - loss: 2.1248 - accuracy: 0.2549 - val_loss: 2.0124 - val_accuracy: 0.5468\n",
            "Epoch 5/10\n",
            "938/938 [==============================] - 10s 10ms/step - loss: 2.0568 - accuracy: 0.3081 - val_loss: 1.9363 - val_accuracy: 0.6090\n",
            "Epoch 6/10\n",
            "938/938 [==============================] - 10s 10ms/step - loss: 1.9862 - accuracy: 0.3624 - val_loss: 1.8576 - val_accuracy: 0.6487\n",
            "Epoch 7/10\n",
            "938/938 [==============================] - 8s 9ms/step - loss: 1.9179 - accuracy: 0.4075 - val_loss: 1.7770 - val_accuracy: 0.6795\n",
            "Epoch 8/10\n",
            "938/938 [==============================] - 10s 11ms/step - loss: 1.8494 - accuracy: 0.4487 - val_loss: 1.6954 - val_accuracy: 0.7024\n",
            "Epoch 9/10\n",
            "938/938 [==============================] - 10s 10ms/step - loss: 1.7808 - accuracy: 0.4809 - val_loss: 1.6132 - val_accuracy: 0.7198\n",
            "Epoch 10/10\n",
            "938/938 [==============================] - 10s 10ms/step - loss: 1.7113 - accuracy: 0.5109 - val_loss: 1.5313 - val_accuracy: 0.7360\n",
            "Epoch 1/10\n",
            "938/938 [==============================] - 9s 8ms/step - loss: 0.3147 - accuracy: 0.9060 - val_loss: 0.1314 - val_accuracy: 0.9592\n",
            "Epoch 2/10\n",
            "938/938 [==============================] - 9s 9ms/step - loss: 0.1472 - accuracy: 0.9569 - val_loss: 0.1079 - val_accuracy: 0.9682\n",
            "Epoch 3/10\n",
            "938/938 [==============================] - 9s 9ms/step - loss: 0.1197 - accuracy: 0.9660 - val_loss: 0.0896 - val_accuracy: 0.9754\n",
            "Epoch 4/10\n",
            "938/938 [==============================] - 8s 8ms/step - loss: 0.1078 - accuracy: 0.9699 - val_loss: 0.0914 - val_accuracy: 0.9756\n",
            "Epoch 5/10\n",
            "938/938 [==============================] - 9s 10ms/step - loss: 0.0939 - accuracy: 0.9744 - val_loss: 0.0895 - val_accuracy: 0.9772\n",
            "Epoch 6/10\n",
            "938/938 [==============================] - 9s 9ms/step - loss: 0.0865 - accuracy: 0.9762 - val_loss: 0.0780 - val_accuracy: 0.9811\n",
            "Epoch 7/10\n",
            "938/938 [==============================] - 8s 8ms/step - loss: 0.0816 - accuracy: 0.9787 - val_loss: 0.0842 - val_accuracy: 0.9785\n",
            "Epoch 8/10\n",
            "938/938 [==============================] - 9s 9ms/step - loss: 0.0743 - accuracy: 0.9803 - val_loss: 0.0887 - val_accuracy: 0.9798\n",
            "Epoch 9/10\n",
            "938/938 [==============================] - 9s 10ms/step - loss: 0.0715 - accuracy: 0.9814 - val_loss: 0.0973 - val_accuracy: 0.9784\n",
            "Epoch 10/10\n",
            "938/938 [==============================] - 8s 8ms/step - loss: 0.0668 - accuracy: 0.9824 - val_loss: 0.0898 - val_accuracy: 0.9814\n",
            "Epoch 1/10\n",
            "938/938 [==============================] - 10s 10ms/step - loss: 0.3187 - accuracy: 0.9028 - val_loss: 0.1180 - val_accuracy: 0.9625\n",
            "Epoch 2/10\n",
            "938/938 [==============================] - 9s 10ms/step - loss: 0.1444 - accuracy: 0.9569 - val_loss: 0.0940 - val_accuracy: 0.9707\n",
            "Epoch 3/10\n",
            "938/938 [==============================] - 8s 8ms/step - loss: 0.1106 - accuracy: 0.9660 - val_loss: 0.0765 - val_accuracy: 0.9764\n",
            "Epoch 4/10\n",
            "938/938 [==============================] - 9s 10ms/step - loss: 0.0908 - accuracy: 0.9719 - val_loss: 0.0738 - val_accuracy: 0.9786\n",
            "Epoch 5/10\n",
            "938/938 [==============================] - 9s 10ms/step - loss: 0.0789 - accuracy: 0.9759 - val_loss: 0.0667 - val_accuracy: 0.9803\n",
            "Epoch 6/10\n",
            "938/938 [==============================] - 8s 9ms/step - loss: 0.0706 - accuracy: 0.9778 - val_loss: 0.0710 - val_accuracy: 0.9789\n",
            "Epoch 7/10\n",
            "938/938 [==============================] - 9s 10ms/step - loss: 0.0639 - accuracy: 0.9795 - val_loss: 0.0689 - val_accuracy: 0.9802\n",
            "Epoch 8/10\n",
            "938/938 [==============================] - 9s 10ms/step - loss: 0.0600 - accuracy: 0.9809 - val_loss: 0.0672 - val_accuracy: 0.9801\n",
            "Epoch 9/10\n",
            "938/938 [==============================] - 8s 8ms/step - loss: 0.0523 - accuracy: 0.9832 - val_loss: 0.0655 - val_accuracy: 0.9823\n",
            "Epoch 10/10\n",
            "938/938 [==============================] - 9s 9ms/step - loss: 0.0526 - accuracy: 0.9836 - val_loss: 0.0765 - val_accuracy: 0.9790\n"
          ]
        }
      ]
    },
    {
      "cell_type": "markdown",
      "source": [
        "After evaluating the performance of each optimizer on the validation dataset, it was observed that the optimizer \"Adam\" achieved the highest validation accuracy among all the optimizers tested. This indicates that the Adam optimizer performed the best in terms of optimizing the model's parameters and achieving higher accuracy on unseen data.\n",
        "\n"
      ],
      "metadata": {
        "id": "CRTLlOhM2DaK"
      }
    },
    {
      "cell_type": "code",
      "source": [],
      "metadata": {
        "id": "FXMDBw-Wrk6i"
      },
      "execution_count": null,
      "outputs": []
    },
    {
      "cell_type": "code",
      "source": [],
      "metadata": {
        "id": "WKxTo3Bjrk7x"
      },
      "execution_count": null,
      "outputs": []
    },
    {
      "cell_type": "code",
      "source": [],
      "metadata": {
        "id": "ylatk97wrk_R"
      },
      "execution_count": null,
      "outputs": []
    },
    {
      "cell_type": "code",
      "source": [],
      "metadata": {
        "id": "tYCLbP0nrlAl"
      },
      "execution_count": null,
      "outputs": []
    },
    {
      "cell_type": "code",
      "source": [],
      "metadata": {
        "id": "V4bKLvs9rlDu"
      },
      "execution_count": null,
      "outputs": []
    },
    {
      "cell_type": "code",
      "source": [],
      "metadata": {
        "id": "PukQuogurlFY"
      },
      "execution_count": null,
      "outputs": []
    },
    {
      "cell_type": "code",
      "source": [],
      "metadata": {
        "id": "j9JZ3oDDrlJB"
      },
      "execution_count": null,
      "outputs": []
    }
  ]
}