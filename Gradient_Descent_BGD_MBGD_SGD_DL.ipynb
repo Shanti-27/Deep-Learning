{
  "nbformat": 4,
  "nbformat_minor": 0,
  "metadata": {
    "colab": {
      "provenance": [],
      "gpuType": "T4"
    },
    "kernelspec": {
      "name": "python3",
      "display_name": "Python 3"
    },
    "language_info": {
      "name": "python"
    },
    "accelerator": "GPU"
  },
  "cells": [
    {
      "cell_type": "code",
      "source": [
        "pip install mlxtend --upgrade --no-deps"
      ],
      "metadata": {
        "colab": {
          "base_uri": "https://localhost:8080/"
        },
        "id": "JMhQLKdbtsEA",
        "outputId": "1c63ee44-7a43-404a-e479-142e00cf6d14"
      },
      "execution_count": 61,
      "outputs": [
        {
          "output_type": "stream",
          "name": "stdout",
          "text": [
            "Looking in indexes: https://pypi.org/simple, https://us-python.pkg.dev/colab-wheels/public/simple/\n",
            "Requirement already satisfied: mlxtend in /usr/local/lib/python3.10/dist-packages (0.22.0)\n"
          ]
        }
      ]
    },
    {
      "cell_type": "code",
      "source": [
        "import numpy as np\n",
        "import pandas as pd\n",
        "import matplotlib.pyplot as plt\n",
        "import seaborn as sns\n",
        "import time"
      ],
      "metadata": {
        "id": "olatOIbftsFX"
      },
      "execution_count": 62,
      "outputs": []
    },
    {
      "cell_type": "code",
      "source": [
        "df = pd.read_csv('/content/Social_Network_Ads.csv')\n",
        "df.head()"
      ],
      "metadata": {
        "colab": {
          "base_uri": "https://localhost:8080/",
          "height": 206
        },
        "id": "m5Fg799CtsIw",
        "outputId": "e13457a8-f25f-4143-c293-d2769f4cdca1"
      },
      "execution_count": 63,
      "outputs": [
        {
          "output_type": "execute_result",
          "data": {
            "text/plain": [
              "    User ID  Gender  Age  EstimatedSalary  Purchased\n",
              "0  15624510    Male   19            19000          0\n",
              "1  15810944    Male   35            20000          0\n",
              "2  15668575  Female   26            43000          0\n",
              "3  15603246  Female   27            57000          0\n",
              "4  15804002    Male   19            76000          0"
            ],
            "text/html": [
              "\n",
              "  <div id=\"df-73700668-0824-41ba-943f-109fee5dbe1b\">\n",
              "    <div class=\"colab-df-container\">\n",
              "      <div>\n",
              "<style scoped>\n",
              "    .dataframe tbody tr th:only-of-type {\n",
              "        vertical-align: middle;\n",
              "    }\n",
              "\n",
              "    .dataframe tbody tr th {\n",
              "        vertical-align: top;\n",
              "    }\n",
              "\n",
              "    .dataframe thead th {\n",
              "        text-align: right;\n",
              "    }\n",
              "</style>\n",
              "<table border=\"1\" class=\"dataframe\">\n",
              "  <thead>\n",
              "    <tr style=\"text-align: right;\">\n",
              "      <th></th>\n",
              "      <th>User ID</th>\n",
              "      <th>Gender</th>\n",
              "      <th>Age</th>\n",
              "      <th>EstimatedSalary</th>\n",
              "      <th>Purchased</th>\n",
              "    </tr>\n",
              "  </thead>\n",
              "  <tbody>\n",
              "    <tr>\n",
              "      <th>0</th>\n",
              "      <td>15624510</td>\n",
              "      <td>Male</td>\n",
              "      <td>19</td>\n",
              "      <td>19000</td>\n",
              "      <td>0</td>\n",
              "    </tr>\n",
              "    <tr>\n",
              "      <th>1</th>\n",
              "      <td>15810944</td>\n",
              "      <td>Male</td>\n",
              "      <td>35</td>\n",
              "      <td>20000</td>\n",
              "      <td>0</td>\n",
              "    </tr>\n",
              "    <tr>\n",
              "      <th>2</th>\n",
              "      <td>15668575</td>\n",
              "      <td>Female</td>\n",
              "      <td>26</td>\n",
              "      <td>43000</td>\n",
              "      <td>0</td>\n",
              "    </tr>\n",
              "    <tr>\n",
              "      <th>3</th>\n",
              "      <td>15603246</td>\n",
              "      <td>Female</td>\n",
              "      <td>27</td>\n",
              "      <td>57000</td>\n",
              "      <td>0</td>\n",
              "    </tr>\n",
              "    <tr>\n",
              "      <th>4</th>\n",
              "      <td>15804002</td>\n",
              "      <td>Male</td>\n",
              "      <td>19</td>\n",
              "      <td>76000</td>\n",
              "      <td>0</td>\n",
              "    </tr>\n",
              "  </tbody>\n",
              "</table>\n",
              "</div>\n",
              "      <button class=\"colab-df-convert\" onclick=\"convertToInteractive('df-73700668-0824-41ba-943f-109fee5dbe1b')\"\n",
              "              title=\"Convert this dataframe to an interactive table.\"\n",
              "              style=\"display:none;\">\n",
              "        \n",
              "  <svg xmlns=\"http://www.w3.org/2000/svg\" height=\"24px\"viewBox=\"0 0 24 24\"\n",
              "       width=\"24px\">\n",
              "    <path d=\"M0 0h24v24H0V0z\" fill=\"none\"/>\n",
              "    <path d=\"M18.56 5.44l.94 2.06.94-2.06 2.06-.94-2.06-.94-.94-2.06-.94 2.06-2.06.94zm-11 1L8.5 8.5l.94-2.06 2.06-.94-2.06-.94L8.5 2.5l-.94 2.06-2.06.94zm10 10l.94 2.06.94-2.06 2.06-.94-2.06-.94-.94-2.06-.94 2.06-2.06.94z\"/><path d=\"M17.41 7.96l-1.37-1.37c-.4-.4-.92-.59-1.43-.59-.52 0-1.04.2-1.43.59L10.3 9.45l-7.72 7.72c-.78.78-.78 2.05 0 2.83L4 21.41c.39.39.9.59 1.41.59.51 0 1.02-.2 1.41-.59l7.78-7.78 2.81-2.81c.8-.78.8-2.07 0-2.86zM5.41 20L4 18.59l7.72-7.72 1.47 1.35L5.41 20z\"/>\n",
              "  </svg>\n",
              "      </button>\n",
              "      \n",
              "  <style>\n",
              "    .colab-df-container {\n",
              "      display:flex;\n",
              "      flex-wrap:wrap;\n",
              "      gap: 12px;\n",
              "    }\n",
              "\n",
              "    .colab-df-convert {\n",
              "      background-color: #E8F0FE;\n",
              "      border: none;\n",
              "      border-radius: 50%;\n",
              "      cursor: pointer;\n",
              "      display: none;\n",
              "      fill: #1967D2;\n",
              "      height: 32px;\n",
              "      padding: 0 0 0 0;\n",
              "      width: 32px;\n",
              "    }\n",
              "\n",
              "    .colab-df-convert:hover {\n",
              "      background-color: #E2EBFA;\n",
              "      box-shadow: 0px 1px 2px rgba(60, 64, 67, 0.3), 0px 1px 3px 1px rgba(60, 64, 67, 0.15);\n",
              "      fill: #174EA6;\n",
              "    }\n",
              "\n",
              "    [theme=dark] .colab-df-convert {\n",
              "      background-color: #3B4455;\n",
              "      fill: #D2E3FC;\n",
              "    }\n",
              "\n",
              "    [theme=dark] .colab-df-convert:hover {\n",
              "      background-color: #434B5C;\n",
              "      box-shadow: 0px 1px 3px 1px rgba(0, 0, 0, 0.15);\n",
              "      filter: drop-shadow(0px 1px 2px rgba(0, 0, 0, 0.3));\n",
              "      fill: #FFFFFF;\n",
              "    }\n",
              "  </style>\n",
              "\n",
              "      <script>\n",
              "        const buttonEl =\n",
              "          document.querySelector('#df-73700668-0824-41ba-943f-109fee5dbe1b button.colab-df-convert');\n",
              "        buttonEl.style.display =\n",
              "          google.colab.kernel.accessAllowed ? 'block' : 'none';\n",
              "\n",
              "        async function convertToInteractive(key) {\n",
              "          const element = document.querySelector('#df-73700668-0824-41ba-943f-109fee5dbe1b');\n",
              "          const dataTable =\n",
              "            await google.colab.kernel.invokeFunction('convertToInteractive',\n",
              "                                                     [key], {});\n",
              "          if (!dataTable) return;\n",
              "\n",
              "          const docLinkHtml = 'Like what you see? Visit the ' +\n",
              "            '<a target=\"_blank\" href=https://colab.research.google.com/notebooks/data_table.ipynb>data table notebook</a>'\n",
              "            + ' to learn more about interactive tables.';\n",
              "          element.innerHTML = '';\n",
              "          dataTable['output_type'] = 'display_data';\n",
              "          await google.colab.output.renderOutput(dataTable, element);\n",
              "          const docLink = document.createElement('div');\n",
              "          docLink.innerHTML = docLinkHtml;\n",
              "          element.appendChild(docLink);\n",
              "        }\n",
              "      </script>\n",
              "    </div>\n",
              "  </div>\n",
              "  "
            ]
          },
          "metadata": {},
          "execution_count": 63
        }
      ]
    },
    {
      "cell_type": "code",
      "source": [
        "df = df.iloc[:,2:]"
      ],
      "metadata": {
        "id": "m8ABoXdutsKh"
      },
      "execution_count": 64,
      "outputs": []
    },
    {
      "cell_type": "code",
      "source": [
        "df.head()"
      ],
      "metadata": {
        "colab": {
          "base_uri": "https://localhost:8080/",
          "height": 206
        },
        "id": "c7WSbOMdtsNn",
        "outputId": "2aae7553-a694-4840-98a0-89bb71295221"
      },
      "execution_count": 65,
      "outputs": [
        {
          "output_type": "execute_result",
          "data": {
            "text/plain": [
              "   Age  EstimatedSalary  Purchased\n",
              "0   19            19000          0\n",
              "1   35            20000          0\n",
              "2   26            43000          0\n",
              "3   27            57000          0\n",
              "4   19            76000          0"
            ],
            "text/html": [
              "\n",
              "  <div id=\"df-5772cd28-27f1-41d7-80b9-85cbfdbf9003\">\n",
              "    <div class=\"colab-df-container\">\n",
              "      <div>\n",
              "<style scoped>\n",
              "    .dataframe tbody tr th:only-of-type {\n",
              "        vertical-align: middle;\n",
              "    }\n",
              "\n",
              "    .dataframe tbody tr th {\n",
              "        vertical-align: top;\n",
              "    }\n",
              "\n",
              "    .dataframe thead th {\n",
              "        text-align: right;\n",
              "    }\n",
              "</style>\n",
              "<table border=\"1\" class=\"dataframe\">\n",
              "  <thead>\n",
              "    <tr style=\"text-align: right;\">\n",
              "      <th></th>\n",
              "      <th>Age</th>\n",
              "      <th>EstimatedSalary</th>\n",
              "      <th>Purchased</th>\n",
              "    </tr>\n",
              "  </thead>\n",
              "  <tbody>\n",
              "    <tr>\n",
              "      <th>0</th>\n",
              "      <td>19</td>\n",
              "      <td>19000</td>\n",
              "      <td>0</td>\n",
              "    </tr>\n",
              "    <tr>\n",
              "      <th>1</th>\n",
              "      <td>35</td>\n",
              "      <td>20000</td>\n",
              "      <td>0</td>\n",
              "    </tr>\n",
              "    <tr>\n",
              "      <th>2</th>\n",
              "      <td>26</td>\n",
              "      <td>43000</td>\n",
              "      <td>0</td>\n",
              "    </tr>\n",
              "    <tr>\n",
              "      <th>3</th>\n",
              "      <td>27</td>\n",
              "      <td>57000</td>\n",
              "      <td>0</td>\n",
              "    </tr>\n",
              "    <tr>\n",
              "      <th>4</th>\n",
              "      <td>19</td>\n",
              "      <td>76000</td>\n",
              "      <td>0</td>\n",
              "    </tr>\n",
              "  </tbody>\n",
              "</table>\n",
              "</div>\n",
              "      <button class=\"colab-df-convert\" onclick=\"convertToInteractive('df-5772cd28-27f1-41d7-80b9-85cbfdbf9003')\"\n",
              "              title=\"Convert this dataframe to an interactive table.\"\n",
              "              style=\"display:none;\">\n",
              "        \n",
              "  <svg xmlns=\"http://www.w3.org/2000/svg\" height=\"24px\"viewBox=\"0 0 24 24\"\n",
              "       width=\"24px\">\n",
              "    <path d=\"M0 0h24v24H0V0z\" fill=\"none\"/>\n",
              "    <path d=\"M18.56 5.44l.94 2.06.94-2.06 2.06-.94-2.06-.94-.94-2.06-.94 2.06-2.06.94zm-11 1L8.5 8.5l.94-2.06 2.06-.94-2.06-.94L8.5 2.5l-.94 2.06-2.06.94zm10 10l.94 2.06.94-2.06 2.06-.94-2.06-.94-.94-2.06-.94 2.06-2.06.94z\"/><path d=\"M17.41 7.96l-1.37-1.37c-.4-.4-.92-.59-1.43-.59-.52 0-1.04.2-1.43.59L10.3 9.45l-7.72 7.72c-.78.78-.78 2.05 0 2.83L4 21.41c.39.39.9.59 1.41.59.51 0 1.02-.2 1.41-.59l7.78-7.78 2.81-2.81c.8-.78.8-2.07 0-2.86zM5.41 20L4 18.59l7.72-7.72 1.47 1.35L5.41 20z\"/>\n",
              "  </svg>\n",
              "      </button>\n",
              "      \n",
              "  <style>\n",
              "    .colab-df-container {\n",
              "      display:flex;\n",
              "      flex-wrap:wrap;\n",
              "      gap: 12px;\n",
              "    }\n",
              "\n",
              "    .colab-df-convert {\n",
              "      background-color: #E8F0FE;\n",
              "      border: none;\n",
              "      border-radius: 50%;\n",
              "      cursor: pointer;\n",
              "      display: none;\n",
              "      fill: #1967D2;\n",
              "      height: 32px;\n",
              "      padding: 0 0 0 0;\n",
              "      width: 32px;\n",
              "    }\n",
              "\n",
              "    .colab-df-convert:hover {\n",
              "      background-color: #E2EBFA;\n",
              "      box-shadow: 0px 1px 2px rgba(60, 64, 67, 0.3), 0px 1px 3px 1px rgba(60, 64, 67, 0.15);\n",
              "      fill: #174EA6;\n",
              "    }\n",
              "\n",
              "    [theme=dark] .colab-df-convert {\n",
              "      background-color: #3B4455;\n",
              "      fill: #D2E3FC;\n",
              "    }\n",
              "\n",
              "    [theme=dark] .colab-df-convert:hover {\n",
              "      background-color: #434B5C;\n",
              "      box-shadow: 0px 1px 3px 1px rgba(0, 0, 0, 0.15);\n",
              "      filter: drop-shadow(0px 1px 2px rgba(0, 0, 0, 0.3));\n",
              "      fill: #FFFFFF;\n",
              "    }\n",
              "  </style>\n",
              "\n",
              "      <script>\n",
              "        const buttonEl =\n",
              "          document.querySelector('#df-5772cd28-27f1-41d7-80b9-85cbfdbf9003 button.colab-df-convert');\n",
              "        buttonEl.style.display =\n",
              "          google.colab.kernel.accessAllowed ? 'block' : 'none';\n",
              "\n",
              "        async function convertToInteractive(key) {\n",
              "          const element = document.querySelector('#df-5772cd28-27f1-41d7-80b9-85cbfdbf9003');\n",
              "          const dataTable =\n",
              "            await google.colab.kernel.invokeFunction('convertToInteractive',\n",
              "                                                     [key], {});\n",
              "          if (!dataTable) return;\n",
              "\n",
              "          const docLinkHtml = 'Like what you see? Visit the ' +\n",
              "            '<a target=\"_blank\" href=https://colab.research.google.com/notebooks/data_table.ipynb>data table notebook</a>'\n",
              "            + ' to learn more about interactive tables.';\n",
              "          element.innerHTML = '';\n",
              "          dataTable['output_type'] = 'display_data';\n",
              "          await google.colab.output.renderOutput(dataTable, element);\n",
              "          const docLink = document.createElement('div');\n",
              "          docLink.innerHTML = docLinkHtml;\n",
              "          element.appendChild(docLink);\n",
              "        }\n",
              "      </script>\n",
              "    </div>\n",
              "  </div>\n",
              "  "
            ]
          },
          "metadata": {},
          "execution_count": 65
        }
      ]
    },
    {
      "cell_type": "code",
      "source": [
        "x = df.iloc[:,0:2]\n",
        "y = df.iloc[:,-1]"
      ],
      "metadata": {
        "id": "-3867R46tsPe"
      },
      "execution_count": 66,
      "outputs": []
    },
    {
      "cell_type": "code",
      "source": [
        "x.head()"
      ],
      "metadata": {
        "colab": {
          "base_uri": "https://localhost:8080/",
          "height": 206
        },
        "id": "MZO5vJfAtsSc",
        "outputId": "4477f90b-45e5-4843-d825-5216331c688d"
      },
      "execution_count": 67,
      "outputs": [
        {
          "output_type": "execute_result",
          "data": {
            "text/plain": [
              "   Age  EstimatedSalary\n",
              "0   19            19000\n",
              "1   35            20000\n",
              "2   26            43000\n",
              "3   27            57000\n",
              "4   19            76000"
            ],
            "text/html": [
              "\n",
              "  <div id=\"df-604b6685-aa23-4d65-b6a3-cde6d4177d73\">\n",
              "    <div class=\"colab-df-container\">\n",
              "      <div>\n",
              "<style scoped>\n",
              "    .dataframe tbody tr th:only-of-type {\n",
              "        vertical-align: middle;\n",
              "    }\n",
              "\n",
              "    .dataframe tbody tr th {\n",
              "        vertical-align: top;\n",
              "    }\n",
              "\n",
              "    .dataframe thead th {\n",
              "        text-align: right;\n",
              "    }\n",
              "</style>\n",
              "<table border=\"1\" class=\"dataframe\">\n",
              "  <thead>\n",
              "    <tr style=\"text-align: right;\">\n",
              "      <th></th>\n",
              "      <th>Age</th>\n",
              "      <th>EstimatedSalary</th>\n",
              "    </tr>\n",
              "  </thead>\n",
              "  <tbody>\n",
              "    <tr>\n",
              "      <th>0</th>\n",
              "      <td>19</td>\n",
              "      <td>19000</td>\n",
              "    </tr>\n",
              "    <tr>\n",
              "      <th>1</th>\n",
              "      <td>35</td>\n",
              "      <td>20000</td>\n",
              "    </tr>\n",
              "    <tr>\n",
              "      <th>2</th>\n",
              "      <td>26</td>\n",
              "      <td>43000</td>\n",
              "    </tr>\n",
              "    <tr>\n",
              "      <th>3</th>\n",
              "      <td>27</td>\n",
              "      <td>57000</td>\n",
              "    </tr>\n",
              "    <tr>\n",
              "      <th>4</th>\n",
              "      <td>19</td>\n",
              "      <td>76000</td>\n",
              "    </tr>\n",
              "  </tbody>\n",
              "</table>\n",
              "</div>\n",
              "      <button class=\"colab-df-convert\" onclick=\"convertToInteractive('df-604b6685-aa23-4d65-b6a3-cde6d4177d73')\"\n",
              "              title=\"Convert this dataframe to an interactive table.\"\n",
              "              style=\"display:none;\">\n",
              "        \n",
              "  <svg xmlns=\"http://www.w3.org/2000/svg\" height=\"24px\"viewBox=\"0 0 24 24\"\n",
              "       width=\"24px\">\n",
              "    <path d=\"M0 0h24v24H0V0z\" fill=\"none\"/>\n",
              "    <path d=\"M18.56 5.44l.94 2.06.94-2.06 2.06-.94-2.06-.94-.94-2.06-.94 2.06-2.06.94zm-11 1L8.5 8.5l.94-2.06 2.06-.94-2.06-.94L8.5 2.5l-.94 2.06-2.06.94zm10 10l.94 2.06.94-2.06 2.06-.94-2.06-.94-.94-2.06-.94 2.06-2.06.94z\"/><path d=\"M17.41 7.96l-1.37-1.37c-.4-.4-.92-.59-1.43-.59-.52 0-1.04.2-1.43.59L10.3 9.45l-7.72 7.72c-.78.78-.78 2.05 0 2.83L4 21.41c.39.39.9.59 1.41.59.51 0 1.02-.2 1.41-.59l7.78-7.78 2.81-2.81c.8-.78.8-2.07 0-2.86zM5.41 20L4 18.59l7.72-7.72 1.47 1.35L5.41 20z\"/>\n",
              "  </svg>\n",
              "      </button>\n",
              "      \n",
              "  <style>\n",
              "    .colab-df-container {\n",
              "      display:flex;\n",
              "      flex-wrap:wrap;\n",
              "      gap: 12px;\n",
              "    }\n",
              "\n",
              "    .colab-df-convert {\n",
              "      background-color: #E8F0FE;\n",
              "      border: none;\n",
              "      border-radius: 50%;\n",
              "      cursor: pointer;\n",
              "      display: none;\n",
              "      fill: #1967D2;\n",
              "      height: 32px;\n",
              "      padding: 0 0 0 0;\n",
              "      width: 32px;\n",
              "    }\n",
              "\n",
              "    .colab-df-convert:hover {\n",
              "      background-color: #E2EBFA;\n",
              "      box-shadow: 0px 1px 2px rgba(60, 64, 67, 0.3), 0px 1px 3px 1px rgba(60, 64, 67, 0.15);\n",
              "      fill: #174EA6;\n",
              "    }\n",
              "\n",
              "    [theme=dark] .colab-df-convert {\n",
              "      background-color: #3B4455;\n",
              "      fill: #D2E3FC;\n",
              "    }\n",
              "\n",
              "    [theme=dark] .colab-df-convert:hover {\n",
              "      background-color: #434B5C;\n",
              "      box-shadow: 0px 1px 3px 1px rgba(0, 0, 0, 0.15);\n",
              "      filter: drop-shadow(0px 1px 2px rgba(0, 0, 0, 0.3));\n",
              "      fill: #FFFFFF;\n",
              "    }\n",
              "  </style>\n",
              "\n",
              "      <script>\n",
              "        const buttonEl =\n",
              "          document.querySelector('#df-604b6685-aa23-4d65-b6a3-cde6d4177d73 button.colab-df-convert');\n",
              "        buttonEl.style.display =\n",
              "          google.colab.kernel.accessAllowed ? 'block' : 'none';\n",
              "\n",
              "        async function convertToInteractive(key) {\n",
              "          const element = document.querySelector('#df-604b6685-aa23-4d65-b6a3-cde6d4177d73');\n",
              "          const dataTable =\n",
              "            await google.colab.kernel.invokeFunction('convertToInteractive',\n",
              "                                                     [key], {});\n",
              "          if (!dataTable) return;\n",
              "\n",
              "          const docLinkHtml = 'Like what you see? Visit the ' +\n",
              "            '<a target=\"_blank\" href=https://colab.research.google.com/notebooks/data_table.ipynb>data table notebook</a>'\n",
              "            + ' to learn more about interactive tables.';\n",
              "          element.innerHTML = '';\n",
              "          dataTable['output_type'] = 'display_data';\n",
              "          await google.colab.output.renderOutput(dataTable, element);\n",
              "          const docLink = document.createElement('div');\n",
              "          docLink.innerHTML = docLinkHtml;\n",
              "          element.appendChild(docLink);\n",
              "        }\n",
              "      </script>\n",
              "    </div>\n",
              "  </div>\n",
              "  "
            ]
          },
          "metadata": {},
          "execution_count": 67
        }
      ]
    },
    {
      "cell_type": "code",
      "source": [
        "y.head()"
      ],
      "metadata": {
        "colab": {
          "base_uri": "https://localhost:8080/"
        },
        "id": "ejQ0dVv8tsUq",
        "outputId": "7048ee25-e836-4d6b-8a24-4ebc38072d71"
      },
      "execution_count": 68,
      "outputs": [
        {
          "output_type": "execute_result",
          "data": {
            "text/plain": [
              "0    0\n",
              "1    0\n",
              "2    0\n",
              "3    0\n",
              "4    0\n",
              "Name: Purchased, dtype: int64"
            ]
          },
          "metadata": {},
          "execution_count": 68
        }
      ]
    },
    {
      "cell_type": "code",
      "source": [
        "from sklearn.preprocessing import StandardScaler\n",
        "\n",
        "# Assuming you have defined `x` as your input data\n",
        "\n",
        "scaler = StandardScaler()\n",
        "x_scaled = scaler.fit_transform(x)\n"
      ],
      "metadata": {
        "id": "Bg-F6ZcdtsX0"
      },
      "execution_count": 69,
      "outputs": []
    },
    {
      "cell_type": "code",
      "source": [
        "x_scaled.shape"
      ],
      "metadata": {
        "colab": {
          "base_uri": "https://localhost:8080/"
        },
        "id": "DoKHW3UztsZm",
        "outputId": "c8fccac5-8699-4bcd-b2db-0016485dca73"
      },
      "execution_count": 70,
      "outputs": [
        {
          "output_type": "execute_result",
          "data": {
            "text/plain": [
              "(400, 2)"
            ]
          },
          "metadata": {},
          "execution_count": 70
        }
      ]
    },
    {
      "cell_type": "code",
      "source": [
        "from sklearn.model_selection import train_test_split\n",
        "from sklearn.preprocessing import StandardScaler\n",
        "\n",
        "# Assuming you have defined and initialized `x` and `y` as your input data and target variable respectively\n",
        "\n",
        "scaler = StandardScaler()\n",
        "x_scale = scaler.fit_transform(x)\n",
        "\n",
        "# Split the data into training and testing sets\n",
        "x_train, x_test, y_train, y_test = train_test_split(x_scale, y, test_size=0.2, random_state=1)\n"
      ],
      "metadata": {
        "id": "0XfvA0XStscp"
      },
      "execution_count": 71,
      "outputs": []
    },
    {
      "cell_type": "code",
      "source": [
        "x_train.shape"
      ],
      "metadata": {
        "colab": {
          "base_uri": "https://localhost:8080/"
        },
        "id": "hyIXPSABtseW",
        "outputId": "814c9b1f-51ed-4eef-b896-48f8467096cf"
      },
      "execution_count": 72,
      "outputs": [
        {
          "output_type": "execute_result",
          "data": {
            "text/plain": [
              "(320, 2)"
            ]
          },
          "metadata": {},
          "execution_count": 72
        }
      ]
    },
    {
      "cell_type": "code",
      "source": [
        "import tensorflow as tf \n",
        "from tensorflow import keras\n",
        "from keras import Sequential\n",
        "from keras.layers import Dense"
      ],
      "metadata": {
        "id": "PqmUxI4Otsh7"
      },
      "execution_count": 73,
      "outputs": []
    },
    {
      "cell_type": "code",
      "source": [
        "model = Sequential()\n",
        "model.add(Dense(10, activation='relu', input_dim=2))\n",
        "model.add(Dense(10, activation='relu'))\n",
        "model.add(Dense(1, activation='sigmoid'))\n",
        "model.summary()"
      ],
      "metadata": {
        "colab": {
          "base_uri": "https://localhost:8080/"
        },
        "id": "kpdK1cvkvzNH",
        "outputId": "3b96b7fa-1d1c-42d1-8111-6fe1d70884c8"
      },
      "execution_count": 74,
      "outputs": [
        {
          "output_type": "stream",
          "name": "stdout",
          "text": [
            "Model: \"sequential_6\"\n",
            "_________________________________________________________________\n",
            " Layer (type)                Output Shape              Param #   \n",
            "=================================================================\n",
            " dense_18 (Dense)            (None, 10)                30        \n",
            "                                                                 \n",
            " dense_19 (Dense)            (None, 10)                110       \n",
            "                                                                 \n",
            " dense_20 (Dense)            (None, 1)                 11        \n",
            "                                                                 \n",
            "=================================================================\n",
            "Total params: 151\n",
            "Trainable params: 151\n",
            "Non-trainable params: 0\n",
            "_________________________________________________________________\n"
          ]
        }
      ]
    },
    {
      "cell_type": "markdown",
      "source": [
        "# Batch Gradient Descent (BGD)"
      ],
      "metadata": {
        "id": "GTnbiz-Wxa5S"
      }
    },
    {
      "cell_type": "code",
      "source": [
        "model.compile(loss='binary_crossentropy', metrics=['accuracy'])\n",
        "start = time.time()\n",
        "history = model.fit(x_train, y_train, validation_data=(x_test, y_test), epochs=10, batch_size=320)\n",
        "print(time.time()-start)"
      ],
      "metadata": {
        "colab": {
          "base_uri": "https://localhost:8080/"
        },
        "id": "Kun0_8kYvzOc",
        "outputId": "ca6d212d-1ca3-4bda-af5a-d21253d7d2a7"
      },
      "execution_count": 75,
      "outputs": [
        {
          "output_type": "stream",
          "name": "stdout",
          "text": [
            "Epoch 1/10\n",
            "1/1 [==============================] - 1s 1s/step - loss: 0.6793 - accuracy: 0.5781 - val_loss: 0.6788 - val_accuracy: 0.6375\n",
            "Epoch 2/10\n",
            "1/1 [==============================] - 0s 32ms/step - loss: 0.6698 - accuracy: 0.6219 - val_loss: 0.6727 - val_accuracy: 0.6375\n",
            "Epoch 3/10\n",
            "1/1 [==============================] - 0s 33ms/step - loss: 0.6630 - accuracy: 0.6219 - val_loss: 0.6677 - val_accuracy: 0.6625\n",
            "Epoch 4/10\n",
            "1/1 [==============================] - 0s 35ms/step - loss: 0.6573 - accuracy: 0.6281 - val_loss: 0.6633 - val_accuracy: 0.6625\n",
            "Epoch 5/10\n",
            "1/1 [==============================] - 0s 31ms/step - loss: 0.6523 - accuracy: 0.6313 - val_loss: 0.6592 - val_accuracy: 0.6625\n",
            "Epoch 6/10\n",
            "1/1 [==============================] - 0s 44ms/step - loss: 0.6478 - accuracy: 0.6406 - val_loss: 0.6555 - val_accuracy: 0.6625\n",
            "Epoch 7/10\n",
            "1/1 [==============================] - 0s 42ms/step - loss: 0.6435 - accuracy: 0.6438 - val_loss: 0.6519 - val_accuracy: 0.6750\n",
            "Epoch 8/10\n",
            "1/1 [==============================] - 0s 34ms/step - loss: 0.6395 - accuracy: 0.6469 - val_loss: 0.6485 - val_accuracy: 0.6750\n",
            "Epoch 9/10\n",
            "1/1 [==============================] - 0s 30ms/step - loss: 0.6357 - accuracy: 0.6531 - val_loss: 0.6453 - val_accuracy: 0.6750\n",
            "Epoch 10/10\n",
            "1/1 [==============================] - 0s 33ms/step - loss: 0.6321 - accuracy: 0.6625 - val_loss: 0.6422 - val_accuracy: 0.6875\n",
            "1.7341418266296387\n"
          ]
        }
      ]
    },
    {
      "cell_type": "markdown",
      "source": [
        "# stochastic Gradient Descent (SGD)"
      ],
      "metadata": {
        "id": "HBmwON4Ry7iP"
      }
    },
    {
      "cell_type": "code",
      "source": [
        "model1 = Sequential()\n",
        "model1.add(Dense(10, activation='relu', input_dim=2))\n",
        "model1.add(Dense(10, activation='relu'))\n",
        "model1.add(Dense(1, activation='sigmoid'))\n",
        "model1.summary()"
      ],
      "metadata": {
        "colab": {
          "base_uri": "https://localhost:8080/"
        },
        "id": "emSIXrDsvzTD",
        "outputId": "68cbe640-8068-49a2-e49b-503284494451"
      },
      "execution_count": 76,
      "outputs": [
        {
          "output_type": "stream",
          "name": "stdout",
          "text": [
            "Model: \"sequential_7\"\n",
            "_________________________________________________________________\n",
            " Layer (type)                Output Shape              Param #   \n",
            "=================================================================\n",
            " dense_21 (Dense)            (None, 10)                30        \n",
            "                                                                 \n",
            " dense_22 (Dense)            (None, 10)                110       \n",
            "                                                                 \n",
            " dense_23 (Dense)            (None, 1)                 11        \n",
            "                                                                 \n",
            "=================================================================\n",
            "Total params: 151\n",
            "Trainable params: 151\n",
            "Non-trainable params: 0\n",
            "_________________________________________________________________\n"
          ]
        }
      ]
    },
    {
      "cell_type": "code",
      "source": [
        "model1.compile(loss='binary_crossentropy', metrics=['accuracy'])\n",
        "start = time.time()\n",
        "history1 = model1.fit(x_train, y_train, validation_data=(x_test, y_test), epochs=10, batch_size=1)\n",
        "print(time.time()-start)"
      ],
      "metadata": {
        "colab": {
          "base_uri": "https://localhost:8080/"
        },
        "id": "ZhOdtkgpvzWU",
        "outputId": "b0c1f7c1-59df-4d49-d59c-50edfa4e4398"
      },
      "execution_count": 77,
      "outputs": [
        {
          "output_type": "stream",
          "name": "stdout",
          "text": [
            "Epoch 1/10\n",
            "320/320 [==============================] - 2s 4ms/step - loss: 0.5675 - accuracy: 0.6812 - val_loss: 0.5207 - val_accuracy: 0.6875\n",
            "Epoch 2/10\n",
            "320/320 [==============================] - 1s 4ms/step - loss: 0.4217 - accuracy: 0.7875 - val_loss: 0.4197 - val_accuracy: 0.7875\n",
            "Epoch 3/10\n",
            "320/320 [==============================] - 1s 4ms/step - loss: 0.3532 - accuracy: 0.8125 - val_loss: 0.3734 - val_accuracy: 0.8250\n",
            "Epoch 4/10\n",
            "320/320 [==============================] - 1s 3ms/step - loss: 0.3087 - accuracy: 0.8469 - val_loss: 0.3555 - val_accuracy: 0.8375\n",
            "Epoch 5/10\n",
            "320/320 [==============================] - 1s 3ms/step - loss: 0.2827 - accuracy: 0.8531 - val_loss: 0.3519 - val_accuracy: 0.8375\n",
            "Epoch 6/10\n",
            "320/320 [==============================] - 1s 3ms/step - loss: 0.2671 - accuracy: 0.8625 - val_loss: 0.3625 - val_accuracy: 0.8500\n",
            "Epoch 7/10\n",
            "320/320 [==============================] - 1s 3ms/step - loss: 0.2600 - accuracy: 0.8844 - val_loss: 0.3682 - val_accuracy: 0.8625\n",
            "Epoch 8/10\n",
            "320/320 [==============================] - 1s 3ms/step - loss: 0.2576 - accuracy: 0.8969 - val_loss: 0.3694 - val_accuracy: 0.8875\n",
            "Epoch 9/10\n",
            "320/320 [==============================] - 1s 3ms/step - loss: 0.2478 - accuracy: 0.9000 - val_loss: 0.3706 - val_accuracy: 0.8750\n",
            "Epoch 10/10\n",
            "320/320 [==============================] - 1s 3ms/step - loss: 0.2496 - accuracy: 0.8969 - val_loss: 0.3811 - val_accuracy: 0.8750\n",
            "20.942851305007935\n"
          ]
        }
      ]
    },
    {
      "cell_type": "markdown",
      "source": [
        "# Mini - Batch GD"
      ],
      "metadata": {
        "id": "pCETM1ZW3SZJ"
      }
    },
    {
      "cell_type": "code",
      "source": [
        "model2 = Sequential()\n",
        "model2.add(Dense(10, activation='relu', input_dim=2))\n",
        "model2.add(Dense(10, activation='relu'))\n",
        "model2.add(Dense(1, activation='sigmoid'))\n",
        "model2.summary()"
      ],
      "metadata": {
        "colab": {
          "base_uri": "https://localhost:8080/"
        },
        "id": "uidZL_VG2Wo8",
        "outputId": "986d22ee-e099-4d16-9139-6b98ff397247"
      },
      "execution_count": 78,
      "outputs": [
        {
          "output_type": "stream",
          "name": "stdout",
          "text": [
            "Model: \"sequential_8\"\n",
            "_________________________________________________________________\n",
            " Layer (type)                Output Shape              Param #   \n",
            "=================================================================\n",
            " dense_24 (Dense)            (None, 10)                30        \n",
            "                                                                 \n",
            " dense_25 (Dense)            (None, 10)                110       \n",
            "                                                                 \n",
            " dense_26 (Dense)            (None, 1)                 11        \n",
            "                                                                 \n",
            "=================================================================\n",
            "Total params: 151\n",
            "Trainable params: 151\n",
            "Non-trainable params: 0\n",
            "_________________________________________________________________\n"
          ]
        }
      ]
    },
    {
      "cell_type": "code",
      "source": [
        "model2.compile(loss='binary_crossentropy', metrics=['accuracy'])\n",
        "start = time.time()\n",
        "history2 = model2.fit(x_train, y_train, validation_data=(x_test, y_test), epochs=10, batch_size=100)\n",
        "print(time.time()-start)"
      ],
      "metadata": {
        "colab": {
          "base_uri": "https://localhost:8080/"
        },
        "id": "o7XkKYEY3RQW",
        "outputId": "f923f703-b442-4633-e328-f912ffaf82f3"
      },
      "execution_count": 79,
      "outputs": [
        {
          "output_type": "stream",
          "name": "stdout",
          "text": [
            "Epoch 1/10\n",
            "4/4 [==============================] - 1s 53ms/step - loss: 0.6334 - accuracy: 0.6438 - val_loss: 0.6506 - val_accuracy: 0.6375\n",
            "Epoch 2/10\n",
            "4/4 [==============================] - 0s 12ms/step - loss: 0.6195 - accuracy: 0.6687 - val_loss: 0.6418 - val_accuracy: 0.6375\n",
            "Epoch 3/10\n",
            "4/4 [==============================] - 0s 14ms/step - loss: 0.6092 - accuracy: 0.6875 - val_loss: 0.6347 - val_accuracy: 0.6500\n",
            "Epoch 4/10\n",
            "4/4 [==============================] - 0s 12ms/step - loss: 0.6010 - accuracy: 0.7125 - val_loss: 0.6281 - val_accuracy: 0.6750\n",
            "Epoch 5/10\n",
            "4/4 [==============================] - 0s 11ms/step - loss: 0.5932 - accuracy: 0.7344 - val_loss: 0.6219 - val_accuracy: 0.6750\n",
            "Epoch 6/10\n",
            "4/4 [==============================] - 0s 12ms/step - loss: 0.5855 - accuracy: 0.7437 - val_loss: 0.6159 - val_accuracy: 0.6875\n",
            "Epoch 7/10\n",
            "4/4 [==============================] - 0s 12ms/step - loss: 0.5781 - accuracy: 0.7500 - val_loss: 0.6102 - val_accuracy: 0.6875\n",
            "Epoch 8/10\n",
            "4/4 [==============================] - 0s 14ms/step - loss: 0.5708 - accuracy: 0.7594 - val_loss: 0.6051 - val_accuracy: 0.7000\n",
            "Epoch 9/10\n",
            "4/4 [==============================] - 0s 12ms/step - loss: 0.5638 - accuracy: 0.7563 - val_loss: 0.5992 - val_accuracy: 0.7000\n",
            "Epoch 10/10\n",
            "4/4 [==============================] - 0s 12ms/step - loss: 0.5570 - accuracy: 0.7625 - val_loss: 0.5947 - val_accuracy: 0.7000\n",
            "1.794792652130127\n"
          ]
        }
      ]
    },
    {
      "cell_type": "code",
      "source": [
        "# BGD\n",
        "# time = 1.7341418266296387\n",
        "# accuracy = (training = 0.6625 )\n",
        "\n",
        "# SGD\n",
        "# time = 20.942851305007935\n",
        "# accuracy = (training = 0.8969)\n",
        "\n",
        "# Mini-Batch\n",
        "# time = 1.794792652130127\n",
        "# accuracy = (training = 0.7626 )\n",
        "\n",
        "\n",
        "# BGD > MBGD > SGD in terms of TIME\n",
        "# SGD > MBGD > BGD in terms of PERFORMANCE"
      ],
      "metadata": {
        "id": "dVg3hriw3h4f"
      },
      "execution_count": 80,
      "outputs": []
    },
    {
      "cell_type": "code",
      "source": [
        "plt.plot(history.history['loss'], color='red')    #BGD\n",
        "plt.plot(history2.history['loss'], color='blue')   #MBGD\n",
        "plt.plot(history1.history['loss'], color='green')  #SGD\n"
      ],
      "metadata": {
        "colab": {
          "base_uri": "https://localhost:8080/",
          "height": 452
        },
        "id": "CGxrhBHi3RSJ",
        "outputId": "97cae5cd-91e1-4faa-f697-a411267ecec2"
      },
      "execution_count": 81,
      "outputs": [
        {
          "output_type": "execute_result",
          "data": {
            "text/plain": [
              "[<matplotlib.lines.Line2D at 0x7feb83eeb010>]"
            ]
          },
          "metadata": {},
          "execution_count": 81
        },
        {
          "output_type": "display_data",
          "data": {
            "text/plain": [
              "<Figure size 640x480 with 1 Axes>"
            ],
            "image/png": "[encoded data removed]"
          },
          "metadata": {}
        }
      ]
    },
    {
      "cell_type": "code",
      "source": [
        "# Taking epochs = 100 for all the three BGD, SGD and MBGD"
      ],
      "metadata": {
        "id": "axeDwplw2WRG"
      },
      "execution_count": 82,
      "outputs": []
    },
    {
      "cell_type": "code",
      "source": [
        "#BGD\n",
        "model.compile(loss='binary_crossentropy', metrics=['accuracy'])\n",
        "start = time.time()\n",
        "history = model.fit(x_train, y_train, validation_data=(x_test, y_test), epochs=100, batch_size=320)\n",
        "print(time.time()-start)"
      ],
      "metadata": {
        "colab": {
          "base_uri": "https://localhost:8080/"
        },
        "id": "gGa4Cpf9vzcO",
        "outputId": "9899e800-beb3-46bf-86e6-54784dc872b4"
      },
      "execution_count": 83,
      "outputs": [
        {
          "output_type": "stream",
          "name": "stdout",
          "text": [
            "Epoch 1/100\n",
            "1/1 [==============================] - 1s 1s/step - loss: 0.6286 - accuracy: 0.6656 - val_loss: 0.6341 - val_accuracy: 0.7125\n",
            "Epoch 2/100\n",
            "1/1 [==============================] - 0s 33ms/step - loss: 0.6198 - accuracy: 0.6750 - val_loss: 0.6283 - val_accuracy: 0.7250\n",
            "Epoch 3/100\n",
            "1/1 [==============================] - 0s 36ms/step - loss: 0.6136 - accuracy: 0.6812 - val_loss: 0.6235 - val_accuracy: 0.7375\n",
            "Epoch 4/100\n",
            "1/1 [==============================] - 0s 33ms/step - loss: 0.6083 - accuracy: 0.6969 - val_loss: 0.6193 - val_accuracy: 0.7375\n",
            "Epoch 5/100\n",
            "1/1 [==============================] - 0s 34ms/step - loss: 0.6038 - accuracy: 0.7094 - val_loss: 0.6155 - val_accuracy: 0.7375\n",
            "Epoch 6/100\n",
            "1/1 [==============================] - 0s 32ms/step - loss: 0.5996 - accuracy: 0.7156 - val_loss: 0.6120 - val_accuracy: 0.7375\n",
            "Epoch 7/100\n",
            "1/1 [==============================] - 0s 35ms/step - loss: 0.5958 - accuracy: 0.7156 - val_loss: 0.6087 - val_accuracy: 0.7375\n",
            "Epoch 8/100\n",
            "1/1 [==============================] - 0s 32ms/step - loss: 0.5921 - accuracy: 0.7219 - val_loss: 0.6056 - val_accuracy: 0.7375\n",
            "Epoch 9/100\n",
            "1/1 [==============================] - 0s 32ms/step - loss: 0.5887 - accuracy: 0.7375 - val_loss: 0.6026 - val_accuracy: 0.7375\n",
            "Epoch 10/100\n",
            "1/1 [==============================] - 0s 38ms/step - loss: 0.5853 - accuracy: 0.7469 - val_loss: 0.5996 - val_accuracy: 0.7375\n",
            "Epoch 11/100\n",
            "1/1 [==============================] - 0s 37ms/step - loss: 0.5821 - accuracy: 0.7500 - val_loss: 0.5968 - val_accuracy: 0.7375\n",
            "Epoch 12/100\n",
            "1/1 [==============================] - 0s 32ms/step - loss: 0.5789 - accuracy: 0.7469 - val_loss: 0.5940 - val_accuracy: 0.7500\n",
            "Epoch 13/100\n",
            "1/1 [==============================] - 0s 35ms/step - loss: 0.5758 - accuracy: 0.7500 - val_loss: 0.5913 - val_accuracy: 0.7500\n",
            "Epoch 14/100\n",
            "1/1 [==============================] - 0s 33ms/step - loss: 0.5728 - accuracy: 0.7531 - val_loss: 0.5886 - val_accuracy: 0.7500\n",
            "Epoch 15/100\n",
            "1/1 [==============================] - 0s 33ms/step - loss: 0.5698 - accuracy: 0.7563 - val_loss: 0.5860 - val_accuracy: 0.7500\n",
            "Epoch 16/100\n",
            "1/1 [==============================] - 0s 37ms/step - loss: 0.5669 - accuracy: 0.7688 - val_loss: 0.5835 - val_accuracy: 0.7500\n",
            "Epoch 17/100\n",
            "1/1 [==============================] - 0s 32ms/step - loss: 0.5640 - accuracy: 0.7688 - val_loss: 0.5810 - val_accuracy: 0.7500\n",
            "Epoch 18/100\n",
            "1/1 [==============================] - 0s 32ms/step - loss: 0.5612 - accuracy: 0.7719 - val_loss: 0.5785 - val_accuracy: 0.7625\n",
            "Epoch 19/100\n",
            "1/1 [==============================] - 0s 34ms/step - loss: 0.5583 - accuracy: 0.7844 - val_loss: 0.5761 - val_accuracy: 0.7625\n",
            "Epoch 20/100\n",
            "1/1 [==============================] - 0s 32ms/step - loss: 0.5555 - accuracy: 0.7937 - val_loss: 0.5737 - val_accuracy: 0.7750\n",
            "Epoch 21/100\n",
            "1/1 [==============================] - 0s 60ms/step - loss: 0.5527 - accuracy: 0.8188 - val_loss: 0.5713 - val_accuracy: 0.7875\n",
            "Epoch 22/100\n",
            "1/1 [==============================] - 0s 42ms/step - loss: 0.5500 - accuracy: 0.8281 - val_loss: 0.5689 - val_accuracy: 0.7875\n",
            "Epoch 23/100\n",
            "1/1 [==============================] - 0s 34ms/step - loss: 0.5473 - accuracy: 0.8313 - val_loss: 0.5666 - val_accuracy: 0.7875\n",
            "Epoch 24/100\n",
            "1/1 [==============================] - 0s 34ms/step - loss: 0.5446 - accuracy: 0.8344 - val_loss: 0.5643 - val_accuracy: 0.7875\n",
            "Epoch 25/100\n",
            "1/1 [==============================] - 0s 33ms/step - loss: 0.5420 - accuracy: 0.8375 - val_loss: 0.5620 - val_accuracy: 0.8000\n",
            "Epoch 26/100\n",
            "1/1 [==============================] - 0s 32ms/step - loss: 0.5393 - accuracy: 0.8375 - val_loss: 0.5597 - val_accuracy: 0.8000\n",
            "Epoch 27/100\n",
            "1/1 [==============================] - 0s 32ms/step - loss: 0.5367 - accuracy: 0.8500 - val_loss: 0.5575 - val_accuracy: 0.8125\n",
            "Epoch 28/100\n",
            "1/1 [==============================] - 0s 35ms/step - loss: 0.5341 - accuracy: 0.8531 - val_loss: 0.5553 - val_accuracy: 0.8125\n",
            "Epoch 29/100\n",
            "1/1 [==============================] - 0s 35ms/step - loss: 0.5314 - accuracy: 0.8562 - val_loss: 0.5531 - val_accuracy: 0.8125\n",
            "Epoch 30/100\n",
            "1/1 [==============================] - 0s 33ms/step - loss: 0.5288 - accuracy: 0.8594 - val_loss: 0.5509 - val_accuracy: 0.8125\n",
            "Epoch 31/100\n",
            "1/1 [==============================] - 0s 39ms/step - loss: 0.5262 - accuracy: 0.8656 - val_loss: 0.5488 - val_accuracy: 0.8125\n",
            "Epoch 32/100\n",
            "1/1 [==============================] - 0s 34ms/step - loss: 0.5236 - accuracy: 0.8719 - val_loss: 0.5467 - val_accuracy: 0.8125\n",
            "Epoch 33/100\n",
            "1/1 [==============================] - 0s 33ms/step - loss: 0.5211 - accuracy: 0.8719 - val_loss: 0.5445 - val_accuracy: 0.8125\n",
            "Epoch 34/100\n",
            "1/1 [==============================] - 0s 33ms/step - loss: 0.5185 - accuracy: 0.8750 - val_loss: 0.5425 - val_accuracy: 0.8250\n",
            "Epoch 35/100\n",
            "1/1 [==============================] - 0s 39ms/step - loss: 0.5159 - accuracy: 0.8750 - val_loss: 0.5404 - val_accuracy: 0.8250\n",
            "Epoch 36/100\n",
            "1/1 [==============================] - 0s 32ms/step - loss: 0.5134 - accuracy: 0.8781 - val_loss: 0.5384 - val_accuracy: 0.8250\n",
            "Epoch 37/100\n",
            "1/1 [==============================] - 0s 40ms/step - loss: 0.5108 - accuracy: 0.8906 - val_loss: 0.5363 - val_accuracy: 0.8500\n",
            "Epoch 38/100\n",
            "1/1 [==============================] - 0s 33ms/step - loss: 0.5083 - accuracy: 0.8906 - val_loss: 0.5343 - val_accuracy: 0.8625\n",
            "Epoch 39/100\n",
            "1/1 [==============================] - 0s 42ms/step - loss: 0.5058 - accuracy: 0.8938 - val_loss: 0.5323 - val_accuracy: 0.8625\n",
            "Epoch 40/100\n",
            "1/1 [==============================] - 0s 32ms/step - loss: 0.5033 - accuracy: 0.8969 - val_loss: 0.5303 - val_accuracy: 0.8750\n",
            "Epoch 41/100\n",
            "1/1 [==============================] - 0s 32ms/step - loss: 0.5009 - accuracy: 0.8969 - val_loss: 0.5283 - val_accuracy: 0.8875\n",
            "Epoch 42/100\n",
            "1/1 [==============================] - 0s 31ms/step - loss: 0.4984 - accuracy: 0.8969 - val_loss: 0.5264 - val_accuracy: 0.8875\n",
            "Epoch 43/100\n",
            "1/1 [==============================] - 0s 33ms/step - loss: 0.4959 - accuracy: 0.9000 - val_loss: 0.5244 - val_accuracy: 0.8875\n",
            "Epoch 44/100\n",
            "1/1 [==============================] - 0s 36ms/step - loss: 0.4935 - accuracy: 0.9031 - val_loss: 0.5225 - val_accuracy: 0.8875\n",
            "Epoch 45/100\n",
            "1/1 [==============================] - 0s 42ms/step - loss: 0.4910 - accuracy: 0.9031 - val_loss: 0.5205 - val_accuracy: 0.8875\n",
            "Epoch 46/100\n",
            "1/1 [==============================] - 0s 34ms/step - loss: 0.4886 - accuracy: 0.9062 - val_loss: 0.5186 - val_accuracy: 0.8875\n",
            "Epoch 47/100\n",
            "1/1 [==============================] - 0s 34ms/step - loss: 0.4862 - accuracy: 0.9062 - val_loss: 0.5167 - val_accuracy: 0.8875\n",
            "Epoch 48/100\n",
            "1/1 [==============================] - 0s 33ms/step - loss: 0.4838 - accuracy: 0.9156 - val_loss: 0.5148 - val_accuracy: 0.8750\n",
            "Epoch 49/100\n",
            "1/1 [==============================] - 0s 33ms/step - loss: 0.4814 - accuracy: 0.9156 - val_loss: 0.5129 - val_accuracy: 0.8750\n",
            "Epoch 50/100\n",
            "1/1 [==============================] - 0s 36ms/step - loss: 0.4791 - accuracy: 0.9156 - val_loss: 0.5110 - val_accuracy: 0.8750\n",
            "Epoch 51/100\n",
            "1/1 [==============================] - 0s 34ms/step - loss: 0.4768 - accuracy: 0.9156 - val_loss: 0.5091 - val_accuracy: 0.8750\n",
            "Epoch 52/100\n",
            "1/1 [==============================] - 0s 34ms/step - loss: 0.4744 - accuracy: 0.9156 - val_loss: 0.5072 - val_accuracy: 0.8750\n",
            "Epoch 53/100\n",
            "1/1 [==============================] - 0s 35ms/step - loss: 0.4721 - accuracy: 0.9156 - val_loss: 0.5054 - val_accuracy: 0.8750\n",
            "Epoch 54/100\n",
            "1/1 [==============================] - 0s 34ms/step - loss: 0.4699 - accuracy: 0.9125 - val_loss: 0.5035 - val_accuracy: 0.8750\n",
            "Epoch 55/100\n",
            "1/1 [==============================] - 0s 43ms/step - loss: 0.4676 - accuracy: 0.9125 - val_loss: 0.5017 - val_accuracy: 0.8750\n",
            "Epoch 56/100\n",
            "1/1 [==============================] - 0s 63ms/step - loss: 0.4653 - accuracy: 0.9125 - val_loss: 0.4998 - val_accuracy: 0.8750\n",
            "Epoch 57/100\n",
            "1/1 [==============================] - 0s 69ms/step - loss: 0.4630 - accuracy: 0.9125 - val_loss: 0.4980 - val_accuracy: 0.8750\n",
            "Epoch 58/100\n",
            "1/1 [==============================] - 0s 54ms/step - loss: 0.4608 - accuracy: 0.9125 - val_loss: 0.4962 - val_accuracy: 0.8750\n",
            "Epoch 59/100\n",
            "1/1 [==============================] - 0s 47ms/step - loss: 0.4586 - accuracy: 0.9125 - val_loss: 0.4944 - val_accuracy: 0.8750\n",
            "Epoch 60/100\n",
            "1/1 [==============================] - 0s 58ms/step - loss: 0.4563 - accuracy: 0.9125 - val_loss: 0.4927 - val_accuracy: 0.8750\n",
            "Epoch 61/100\n",
            "1/1 [==============================] - 0s 51ms/step - loss: 0.4541 - accuracy: 0.9125 - val_loss: 0.4909 - val_accuracy: 0.8750\n",
            "Epoch 62/100\n",
            "1/1 [==============================] - 0s 41ms/step - loss: 0.4519 - accuracy: 0.9125 - val_loss: 0.4892 - val_accuracy: 0.8750\n",
            "Epoch 63/100\n",
            "1/1 [==============================] - 0s 42ms/step - loss: 0.4497 - accuracy: 0.9125 - val_loss: 0.4875 - val_accuracy: 0.8750\n",
            "Epoch 64/100\n",
            "1/1 [==============================] - 0s 57ms/step - loss: 0.4476 - accuracy: 0.9125 - val_loss: 0.4858 - val_accuracy: 0.8750\n",
            "Epoch 65/100\n",
            "1/1 [==============================] - 0s 42ms/step - loss: 0.4455 - accuracy: 0.9125 - val_loss: 0.4841 - val_accuracy: 0.8750\n",
            "Epoch 66/100\n",
            "1/1 [==============================] - 0s 73ms/step - loss: 0.4434 - accuracy: 0.9156 - val_loss: 0.4825 - val_accuracy: 0.8750\n",
            "Epoch 67/100\n",
            "1/1 [==============================] - 0s 44ms/step - loss: 0.4413 - accuracy: 0.9187 - val_loss: 0.4808 - val_accuracy: 0.8750\n",
            "Epoch 68/100\n",
            "1/1 [==============================] - 0s 43ms/step - loss: 0.4392 - accuracy: 0.9187 - val_loss: 0.4792 - val_accuracy: 0.8750\n",
            "Epoch 69/100\n",
            "1/1 [==============================] - 0s 58ms/step - loss: 0.4371 - accuracy: 0.9187 - val_loss: 0.4776 - val_accuracy: 0.8750\n",
            "Epoch 70/100\n",
            "1/1 [==============================] - 0s 71ms/step - loss: 0.4351 - accuracy: 0.9187 - val_loss: 0.4759 - val_accuracy: 0.8750\n",
            "Epoch 71/100\n",
            "1/1 [==============================] - 0s 50ms/step - loss: 0.4331 - accuracy: 0.9187 - val_loss: 0.4743 - val_accuracy: 0.8750\n",
            "Epoch 72/100\n",
            "1/1 [==============================] - 0s 46ms/step - loss: 0.4310 - accuracy: 0.9187 - val_loss: 0.4727 - val_accuracy: 0.8750\n",
            "Epoch 73/100\n",
            "1/1 [==============================] - 0s 42ms/step - loss: 0.4290 - accuracy: 0.9187 - val_loss: 0.4711 - val_accuracy: 0.8750\n",
            "Epoch 74/100\n",
            "1/1 [==============================] - 0s 69ms/step - loss: 0.4270 - accuracy: 0.9187 - val_loss: 0.4696 - val_accuracy: 0.8750\n",
            "Epoch 75/100\n",
            "1/1 [==============================] - 0s 67ms/step - loss: 0.4251 - accuracy: 0.9187 - val_loss: 0.4681 - val_accuracy: 0.8750\n",
            "Epoch 76/100\n",
            "1/1 [==============================] - 0s 61ms/step - loss: 0.4231 - accuracy: 0.9187 - val_loss: 0.4666 - val_accuracy: 0.8750\n",
            "Epoch 77/100\n",
            "1/1 [==============================] - 0s 63ms/step - loss: 0.4211 - accuracy: 0.9187 - val_loss: 0.4651 - val_accuracy: 0.8750\n",
            "Epoch 78/100\n",
            "1/1 [==============================] - 0s 51ms/step - loss: 0.4192 - accuracy: 0.9187 - val_loss: 0.4636 - val_accuracy: 0.8750\n",
            "Epoch 79/100\n",
            "1/1 [==============================] - 0s 62ms/step - loss: 0.4173 - accuracy: 0.9187 - val_loss: 0.4621 - val_accuracy: 0.8750\n",
            "Epoch 80/100\n",
            "1/1 [==============================] - 0s 49ms/step - loss: 0.4153 - accuracy: 0.9187 - val_loss: 0.4606 - val_accuracy: 0.8750\n",
            "Epoch 81/100\n",
            "1/1 [==============================] - 0s 48ms/step - loss: 0.4134 - accuracy: 0.9187 - val_loss: 0.4592 - val_accuracy: 0.8750\n",
            "Epoch 82/100\n",
            "1/1 [==============================] - 0s 74ms/step - loss: 0.4115 - accuracy: 0.9219 - val_loss: 0.4578 - val_accuracy: 0.8750\n",
            "Epoch 83/100\n",
            "1/1 [==============================] - 0s 63ms/step - loss: 0.4096 - accuracy: 0.9219 - val_loss: 0.4564 - val_accuracy: 0.8750\n",
            "Epoch 84/100\n",
            "1/1 [==============================] - 0s 59ms/step - loss: 0.4077 - accuracy: 0.9219 - val_loss: 0.4550 - val_accuracy: 0.8750\n",
            "Epoch 85/100\n",
            "1/1 [==============================] - 0s 67ms/step - loss: 0.4059 - accuracy: 0.9250 - val_loss: 0.4537 - val_accuracy: 0.8750\n",
            "Epoch 86/100\n",
            "1/1 [==============================] - 0s 58ms/step - loss: 0.4040 - accuracy: 0.9250 - val_loss: 0.4523 - val_accuracy: 0.8750\n",
            "Epoch 87/100\n",
            "1/1 [==============================] - 0s 60ms/step - loss: 0.4022 - accuracy: 0.9250 - val_loss: 0.4510 - val_accuracy: 0.8750\n",
            "Epoch 88/100\n",
            "1/1 [==============================] - 0s 65ms/step - loss: 0.4003 - accuracy: 0.9250 - val_loss: 0.4496 - val_accuracy: 0.8750\n",
            "Epoch 89/100\n",
            "1/1 [==============================] - 0s 50ms/step - loss: 0.3985 - accuracy: 0.9250 - val_loss: 0.4483 - val_accuracy: 0.8750\n",
            "Epoch 90/100\n",
            "1/1 [==============================] - 0s 41ms/step - loss: 0.3967 - accuracy: 0.9250 - val_loss: 0.4471 - val_accuracy: 0.8750\n",
            "Epoch 91/100\n",
            "1/1 [==============================] - 0s 47ms/step - loss: 0.3949 - accuracy: 0.9250 - val_loss: 0.4458 - val_accuracy: 0.8750\n",
            "Epoch 92/100\n",
            "1/1 [==============================] - 0s 51ms/step - loss: 0.3932 - accuracy: 0.9250 - val_loss: 0.4445 - val_accuracy: 0.8750\n",
            "Epoch 93/100\n",
            "1/1 [==============================] - 0s 56ms/step - loss: 0.3914 - accuracy: 0.9250 - val_loss: 0.4433 - val_accuracy: 0.8750\n",
            "Epoch 94/100\n",
            "1/1 [==============================] - 0s 44ms/step - loss: 0.3897 - accuracy: 0.9250 - val_loss: 0.4420 - val_accuracy: 0.8750\n",
            "Epoch 95/100\n",
            "1/1 [==============================] - 0s 59ms/step - loss: 0.3880 - accuracy: 0.9187 - val_loss: 0.4408 - val_accuracy: 0.8750\n",
            "Epoch 96/100\n",
            "1/1 [==============================] - 0s 61ms/step - loss: 0.3863 - accuracy: 0.9187 - val_loss: 0.4396 - val_accuracy: 0.8750\n",
            "Epoch 97/100\n",
            "1/1 [==============================] - 0s 49ms/step - loss: 0.3846 - accuracy: 0.9187 - val_loss: 0.4385 - val_accuracy: 0.8750\n",
            "Epoch 98/100\n",
            "1/1 [==============================] - 0s 45ms/step - loss: 0.3829 - accuracy: 0.9187 - val_loss: 0.4373 - val_accuracy: 0.8750\n",
            "Epoch 99/100\n",
            "1/1 [==============================] - 0s 46ms/step - loss: 0.3812 - accuracy: 0.9187 - val_loss: 0.4362 - val_accuracy: 0.8750\n",
            "Epoch 100/100\n",
            "1/1 [==============================] - 0s 46ms/step - loss: 0.3796 - accuracy: 0.9187 - val_loss: 0.4351 - val_accuracy: 0.8750\n",
            "5.982430458068848\n"
          ]
        }
      ]
    },
    {
      "cell_type": "code",
      "source": [
        "#SGD\n",
        "model1.compile(loss='binary_crossentropy', metrics=['accuracy'])\n",
        "start = time.time()\n",
        "history1 = model1.fit(x_train, y_train, validation_data=(x_test, y_test), epochs=100, batch_size=1)\n",
        "print(time.time()-start)"
      ],
      "metadata": {
        "colab": {
          "base_uri": "https://localhost:8080/"
        },
        "id": "XUkoIgcVvzhs",
        "outputId": "4cf65bc7-85cf-459c-81c1-01e39eba305f"
      },
      "execution_count": 84,
      "outputs": [
        {
          "output_type": "stream",
          "name": "stdout",
          "text": [
            "Epoch 1/100\n",
            "320/320 [==============================] - 2s 4ms/step - loss: 0.2425 - accuracy: 0.9062 - val_loss: 0.3924 - val_accuracy: 0.8750\n",
            "Epoch 2/100\n",
            "320/320 [==============================] - 1s 3ms/step - loss: 0.2465 - accuracy: 0.9094 - val_loss: 0.4056 - val_accuracy: 0.8750\n",
            "Epoch 3/100\n",
            "320/320 [==============================] - 1s 3ms/step - loss: 0.2426 - accuracy: 0.9062 - val_loss: 0.4274 - val_accuracy: 0.8750\n",
            "Epoch 4/100\n",
            "320/320 [==============================] - 1s 3ms/step - loss: 0.2423 - accuracy: 0.9125 - val_loss: 0.4296 - val_accuracy: 0.8750\n",
            "Epoch 5/100\n",
            "320/320 [==============================] - 1s 3ms/step - loss: 0.2416 - accuracy: 0.9156 - val_loss: 0.4348 - val_accuracy: 0.8750\n",
            "Epoch 6/100\n",
            "320/320 [==============================] - 1s 3ms/step - loss: 0.2397 - accuracy: 0.9187 - val_loss: 0.4393 - val_accuracy: 0.8625\n",
            "Epoch 7/100\n",
            "320/320 [==============================] - 1s 3ms/step - loss: 0.2416 - accuracy: 0.9187 - val_loss: 0.4442 - val_accuracy: 0.8625\n",
            "Epoch 8/100\n",
            "320/320 [==============================] - 1s 3ms/step - loss: 0.2392 - accuracy: 0.9187 - val_loss: 0.4516 - val_accuracy: 0.8625\n",
            "Epoch 9/100\n",
            "320/320 [==============================] - 1s 4ms/step - loss: 0.2395 - accuracy: 0.9187 - val_loss: 0.4596 - val_accuracy: 0.8750\n",
            "Epoch 10/100\n",
            "320/320 [==============================] - 1s 5ms/step - loss: 0.2409 - accuracy: 0.9187 - val_loss: 0.4628 - val_accuracy: 0.8625\n",
            "Epoch 11/100\n",
            "320/320 [==============================] - 1s 4ms/step - loss: 0.2409 - accuracy: 0.9250 - val_loss: 0.4713 - val_accuracy: 0.8625\n",
            "Epoch 12/100\n",
            "320/320 [==============================] - 1s 3ms/step - loss: 0.2388 - accuracy: 0.9219 - val_loss: 0.4884 - val_accuracy: 0.8625\n",
            "Epoch 13/100\n",
            "320/320 [==============================] - 1s 3ms/step - loss: 0.2448 - accuracy: 0.9281 - val_loss: 0.5021 - val_accuracy: 0.8625\n",
            "Epoch 14/100\n",
            "320/320 [==============================] - 1s 3ms/step - loss: 0.2403 - accuracy: 0.9281 - val_loss: 0.5205 - val_accuracy: 0.8625\n",
            "Epoch 15/100\n",
            "320/320 [==============================] - 1s 3ms/step - loss: 0.2465 - accuracy: 0.9344 - val_loss: 0.5346 - val_accuracy: 0.8625\n",
            "Epoch 16/100\n",
            "320/320 [==============================] - 1s 3ms/step - loss: 0.2426 - accuracy: 0.9312 - val_loss: 0.5258 - val_accuracy: 0.8625\n",
            "Epoch 17/100\n",
            "320/320 [==============================] - 1s 3ms/step - loss: 0.2421 - accuracy: 0.9281 - val_loss: 0.5176 - val_accuracy: 0.8625\n",
            "Epoch 18/100\n",
            "320/320 [==============================] - 1s 3ms/step - loss: 0.2442 - accuracy: 0.9312 - val_loss: 0.5296 - val_accuracy: 0.8625\n",
            "Epoch 19/100\n",
            "320/320 [==============================] - 1s 3ms/step - loss: 0.2437 - accuracy: 0.9344 - val_loss: 0.5396 - val_accuracy: 0.8625\n",
            "Epoch 20/100\n",
            "320/320 [==============================] - 1s 3ms/step - loss: 0.2423 - accuracy: 0.9375 - val_loss: 0.5449 - val_accuracy: 0.8625\n",
            "Epoch 21/100\n",
            "320/320 [==============================] - 1s 4ms/step - loss: 0.2426 - accuracy: 0.9375 - val_loss: 0.5583 - val_accuracy: 0.8625\n",
            "Epoch 22/100\n",
            "320/320 [==============================] - 1s 5ms/step - loss: 0.2432 - accuracy: 0.9375 - val_loss: 0.5631 - val_accuracy: 0.8625\n",
            "Epoch 23/100\n",
            "320/320 [==============================] - 1s 3ms/step - loss: 0.2486 - accuracy: 0.9375 - val_loss: 0.5579 - val_accuracy: 0.8625\n",
            "Epoch 24/100\n",
            "320/320 [==============================] - 1s 3ms/step - loss: 0.2482 - accuracy: 0.9375 - val_loss: 0.5796 - val_accuracy: 0.8625\n",
            "Epoch 25/100\n",
            "320/320 [==============================] - 1s 3ms/step - loss: 0.2515 - accuracy: 0.9375 - val_loss: 0.5790 - val_accuracy: 0.8625\n",
            "Epoch 26/100\n",
            "320/320 [==============================] - 1s 3ms/step - loss: 0.2540 - accuracy: 0.9375 - val_loss: 0.5865 - val_accuracy: 0.8625\n",
            "Epoch 27/100\n",
            "320/320 [==============================] - 1s 3ms/step - loss: 0.2547 - accuracy: 0.9344 - val_loss: 0.6101 - val_accuracy: 0.8625\n",
            "Epoch 28/100\n",
            "320/320 [==============================] - 1s 3ms/step - loss: 0.2545 - accuracy: 0.9375 - val_loss: 0.6168 - val_accuracy: 0.8625\n",
            "Epoch 29/100\n",
            "320/320 [==============================] - 1s 3ms/step - loss: 0.2554 - accuracy: 0.9375 - val_loss: 0.6119 - val_accuracy: 0.8625\n",
            "Epoch 30/100\n",
            "320/320 [==============================] - 1s 3ms/step - loss: 0.2597 - accuracy: 0.9344 - val_loss: 0.6189 - val_accuracy: 0.8625\n",
            "Epoch 31/100\n",
            "320/320 [==============================] - 1s 3ms/step - loss: 0.2603 - accuracy: 0.9375 - val_loss: 0.6254 - val_accuracy: 0.8625\n",
            "Epoch 32/100\n",
            "320/320 [==============================] - 1s 3ms/step - loss: 0.2547 - accuracy: 0.9406 - val_loss: 0.6144 - val_accuracy: 0.8625\n",
            "Epoch 33/100\n",
            "320/320 [==============================] - 1s 5ms/step - loss: 0.2552 - accuracy: 0.9344 - val_loss: 0.6141 - val_accuracy: 0.8625\n",
            "Epoch 34/100\n",
            "320/320 [==============================] - 1s 4ms/step - loss: 0.2569 - accuracy: 0.9312 - val_loss: 0.6116 - val_accuracy: 0.8625\n",
            "Epoch 35/100\n",
            "320/320 [==============================] - 1s 4ms/step - loss: 0.2545 - accuracy: 0.9312 - val_loss: 0.6165 - val_accuracy: 0.8625\n",
            "Epoch 36/100\n",
            "320/320 [==============================] - 1s 3ms/step - loss: 0.2543 - accuracy: 0.9344 - val_loss: 0.6067 - val_accuracy: 0.8625\n",
            "Epoch 37/100\n",
            "320/320 [==============================] - 1s 3ms/step - loss: 0.2499 - accuracy: 0.9375 - val_loss: 0.6161 - val_accuracy: 0.8625\n",
            "Epoch 38/100\n",
            "320/320 [==============================] - 1s 3ms/step - loss: 0.2585 - accuracy: 0.9344 - val_loss: 0.6188 - val_accuracy: 0.8625\n",
            "Epoch 39/100\n",
            "320/320 [==============================] - 1s 3ms/step - loss: 0.2547 - accuracy: 0.9344 - val_loss: 0.6341 - val_accuracy: 0.8625\n",
            "Epoch 40/100\n",
            "320/320 [==============================] - 1s 3ms/step - loss: 0.2587 - accuracy: 0.9312 - val_loss: 0.6350 - val_accuracy: 0.8625\n",
            "Epoch 41/100\n",
            "320/320 [==============================] - 1s 3ms/step - loss: 0.2611 - accuracy: 0.9312 - val_loss: 0.6502 - val_accuracy: 0.8625\n",
            "Epoch 42/100\n",
            "320/320 [==============================] - 1s 3ms/step - loss: 0.2572 - accuracy: 0.9344 - val_loss: 0.6323 - val_accuracy: 0.8625\n",
            "Epoch 43/100\n",
            "320/320 [==============================] - 1s 3ms/step - loss: 0.2591 - accuracy: 0.9344 - val_loss: 0.6490 - val_accuracy: 0.8625\n",
            "Epoch 44/100\n",
            "320/320 [==============================] - 1s 4ms/step - loss: 0.2683 - accuracy: 0.9312 - val_loss: 0.6359 - val_accuracy: 0.8625\n",
            "Epoch 45/100\n",
            "320/320 [==============================] - 1s 5ms/step - loss: 0.2624 - accuracy: 0.9344 - val_loss: 0.6463 - val_accuracy: 0.8625\n",
            "Epoch 46/100\n",
            "320/320 [==============================] - 1s 3ms/step - loss: 0.2659 - accuracy: 0.9312 - val_loss: 0.6542 - val_accuracy: 0.8625\n",
            "Epoch 47/100\n",
            "320/320 [==============================] - 1s 3ms/step - loss: 0.2672 - accuracy: 0.9344 - val_loss: 0.6622 - val_accuracy: 0.8625\n",
            "Epoch 48/100\n",
            "320/320 [==============================] - 1s 3ms/step - loss: 0.2670 - accuracy: 0.9312 - val_loss: 0.6501 - val_accuracy: 0.8625\n",
            "Epoch 49/100\n",
            "320/320 [==============================] - 1s 3ms/step - loss: 0.2633 - accuracy: 0.9344 - val_loss: 0.6637 - val_accuracy: 0.8625\n",
            "Epoch 50/100\n",
            "320/320 [==============================] - 1s 3ms/step - loss: 0.2661 - accuracy: 0.9312 - val_loss: 0.6663 - val_accuracy: 0.8625\n",
            "Epoch 51/100\n",
            "320/320 [==============================] - 1s 3ms/step - loss: 0.2627 - accuracy: 0.9312 - val_loss: 0.6629 - val_accuracy: 0.8625\n",
            "Epoch 52/100\n",
            "320/320 [==============================] - 1s 3ms/step - loss: 0.2620 - accuracy: 0.9344 - val_loss: 0.6535 - val_accuracy: 0.8625\n",
            "Epoch 53/100\n",
            "320/320 [==============================] - 1s 3ms/step - loss: 0.2625 - accuracy: 0.9344 - val_loss: 0.6599 - val_accuracy: 0.8625\n",
            "Epoch 54/100\n",
            "320/320 [==============================] - 1s 3ms/step - loss: 0.2612 - accuracy: 0.9344 - val_loss: 0.6552 - val_accuracy: 0.8625\n",
            "Epoch 55/100\n",
            "320/320 [==============================] - 1s 3ms/step - loss: 0.2617 - accuracy: 0.9344 - val_loss: 0.6503 - val_accuracy: 0.8625\n",
            "Epoch 56/100\n",
            "320/320 [==============================] - 1s 4ms/step - loss: 0.2628 - accuracy: 0.9375 - val_loss: 0.6652 - val_accuracy: 0.8625\n",
            "Epoch 57/100\n",
            "320/320 [==============================] - 1s 5ms/step - loss: 0.2633 - accuracy: 0.9344 - val_loss: 0.6759 - val_accuracy: 0.8625\n",
            "Epoch 58/100\n",
            "320/320 [==============================] - 1s 3ms/step - loss: 0.2647 - accuracy: 0.9344 - val_loss: 0.6724 - val_accuracy: 0.8625\n",
            "Epoch 59/100\n",
            "320/320 [==============================] - 1s 3ms/step - loss: 0.2617 - accuracy: 0.9375 - val_loss: 0.6664 - val_accuracy: 0.8625\n",
            "Epoch 60/100\n",
            "320/320 [==============================] - 1s 3ms/step - loss: 0.2636 - accuracy: 0.9375 - val_loss: 0.6700 - val_accuracy: 0.8625\n",
            "Epoch 61/100\n",
            "320/320 [==============================] - 1s 3ms/step - loss: 0.2594 - accuracy: 0.9375 - val_loss: 0.6654 - val_accuracy: 0.8625\n",
            "Epoch 62/100\n",
            "320/320 [==============================] - 1s 3ms/step - loss: 0.2641 - accuracy: 0.9312 - val_loss: 0.6703 - val_accuracy: 0.8625\n",
            "Epoch 63/100\n",
            "320/320 [==============================] - 1s 3ms/step - loss: 0.2624 - accuracy: 0.9344 - val_loss: 0.6765 - val_accuracy: 0.8625\n",
            "Epoch 64/100\n",
            "320/320 [==============================] - 1s 3ms/step - loss: 0.2640 - accuracy: 0.9344 - val_loss: 0.6785 - val_accuracy: 0.8625\n",
            "Epoch 65/100\n",
            "320/320 [==============================] - 1s 3ms/step - loss: 0.2610 - accuracy: 0.9344 - val_loss: 0.6748 - val_accuracy: 0.8625\n",
            "Epoch 66/100\n",
            "320/320 [==============================] - 1s 3ms/step - loss: 0.2667 - accuracy: 0.9344 - val_loss: 0.6846 - val_accuracy: 0.8625\n",
            "Epoch 67/100\n",
            "320/320 [==============================] - 1s 3ms/step - loss: 0.2600 - accuracy: 0.9344 - val_loss: 0.6624 - val_accuracy: 0.8625\n",
            "Epoch 68/100\n",
            "320/320 [==============================] - 1s 5ms/step - loss: 0.2614 - accuracy: 0.9344 - val_loss: 0.6727 - val_accuracy: 0.8625\n",
            "Epoch 69/100\n",
            "320/320 [==============================] - 1s 4ms/step - loss: 0.2568 - accuracy: 0.9375 - val_loss: 0.6637 - val_accuracy: 0.8625\n",
            "Epoch 70/100\n",
            "320/320 [==============================] - 1s 3ms/step - loss: 0.2561 - accuracy: 0.9375 - val_loss: 0.6759 - val_accuracy: 0.8625\n",
            "Epoch 71/100\n",
            "320/320 [==============================] - 1s 3ms/step - loss: 0.2533 - accuracy: 0.9406 - val_loss: 0.6623 - val_accuracy: 0.8625\n",
            "Epoch 72/100\n",
            "320/320 [==============================] - 1s 3ms/step - loss: 0.2616 - accuracy: 0.9375 - val_loss: 0.6859 - val_accuracy: 0.8625\n",
            "Epoch 73/100\n",
            "320/320 [==============================] - 1s 3ms/step - loss: 0.2630 - accuracy: 0.9406 - val_loss: 0.6819 - val_accuracy: 0.8625\n",
            "Epoch 74/100\n",
            "320/320 [==============================] - 1s 3ms/step - loss: 0.2609 - accuracy: 0.9281 - val_loss: 0.6871 - val_accuracy: 0.8625\n",
            "Epoch 75/100\n",
            "320/320 [==============================] - 1s 3ms/step - loss: 0.2640 - accuracy: 0.9406 - val_loss: 0.6796 - val_accuracy: 0.8625\n",
            "Epoch 76/100\n",
            "320/320 [==============================] - 1s 3ms/step - loss: 0.2625 - accuracy: 0.9375 - val_loss: 0.6688 - val_accuracy: 0.8625\n",
            "Epoch 77/100\n",
            "320/320 [==============================] - 1s 3ms/step - loss: 0.2564 - accuracy: 0.9375 - val_loss: 0.6527 - val_accuracy: 0.8625\n",
            "Epoch 78/100\n",
            "320/320 [==============================] - 1s 3ms/step - loss: 0.2610 - accuracy: 0.9375 - val_loss: 0.6635 - val_accuracy: 0.8625\n",
            "Epoch 79/100\n",
            "320/320 [==============================] - 1s 4ms/step - loss: 0.2576 - accuracy: 0.9344 - val_loss: 0.6624 - val_accuracy: 0.8625\n",
            "Epoch 80/100\n",
            "320/320 [==============================] - 1s 4ms/step - loss: 0.2581 - accuracy: 0.9375 - val_loss: 0.6628 - val_accuracy: 0.8625\n",
            "Epoch 81/100\n",
            "320/320 [==============================] - 1s 3ms/step - loss: 0.2577 - accuracy: 0.9406 - val_loss: 0.6691 - val_accuracy: 0.8625\n",
            "Epoch 82/100\n",
            "320/320 [==============================] - 1s 3ms/step - loss: 0.2627 - accuracy: 0.9344 - val_loss: 0.6817 - val_accuracy: 0.8625\n",
            "Epoch 83/100\n",
            "320/320 [==============================] - 1s 3ms/step - loss: 0.2568 - accuracy: 0.9375 - val_loss: 0.6850 - val_accuracy: 0.8625\n",
            "Epoch 84/100\n",
            "320/320 [==============================] - 1s 3ms/step - loss: 0.2655 - accuracy: 0.9344 - val_loss: 0.6775 - val_accuracy: 0.8625\n",
            "Epoch 85/100\n",
            "320/320 [==============================] - 1s 3ms/step - loss: 0.2649 - accuracy: 0.9344 - val_loss: 0.6820 - val_accuracy: 0.8625\n",
            "Epoch 86/100\n",
            "320/320 [==============================] - 1s 3ms/step - loss: 0.2681 - accuracy: 0.9344 - val_loss: 0.6783 - val_accuracy: 0.8625\n",
            "Epoch 87/100\n",
            "320/320 [==============================] - 1s 3ms/step - loss: 0.2700 - accuracy: 0.9375 - val_loss: 0.6694 - val_accuracy: 0.8625\n",
            "Epoch 88/100\n",
            "320/320 [==============================] - 1s 3ms/step - loss: 0.2640 - accuracy: 0.9406 - val_loss: 0.6882 - val_accuracy: 0.8625\n",
            "Epoch 89/100\n",
            "320/320 [==============================] - 1s 3ms/step - loss: 0.2613 - accuracy: 0.9344 - val_loss: 0.6772 - val_accuracy: 0.8625\n",
            "Epoch 90/100\n",
            "320/320 [==============================] - 1s 3ms/step - loss: 0.2620 - accuracy: 0.9375 - val_loss: 0.6678 - val_accuracy: 0.8625\n",
            "Epoch 91/100\n",
            "320/320 [==============================] - 1s 4ms/step - loss: 0.2556 - accuracy: 0.9344 - val_loss: 0.6772 - val_accuracy: 0.8625\n",
            "Epoch 92/100\n",
            "320/320 [==============================] - 1s 5ms/step - loss: 0.2581 - accuracy: 0.9344 - val_loss: 0.6744 - val_accuracy: 0.8625\n",
            "Epoch 93/100\n",
            "320/320 [==============================] - 1s 3ms/step - loss: 0.2563 - accuracy: 0.9375 - val_loss: 0.6761 - val_accuracy: 0.8625\n",
            "Epoch 94/100\n",
            "320/320 [==============================] - 1s 3ms/step - loss: 0.2622 - accuracy: 0.9406 - val_loss: 0.6771 - val_accuracy: 0.8625\n",
            "Epoch 95/100\n",
            "320/320 [==============================] - 1s 3ms/step - loss: 0.2657 - accuracy: 0.9375 - val_loss: 0.6777 - val_accuracy: 0.8625\n",
            "Epoch 96/100\n",
            "320/320 [==============================] - 1s 3ms/step - loss: 0.2683 - accuracy: 0.9344 - val_loss: 0.6845 - val_accuracy: 0.8625\n",
            "Epoch 97/100\n",
            "320/320 [==============================] - 1s 3ms/step - loss: 0.2650 - accuracy: 0.9375 - val_loss: 0.6823 - val_accuracy: 0.8625\n",
            "Epoch 98/100\n",
            "320/320 [==============================] - 1s 3ms/step - loss: 0.2670 - accuracy: 0.9406 - val_loss: 0.6930 - val_accuracy: 0.8625\n",
            "Epoch 99/100\n",
            "320/320 [==============================] - 1s 3ms/step - loss: 0.2658 - accuracy: 0.9375 - val_loss: 0.6860 - val_accuracy: 0.8625\n",
            "Epoch 100/100\n",
            "320/320 [==============================] - 1s 3ms/step - loss: 0.2641 - accuracy: 0.9375 - val_loss: 0.6837 - val_accuracy: 0.8625\n",
            "142.3838415145874\n"
          ]
        }
      ]
    },
    {
      "cell_type": "code",
      "source": [
        "# MBGD\n",
        "model2.compile(loss='binary_crossentropy', metrics=['accuracy'])\n",
        "start = time.time()\n",
        "history2 = model.fit(x_train, y_train, validation_data=(x_test, y_test), epochs=100, batch_size=320)\n",
        "print(time.time()-start)"
      ],
      "metadata": {
        "colab": {
          "base_uri": "https://localhost:8080/"
        },
        "id": "IUF9tNUMvzkh",
        "outputId": "8da680b3-b395-48c7-a735-5a9e52286cd1"
      },
      "execution_count": 85,
      "outputs": [
        {
          "output_type": "stream",
          "name": "stdout",
          "text": [
            "Epoch 1/100\n",
            "1/1 [==============================] - 0s 66ms/step - loss: 0.3780 - accuracy: 0.9187 - val_loss: 0.4340 - val_accuracy: 0.8750\n",
            "Epoch 2/100\n",
            "1/1 [==============================] - 0s 32ms/step - loss: 0.3763 - accuracy: 0.9187 - val_loss: 0.4328 - val_accuracy: 0.8750\n",
            "Epoch 3/100\n",
            "1/1 [==============================] - 0s 33ms/step - loss: 0.3747 - accuracy: 0.9187 - val_loss: 0.4317 - val_accuracy: 0.8750\n",
            "Epoch 4/100\n",
            "1/1 [==============================] - 0s 31ms/step - loss: 0.3731 - accuracy: 0.9187 - val_loss: 0.4306 - val_accuracy: 0.8750\n",
            "Epoch 5/100\n",
            "1/1 [==============================] - 0s 32ms/step - loss: 0.3715 - accuracy: 0.9187 - val_loss: 0.4296 - val_accuracy: 0.8750\n",
            "Epoch 6/100\n",
            "1/1 [==============================] - 0s 32ms/step - loss: 0.3699 - accuracy: 0.9187 - val_loss: 0.4285 - val_accuracy: 0.8750\n",
            "Epoch 7/100\n",
            "1/1 [==============================] - 0s 32ms/step - loss: 0.3684 - accuracy: 0.9187 - val_loss: 0.4274 - val_accuracy: 0.8750\n",
            "Epoch 8/100\n",
            "1/1 [==============================] - 0s 50ms/step - loss: 0.3668 - accuracy: 0.9187 - val_loss: 0.4263 - val_accuracy: 0.8750\n",
            "Epoch 9/100\n",
            "1/1 [==============================] - 0s 33ms/step - loss: 0.3652 - accuracy: 0.9187 - val_loss: 0.4253 - val_accuracy: 0.8750\n",
            "Epoch 10/100\n",
            "1/1 [==============================] - 0s 34ms/step - loss: 0.3637 - accuracy: 0.9187 - val_loss: 0.4242 - val_accuracy: 0.8750\n",
            "Epoch 11/100\n",
            "1/1 [==============================] - 0s 32ms/step - loss: 0.3621 - accuracy: 0.9187 - val_loss: 0.4231 - val_accuracy: 0.8750\n",
            "Epoch 12/100\n",
            "1/1 [==============================] - 0s 33ms/step - loss: 0.3606 - accuracy: 0.9187 - val_loss: 0.4221 - val_accuracy: 0.8750\n",
            "Epoch 13/100\n",
            "1/1 [==============================] - 0s 34ms/step - loss: 0.3590 - accuracy: 0.9187 - val_loss: 0.4211 - val_accuracy: 0.8750\n",
            "Epoch 14/100\n",
            "1/1 [==============================] - 0s 35ms/step - loss: 0.3575 - accuracy: 0.9187 - val_loss: 0.4201 - val_accuracy: 0.8750\n",
            "Epoch 15/100\n",
            "1/1 [==============================] - 0s 32ms/step - loss: 0.3560 - accuracy: 0.9219 - val_loss: 0.4191 - val_accuracy: 0.8750\n",
            "Epoch 16/100\n",
            "1/1 [==============================] - 0s 32ms/step - loss: 0.3545 - accuracy: 0.9219 - val_loss: 0.4182 - val_accuracy: 0.8750\n",
            "Epoch 17/100\n",
            "1/1 [==============================] - 0s 32ms/step - loss: 0.3530 - accuracy: 0.9219 - val_loss: 0.4172 - val_accuracy: 0.8750\n",
            "Epoch 18/100\n",
            "1/1 [==============================] - 0s 33ms/step - loss: 0.3516 - accuracy: 0.9219 - val_loss: 0.4162 - val_accuracy: 0.8750\n",
            "Epoch 19/100\n",
            "1/1 [==============================] - 0s 39ms/step - loss: 0.3501 - accuracy: 0.9219 - val_loss: 0.4152 - val_accuracy: 0.8750\n",
            "Epoch 20/100\n",
            "1/1 [==============================] - 0s 31ms/step - loss: 0.3486 - accuracy: 0.9219 - val_loss: 0.4143 - val_accuracy: 0.8750\n",
            "Epoch 21/100\n",
            "1/1 [==============================] - 0s 32ms/step - loss: 0.3472 - accuracy: 0.9219 - val_loss: 0.4133 - val_accuracy: 0.8750\n",
            "Epoch 22/100\n",
            "1/1 [==============================] - 0s 32ms/step - loss: 0.3458 - accuracy: 0.9219 - val_loss: 0.4124 - val_accuracy: 0.8750\n",
            "Epoch 23/100\n",
            "1/1 [==============================] - 0s 39ms/step - loss: 0.3443 - accuracy: 0.9187 - val_loss: 0.4114 - val_accuracy: 0.8750\n",
            "Epoch 24/100\n",
            "1/1 [==============================] - 0s 32ms/step - loss: 0.3429 - accuracy: 0.9187 - val_loss: 0.4105 - val_accuracy: 0.8750\n",
            "Epoch 25/100\n",
            "1/1 [==============================] - 0s 68ms/step - loss: 0.3415 - accuracy: 0.9219 - val_loss: 0.4096 - val_accuracy: 0.8750\n",
            "Epoch 26/100\n",
            "1/1 [==============================] - 0s 51ms/step - loss: 0.3401 - accuracy: 0.9219 - val_loss: 0.4087 - val_accuracy: 0.8625\n",
            "Epoch 27/100\n",
            "1/1 [==============================] - 0s 45ms/step - loss: 0.3387 - accuracy: 0.9250 - val_loss: 0.4078 - val_accuracy: 0.8625\n",
            "Epoch 28/100\n",
            "1/1 [==============================] - 0s 43ms/step - loss: 0.3373 - accuracy: 0.9250 - val_loss: 0.4069 - val_accuracy: 0.8625\n",
            "Epoch 29/100\n",
            "1/1 [==============================] - 0s 53ms/step - loss: 0.3359 - accuracy: 0.9250 - val_loss: 0.4060 - val_accuracy: 0.8625\n",
            "Epoch 30/100\n",
            "1/1 [==============================] - 0s 61ms/step - loss: 0.3345 - accuracy: 0.9250 - val_loss: 0.4051 - val_accuracy: 0.8625\n",
            "Epoch 31/100\n",
            "1/1 [==============================] - 0s 63ms/step - loss: 0.3332 - accuracy: 0.9250 - val_loss: 0.4042 - val_accuracy: 0.8625\n",
            "Epoch 32/100\n",
            "1/1 [==============================] - 0s 51ms/step - loss: 0.3318 - accuracy: 0.9250 - val_loss: 0.4033 - val_accuracy: 0.8625\n",
            "Epoch 33/100\n",
            "1/1 [==============================] - 0s 65ms/step - loss: 0.3305 - accuracy: 0.9250 - val_loss: 0.4024 - val_accuracy: 0.8625\n",
            "Epoch 34/100\n",
            "1/1 [==============================] - 0s 55ms/step - loss: 0.3291 - accuracy: 0.9250 - val_loss: 0.4016 - val_accuracy: 0.8625\n",
            "Epoch 35/100\n",
            "1/1 [==============================] - 0s 61ms/step - loss: 0.3278 - accuracy: 0.9250 - val_loss: 0.4008 - val_accuracy: 0.8625\n",
            "Epoch 36/100\n",
            "1/1 [==============================] - 0s 58ms/step - loss: 0.3265 - accuracy: 0.9250 - val_loss: 0.4001 - val_accuracy: 0.8625\n",
            "Epoch 37/100\n",
            "1/1 [==============================] - 0s 71ms/step - loss: 0.3252 - accuracy: 0.9250 - val_loss: 0.3992 - val_accuracy: 0.8625\n",
            "Epoch 38/100\n",
            "1/1 [==============================] - 0s 45ms/step - loss: 0.3239 - accuracy: 0.9250 - val_loss: 0.3986 - val_accuracy: 0.8625\n",
            "Epoch 39/100\n",
            "1/1 [==============================] - 0s 41ms/step - loss: 0.3226 - accuracy: 0.9250 - val_loss: 0.3977 - val_accuracy: 0.8625\n",
            "Epoch 40/100\n",
            "1/1 [==============================] - 0s 59ms/step - loss: 0.3214 - accuracy: 0.9250 - val_loss: 0.3970 - val_accuracy: 0.8625\n",
            "Epoch 41/100\n",
            "1/1 [==============================] - 0s 53ms/step - loss: 0.3201 - accuracy: 0.9250 - val_loss: 0.3963 - val_accuracy: 0.8625\n",
            "Epoch 42/100\n",
            "1/1 [==============================] - 0s 44ms/step - loss: 0.3189 - accuracy: 0.9250 - val_loss: 0.3957 - val_accuracy: 0.8625\n",
            "Epoch 43/100\n",
            "1/1 [==============================] - 0s 41ms/step - loss: 0.3176 - accuracy: 0.9250 - val_loss: 0.3949 - val_accuracy: 0.8625\n",
            "Epoch 44/100\n",
            "1/1 [==============================] - 0s 41ms/step - loss: 0.3164 - accuracy: 0.9250 - val_loss: 0.3943 - val_accuracy: 0.8625\n",
            "Epoch 45/100\n",
            "1/1 [==============================] - 0s 47ms/step - loss: 0.3151 - accuracy: 0.9250 - val_loss: 0.3935 - val_accuracy: 0.8625\n",
            "Epoch 46/100\n",
            "1/1 [==============================] - 0s 50ms/step - loss: 0.3139 - accuracy: 0.9250 - val_loss: 0.3928 - val_accuracy: 0.8625\n",
            "Epoch 47/100\n",
            "1/1 [==============================] - 0s 45ms/step - loss: 0.3127 - accuracy: 0.9250 - val_loss: 0.3922 - val_accuracy: 0.8625\n",
            "Epoch 48/100\n",
            "1/1 [==============================] - 0s 60ms/step - loss: 0.3115 - accuracy: 0.9250 - val_loss: 0.3915 - val_accuracy: 0.8625\n",
            "Epoch 49/100\n",
            "1/1 [==============================] - 0s 64ms/step - loss: 0.3103 - accuracy: 0.9250 - val_loss: 0.3909 - val_accuracy: 0.8625\n",
            "Epoch 50/100\n",
            "1/1 [==============================] - 0s 48ms/step - loss: 0.3091 - accuracy: 0.9250 - val_loss: 0.3902 - val_accuracy: 0.8625\n",
            "Epoch 51/100\n",
            "1/1 [==============================] - 0s 59ms/step - loss: 0.3079 - accuracy: 0.9250 - val_loss: 0.3895 - val_accuracy: 0.8625\n",
            "Epoch 52/100\n",
            "1/1 [==============================] - 0s 66ms/step - loss: 0.3068 - accuracy: 0.9250 - val_loss: 0.3889 - val_accuracy: 0.8625\n",
            "Epoch 53/100\n",
            "1/1 [==============================] - 0s 48ms/step - loss: 0.3056 - accuracy: 0.9250 - val_loss: 0.3883 - val_accuracy: 0.8625\n",
            "Epoch 54/100\n",
            "1/1 [==============================] - 0s 61ms/step - loss: 0.3045 - accuracy: 0.9250 - val_loss: 0.3877 - val_accuracy: 0.8625\n",
            "Epoch 55/100\n",
            "1/1 [==============================] - 0s 64ms/step - loss: 0.3034 - accuracy: 0.9250 - val_loss: 0.3870 - val_accuracy: 0.8625\n",
            "Epoch 56/100\n",
            "1/1 [==============================] - 0s 75ms/step - loss: 0.3022 - accuracy: 0.9250 - val_loss: 0.3864 - val_accuracy: 0.8625\n",
            "Epoch 57/100\n",
            "1/1 [==============================] - 0s 40ms/step - loss: 0.3011 - accuracy: 0.9250 - val_loss: 0.3858 - val_accuracy: 0.8625\n",
            "Epoch 58/100\n",
            "1/1 [==============================] - 0s 62ms/step - loss: 0.3000 - accuracy: 0.9250 - val_loss: 0.3852 - val_accuracy: 0.8625\n",
            "Epoch 59/100\n",
            "1/1 [==============================] - 0s 58ms/step - loss: 0.2989 - accuracy: 0.9250 - val_loss: 0.3846 - val_accuracy: 0.8625\n",
            "Epoch 60/100\n",
            "1/1 [==============================] - 0s 74ms/step - loss: 0.2978 - accuracy: 0.9250 - val_loss: 0.3840 - val_accuracy: 0.8625\n",
            "Epoch 61/100\n",
            "1/1 [==============================] - 0s 64ms/step - loss: 0.2968 - accuracy: 0.9250 - val_loss: 0.3834 - val_accuracy: 0.8625\n",
            "Epoch 62/100\n",
            "1/1 [==============================] - 0s 56ms/step - loss: 0.2957 - accuracy: 0.9250 - val_loss: 0.3828 - val_accuracy: 0.8625\n",
            "Epoch 63/100\n",
            "1/1 [==============================] - 0s 44ms/step - loss: 0.2946 - accuracy: 0.9250 - val_loss: 0.3822 - val_accuracy: 0.8625\n",
            "Epoch 64/100\n",
            "1/1 [==============================] - 0s 48ms/step - loss: 0.2936 - accuracy: 0.9250 - val_loss: 0.3817 - val_accuracy: 0.8625\n",
            "Epoch 65/100\n",
            "1/1 [==============================] - 0s 49ms/step - loss: 0.2925 - accuracy: 0.9250 - val_loss: 0.3811 - val_accuracy: 0.8625\n",
            "Epoch 66/100\n",
            "1/1 [==============================] - 0s 63ms/step - loss: 0.2915 - accuracy: 0.9250 - val_loss: 0.3804 - val_accuracy: 0.8625\n",
            "Epoch 67/100\n",
            "1/1 [==============================] - 0s 52ms/step - loss: 0.2905 - accuracy: 0.9250 - val_loss: 0.3799 - val_accuracy: 0.8625\n",
            "Epoch 68/100\n",
            "1/1 [==============================] - 0s 40ms/step - loss: 0.2895 - accuracy: 0.9250 - val_loss: 0.3794 - val_accuracy: 0.8625\n",
            "Epoch 69/100\n",
            "1/1 [==============================] - 0s 33ms/step - loss: 0.2885 - accuracy: 0.9250 - val_loss: 0.3788 - val_accuracy: 0.8625\n",
            "Epoch 70/100\n",
            "1/1 [==============================] - 0s 32ms/step - loss: 0.2875 - accuracy: 0.9250 - val_loss: 0.3782 - val_accuracy: 0.8625\n",
            "Epoch 71/100\n",
            "1/1 [==============================] - 0s 30ms/step - loss: 0.2865 - accuracy: 0.9250 - val_loss: 0.3777 - val_accuracy: 0.8625\n",
            "Epoch 72/100\n",
            "1/1 [==============================] - 0s 32ms/step - loss: 0.2855 - accuracy: 0.9250 - val_loss: 0.3771 - val_accuracy: 0.8625\n",
            "Epoch 73/100\n",
            "1/1 [==============================] - 0s 33ms/step - loss: 0.2845 - accuracy: 0.9250 - val_loss: 0.3765 - val_accuracy: 0.8625\n",
            "Epoch 74/100\n",
            "1/1 [==============================] - 0s 33ms/step - loss: 0.2836 - accuracy: 0.9250 - val_loss: 0.3760 - val_accuracy: 0.8625\n",
            "Epoch 75/100\n",
            "1/1 [==============================] - 0s 51ms/step - loss: 0.2826 - accuracy: 0.9250 - val_loss: 0.3756 - val_accuracy: 0.8625\n",
            "Epoch 76/100\n",
            "1/1 [==============================] - 0s 34ms/step - loss: 0.2817 - accuracy: 0.9250 - val_loss: 0.3750 - val_accuracy: 0.8625\n",
            "Epoch 77/100\n",
            "1/1 [==============================] - 0s 33ms/step - loss: 0.2808 - accuracy: 0.9250 - val_loss: 0.3747 - val_accuracy: 0.8625\n",
            "Epoch 78/100\n",
            "1/1 [==============================] - 0s 33ms/step - loss: 0.2799 - accuracy: 0.9250 - val_loss: 0.3742 - val_accuracy: 0.8625\n",
            "Epoch 79/100\n",
            "1/1 [==============================] - 0s 33ms/step - loss: 0.2789 - accuracy: 0.9250 - val_loss: 0.3736 - val_accuracy: 0.8625\n",
            "Epoch 80/100\n",
            "1/1 [==============================] - 0s 32ms/step - loss: 0.2780 - accuracy: 0.9250 - val_loss: 0.3732 - val_accuracy: 0.8625\n",
            "Epoch 81/100\n",
            "1/1 [==============================] - 0s 37ms/step - loss: 0.2771 - accuracy: 0.9250 - val_loss: 0.3727 - val_accuracy: 0.8625\n",
            "Epoch 82/100\n",
            "1/1 [==============================] - 0s 50ms/step - loss: 0.2763 - accuracy: 0.9250 - val_loss: 0.3723 - val_accuracy: 0.8625\n",
            "Epoch 83/100\n",
            "1/1 [==============================] - 0s 36ms/step - loss: 0.2754 - accuracy: 0.9250 - val_loss: 0.3717 - val_accuracy: 0.8625\n",
            "Epoch 84/100\n",
            "1/1 [==============================] - 0s 38ms/step - loss: 0.2745 - accuracy: 0.9250 - val_loss: 0.3714 - val_accuracy: 0.8625\n",
            "Epoch 85/100\n",
            "1/1 [==============================] - 0s 32ms/step - loss: 0.2736 - accuracy: 0.9250 - val_loss: 0.3709 - val_accuracy: 0.8625\n",
            "Epoch 86/100\n",
            "1/1 [==============================] - 0s 37ms/step - loss: 0.2728 - accuracy: 0.9250 - val_loss: 0.3704 - val_accuracy: 0.8625\n",
            "Epoch 87/100\n",
            "1/1 [==============================] - 0s 32ms/step - loss: 0.2719 - accuracy: 0.9250 - val_loss: 0.3701 - val_accuracy: 0.8625\n",
            "Epoch 88/100\n",
            "1/1 [==============================] - 0s 50ms/step - loss: 0.2711 - accuracy: 0.9250 - val_loss: 0.3696 - val_accuracy: 0.8625\n",
            "Epoch 89/100\n",
            "1/1 [==============================] - 0s 49ms/step - loss: 0.2703 - accuracy: 0.9250 - val_loss: 0.3693 - val_accuracy: 0.8625\n",
            "Epoch 90/100\n",
            "1/1 [==============================] - 0s 33ms/step - loss: 0.2695 - accuracy: 0.9250 - val_loss: 0.3690 - val_accuracy: 0.8625\n",
            "Epoch 91/100\n",
            "1/1 [==============================] - 0s 33ms/step - loss: 0.2687 - accuracy: 0.9250 - val_loss: 0.3688 - val_accuracy: 0.8625\n",
            "Epoch 92/100\n",
            "1/1 [==============================] - 0s 33ms/step - loss: 0.2679 - accuracy: 0.9250 - val_loss: 0.3685 - val_accuracy: 0.8625\n",
            "Epoch 93/100\n",
            "1/1 [==============================] - 0s 38ms/step - loss: 0.2671 - accuracy: 0.9250 - val_loss: 0.3682 - val_accuracy: 0.8625\n",
            "Epoch 94/100\n",
            "1/1 [==============================] - 0s 32ms/step - loss: 0.2663 - accuracy: 0.9250 - val_loss: 0.3678 - val_accuracy: 0.8625\n",
            "Epoch 95/100\n",
            "1/1 [==============================] - 0s 35ms/step - loss: 0.2655 - accuracy: 0.9250 - val_loss: 0.3674 - val_accuracy: 0.8625\n",
            "Epoch 96/100\n",
            "1/1 [==============================] - 0s 33ms/step - loss: 0.2648 - accuracy: 0.9250 - val_loss: 0.3671 - val_accuracy: 0.8625\n",
            "Epoch 97/100\n",
            "1/1 [==============================] - 0s 33ms/step - loss: 0.2640 - accuracy: 0.9250 - val_loss: 0.3668 - val_accuracy: 0.8625\n",
            "Epoch 98/100\n",
            "1/1 [==============================] - 0s 36ms/step - loss: 0.2633 - accuracy: 0.9250 - val_loss: 0.3666 - val_accuracy: 0.8625\n",
            "Epoch 99/100\n",
            "1/1 [==============================] - 0s 43ms/step - loss: 0.2625 - accuracy: 0.9312 - val_loss: 0.3663 - val_accuracy: 0.8625\n",
            "Epoch 100/100\n",
            "1/1 [==============================] - 0s 34ms/step - loss: 0.2618 - accuracy: 0.9312 - val_loss: 0.3658 - val_accuracy: 0.8625\n",
            "5.161986827850342\n"
          ]
        }
      ]
    },
    {
      "cell_type": "code",
      "source": [
        "plt.plot(history.history['loss'], color='red')    #BGD\n",
        "plt.plot(history2.history['loss'], color='blue')   #MBGD\n",
        "plt.plot(history1.history['loss'], color='green')  #SGD\n"
      ],
      "metadata": {
        "colab": {
          "base_uri": "https://localhost:8080/",
          "height": 447
        },
        "id": "T7TFUy0p2zDf",
        "outputId": "7ddca49d-06f2-4871-be48-ffaed91f7276"
      },
      "execution_count": 86,
      "outputs": [
        {
          "output_type": "execute_result",
          "data": {
            "text/plain": [
              "[<matplotlib.lines.Line2D at 0x7feb83a1f460>]"
            ]
          },
          "metadata": {},
          "execution_count": 86
        },
        {
          "output_type": "display_data",
          "data": {
            "text/plain": [
              "<Figure size 640x480 with 1 Axes>"
            ],
            "image/png": "[encoded data removed]"
          },
          "metadata": {}
        }
      ]
    },
    {
      "cell_type": "code",
      "source": [],
      "metadata": {
        "id": "6Cv_MNY02zPu"
      },
      "execution_count": 86,
      "outputs": []
    }
  ]
}