{
 "cells": [
  {
   "cell_type": "code",
   "execution_count": 37,
   "metadata": {
    "id": "8Ra8LjanHzZX"
   },
   "outputs": [],
   "source": [
    "import numpy as np\n",
    "import pandas as pd\n",
    "import matplotlib.pyplot as plt\n",
    "import seaborn as sns\n",
    "import tensorflow as tf\n",
    "from tensorflow import keras"
   ]
  },
  {
   "cell_type": "code",
   "execution_count": 38,
   "metadata": {
    "id": "ChImIQqPS1Zp"
   },
   "outputs": [],
   "source": [
    "from keras.models import Sequential\n",
    "from keras.layers import Dense"
   ]
  },
  {
   "cell_type": "code",
   "execution_count": 39,
   "metadata": {
    "id": "Gb4y0XW_S1f6"
   },
   "outputs": [],
   "source": [
    "from sklearn.datasets import make_moons      #by default my system has given certain dataset\n"
   ]
  },
  {
   "cell_type": "code",
   "execution_count": 40,
   "metadata": {
    "id": "jxqS0P4CS1i8"
   },
   "outputs": [],
   "source": [
    "x, y = make_moons(n_samples=250, noise=0.5, random_state=1)"
   ]
  },
  {
   "cell_type": "code",
   "execution_count": 41,
   "metadata": {
    "colab": {
     "base_uri": "https://localhost:8080/"
    },
    "id": "AddzgujtS1kr",
    "outputId": "d7a151e8-4842-4022-80ea-a78d43078612"
   },
   "outputs": [
    {
     "data": {
      "text/plain": [
       "array([[-0.13864707,  0.60440637],\n",
       "       [ 2.63687797,  1.48355087],\n",
       "       [ 0.9573691 ,  0.65508537],\n",
       "       [ 1.20171939, -0.12176989],\n",
       "       [-1.27001886,  1.17368624],\n",
       "       [ 1.71556811, -0.39383736],\n",
       "       [-0.51386075,  1.27013807],\n",
       "       [ 2.32505643, -0.18271497],\n",
       "       [ 1.0838684 , -1.05648572],\n",
       "       [ 1.39579984,  0.12445197],\n",
       "       [ 1.89103014,  0.2727073 ],\n",
       "       [ 1.45977579, -0.12447326],\n",
       "       [-0.71479728,  0.27014913],\n",
       "       [ 0.91257197, -0.18279705],\n",
       "       [ 0.11753077,  0.79062653],\n",
       "       [-0.54941424, -0.29846107],\n",
       "       [ 1.44347919,  0.59637691],\n",
       "       [ 0.49577833,  0.91133911],\n",
       "       [ 0.70679328,  0.57241494],\n",
       "       [-0.26639141,  0.40040737],\n",
       "       [ 1.56221621, -0.56978163],\n",
       "       [ 0.77577206,  0.61043755],\n",
       "       [-0.49440792,  0.58303326],\n",
       "       [ 1.46783488, -0.39291212],\n",
       "       [ 0.10048054, -0.84701214],\n",
       "       [-1.31544552,  0.57708204],\n",
       "       [ 3.26127577,  0.2997495 ],\n",
       "       [ 1.98991162,  0.13619035],\n",
       "       [ 1.23699677,  0.67710951],\n",
       "       [ 2.01041976, -0.40191438],\n",
       "       [ 1.19869243,  0.10648114],\n",
       "       [ 0.69198656,  1.54441748],\n",
       "       [-0.05522351,  0.69131897],\n",
       "       [ 1.78867634, -0.24140345],\n",
       "       [ 0.5083905 , -0.311572  ],\n",
       "       [ 2.4545159 ,  0.1994444 ],\n",
       "       [ 1.50262207,  1.39050016],\n",
       "       [ 1.03663168, -0.10661239],\n",
       "       [ 1.19896418,  0.65053525],\n",
       "       [ 2.35172521,  0.69878306],\n",
       "       [ 1.23995506,  0.01419827],\n",
       "       [ 0.60520732,  1.44043568],\n",
       "       [-1.37308261, -0.1732375 ],\n",
       "       [-1.67400489,  0.08368622],\n",
       "       [ 0.11082714,  1.72005304],\n",
       "       [-1.10100188, -0.32403264],\n",
       "       [ 1.18913353,  0.48175368],\n",
       "       [ 0.34299004,  0.71301558],\n",
       "       [ 1.05369467,  0.4529065 ],\n",
       "       [ 1.70377   ,  0.06455079],\n",
       "       [ 2.6702468 ,  0.24407465],\n",
       "       [ 0.22911006,  0.88967316],\n",
       "       [-1.56401145,  1.52404745],\n",
       "       [-0.1078589 , -0.14971165],\n",
       "       [ 0.25544489, -0.52065504],\n",
       "       [-0.8629803 ,  0.27733486],\n",
       "       [-0.65795818,  1.04750688],\n",
       "       [ 0.69852584,  0.03481211],\n",
       "       [ 0.32779875,  0.0614786 ],\n",
       "       [-0.82908508,  0.78617632],\n",
       "       [ 0.59946544, -0.64396081],\n",
       "       [ 0.193026  , -0.79018726],\n",
       "       [ 0.19839222, -0.09129724],\n",
       "       [ 1.35991873, -0.72030247],\n",
       "       [ 1.27621706,  0.27578954],\n",
       "       [ 1.07815893, -0.58349699],\n",
       "       [-0.86757849,  1.81740866],\n",
       "       [ 0.72016936, -0.90865472],\n",
       "       [ 1.07933735,  0.46939301],\n",
       "       [ 0.0383433 ,  0.68081582],\n",
       "       [-0.57883068,  0.01217549],\n",
       "       [ 2.30618584, -0.10472815],\n",
       "       [ 0.79192799,  0.1396107 ],\n",
       "       [ 1.14237406, -0.36876628],\n",
       "       [ 0.93695113, -0.84616574],\n",
       "       [ 0.49393547,  1.76879247],\n",
       "       [-0.23270315,  1.23323014],\n",
       "       [ 1.53547539, -0.15994168],\n",
       "       [ 0.57892511,  0.16198728],\n",
       "       [ 1.35821203,  0.32557536],\n",
       "       [-1.04232832,  0.54000363],\n",
       "       [ 0.98546468,  0.80803029],\n",
       "       [ 0.37900262, -0.15319575],\n",
       "       [ 0.87003578,  0.59588965],\n",
       "       [-0.40680723,  1.02893187],\n",
       "       [ 1.68172615, -0.16035428],\n",
       "       [ 0.42258804,  0.64397595],\n",
       "       [-0.9509268 ,  0.26882805],\n",
       "       [-0.32031301,  1.24102958],\n",
       "       [-0.25166456,  1.26707136],\n",
       "       [ 1.04857664, -0.41199823],\n",
       "       [ 0.33426152, -0.90836592],\n",
       "       [-0.94557712,  1.40330159],\n",
       "       [-0.99204017, -0.29669763],\n",
       "       [ 0.79620371,  0.57444435],\n",
       "       [ 1.47037887,  0.57014251],\n",
       "       [ 1.68637688, -0.20433353],\n",
       "       [ 2.46477939, -0.08642419],\n",
       "       [-0.57051446,  0.41479993],\n",
       "       [-0.01549331,  0.50386779],\n",
       "       [ 1.27931659, -0.83638702],\n",
       "       [ 0.04016953,  0.58182061],\n",
       "       [ 0.10924283,  1.45759079],\n",
       "       [ 1.38909333,  0.42595819],\n",
       "       [-1.08704809,  0.82829648],\n",
       "       [ 2.2075515 ,  0.90973638],\n",
       "       [-0.29721138,  0.92613295],\n",
       "       [ 2.71770181,  0.06464298],\n",
       "       [-1.80937635, -0.35918861],\n",
       "       [ 0.45388645, -1.26418874],\n",
       "       [-1.20549866,  0.66459676],\n",
       "       [-1.14007245,  0.55611953],\n",
       "       [ 0.09636   , -0.02468954],\n",
       "       [-0.85911507,  0.54485187],\n",
       "       [-0.25471991,  0.28635528],\n",
       "       [ 1.15775834,  0.02225683],\n",
       "       [-0.9838887 ,  0.86569336],\n",
       "       [ 1.1996205 , -0.60358332],\n",
       "       [-0.64666086,  0.59385641],\n",
       "       [ 0.0336174 , -0.50660886],\n",
       "       [ 0.6753919 ,  0.7689475 ],\n",
       "       [-0.3891707 , -0.23242561],\n",
       "       [ 1.88049803,  0.81325758],\n",
       "       [ 0.58715196, -1.63328082],\n",
       "       [ 2.14096756,  0.13317311],\n",
       "       [ 1.18735118, -0.71865193],\n",
       "       [ 2.38805734,  0.01838923],\n",
       "       [ 1.43205685, -0.09215519],\n",
       "       [ 0.60591739,  0.49359303],\n",
       "       [-1.87796282,  0.3573948 ],\n",
       "       [ 0.87605932, -0.31729176],\n",
       "       [-0.34066484, -0.54471103],\n",
       "       [ 1.25524214,  0.23134982],\n",
       "       [ 1.70076553, -0.23910197],\n",
       "       [ 0.09264852, -0.6643147 ],\n",
       "       [-0.29576872,  1.79265277],\n",
       "       [-0.11203305,  0.25350313],\n",
       "       [-1.37271497,  0.90455991],\n",
       "       [-0.32447451,  1.2510833 ],\n",
       "       [ 1.35326564,  0.62664953],\n",
       "       [ 1.26569078,  0.14383438],\n",
       "       [ 1.33504368,  0.12798127],\n",
       "       [ 1.68637606,  0.10283805],\n",
       "       [-1.39467135,  0.53116494],\n",
       "       [ 0.45079232,  0.42014512],\n",
       "       [ 1.54809878,  0.80338497],\n",
       "       [ 2.85965455,  0.26837523],\n",
       "       [-0.20803499, -0.83813402],\n",
       "       [ 0.6870037 ,  0.06080764],\n",
       "       [ 1.14360447, -0.89569613],\n",
       "       [ 1.4568853 ,  0.48591725],\n",
       "       [ 1.01389618, -0.85451475],\n",
       "       [ 0.65636245,  0.95535777],\n",
       "       [-1.20099528,  0.45017969],\n",
       "       [-0.06735075,  0.78254177],\n",
       "       [ 0.81345243,  0.44574492],\n",
       "       [ 0.81478663,  0.8675142 ],\n",
       "       [ 0.27408707,  0.92928797],\n",
       "       [-0.45564529,  1.24163622],\n",
       "       [ 1.30325386,  0.40000802],\n",
       "       [-0.36623504, -0.03600173],\n",
       "       [-0.47788959,  0.73465926],\n",
       "       [ 0.51092043, -0.2529798 ],\n",
       "       [ 0.54234929,  0.75109324],\n",
       "       [ 0.21570683,  0.42302586],\n",
       "       [ 0.42284991,  1.28385949],\n",
       "       [ 0.37578132, -0.13629207],\n",
       "       [ 1.04220238, -0.81258925],\n",
       "       [-0.91852938,  1.22262765],\n",
       "       [ 0.91337707, -0.77103768],\n",
       "       [ 0.29908564, -0.84872885],\n",
       "       [ 0.79770442,  0.11529043],\n",
       "       [-0.85542779,  0.51707218],\n",
       "       [ 0.22507776,  1.38266755],\n",
       "       [ 1.27045671,  0.29606415],\n",
       "       [ 0.38903053,  0.4152817 ],\n",
       "       [ 0.87461706,  1.15928376],\n",
       "       [ 1.42247309, -0.51460811],\n",
       "       [-1.85039926, -0.21586261],\n",
       "       [ 0.46680335, -0.49883293],\n",
       "       [ 1.35887522, -1.05230485],\n",
       "       [-0.35173203,  0.58663282],\n",
       "       [-0.21580318,  0.61967439],\n",
       "       [ 2.5985945 ,  1.32696437],\n",
       "       [ 0.46939541,  0.53949649],\n",
       "       [ 0.87598064,  0.68604744],\n",
       "       [ 0.29987234,  1.08774502],\n",
       "       [ 0.6734185 , -0.80067402],\n",
       "       [-0.66421313, -0.74759365],\n",
       "       [-0.9942504 ,  0.88894538],\n",
       "       [-0.60904471,  0.99663762],\n",
       "       [ 0.39100199,  0.46630868],\n",
       "       [-0.47679668,  1.03239873],\n",
       "       [ 0.18110228,  0.93120324],\n",
       "       [ 0.52018504,  0.84930497],\n",
       "       [ 1.84401747,  0.174368  ],\n",
       "       [ 1.69704061, -0.87277972],\n",
       "       [ 0.6701211 ,  0.5672157 ],\n",
       "       [-0.22518704,  0.20745151],\n",
       "       [ 1.36561548,  0.092171  ],\n",
       "       [ 0.73297014,  0.07873144],\n",
       "       [ 2.01832775,  1.08084447],\n",
       "       [ 1.20806241,  1.04549144],\n",
       "       [ 1.97654102, -0.74855085],\n",
       "       [-0.67882121,  0.78055981],\n",
       "       [ 1.51109302, -0.85723167],\n",
       "       [-1.09995325,  0.41740566],\n",
       "       [ 1.58029412, -0.38487504],\n",
       "       [ 1.32153061,  0.02459353],\n",
       "       [ 0.63500756, -0.1677206 ],\n",
       "       [-0.16159723,  0.63295102],\n",
       "       [-0.77998199,  0.93097812],\n",
       "       [-0.11387724, -0.82433409],\n",
       "       [-0.01158444,  1.60646497],\n",
       "       [ 1.50349721, -0.04852731],\n",
       "       [-0.06348338,  0.24445089],\n",
       "       [ 0.48027082,  0.26139775],\n",
       "       [ 0.91271715,  0.69291166],\n",
       "       [ 1.88366231,  1.13391185],\n",
       "       [-0.35396192,  0.29023938],\n",
       "       [-0.14462712,  0.75090758],\n",
       "       [-0.06560099,  0.92543728],\n",
       "       [ 0.97205094,  1.86719537],\n",
       "       [ 1.9756943 , -0.20508648],\n",
       "       [-0.85083419,  1.02935223],\n",
       "       [ 0.06939171,  1.27631609],\n",
       "       [ 0.27716235,  1.00899575],\n",
       "       [ 0.38215877,  0.03195995],\n",
       "       [ 0.47912164, -0.28135168],\n",
       "       [-0.02945223,  0.70319485],\n",
       "       [ 1.98189061, -0.62074907],\n",
       "       [-0.41849005, -0.0410008 ],\n",
       "       [-0.25425182,  0.53652802],\n",
       "       [ 1.74756416,  0.09776682],\n",
       "       [ 0.8447722 , -1.73226808],\n",
       "       [ 0.50819432,  0.43731639],\n",
       "       [ 0.28135274,  1.12928285],\n",
       "       [-0.20857628,  1.70107494],\n",
       "       [ 1.74834953,  0.0845033 ],\n",
       "       [-0.22794675,  1.09132735],\n",
       "       [-0.42284217,  0.28458266],\n",
       "       [ 0.65030754, -0.75105995],\n",
       "       [-1.14821079,  0.65049884],\n",
       "       [ 0.19602851,  0.26431625],\n",
       "       [ 0.72047338,  0.31641212],\n",
       "       [ 0.21447121,  0.70466959],\n",
       "       [ 0.14196093,  0.63564324],\n",
       "       [-0.90117648, -0.32866178],\n",
       "       [ 2.55033006, -0.37407829],\n",
       "       [ 0.99989889,  0.49982478]])"
      ]
     },
     "execution_count": 41,
     "metadata": {},
     "output_type": "execute_result"
    }
   ],
   "source": [
    "x"
   ]
  },
  {
   "cell_type": "code",
   "execution_count": 42,
   "metadata": {
    "colab": {
     "base_uri": "https://localhost:8080/"
    },
    "id": "eaq5opEaS1nZ",
    "outputId": "709fdc1f-01b7-4b3c-9892-a2cb359d34a7"
   },
   "outputs": [
    {
     "data": {
      "text/plain": [
       "array([0, 1, 1, 1, 0, 1, 0, 1, 1, 0, 1, 1, 0, 1, 1, 0, 1, 0, 0, 0, 1, 0,\n",
       "       0, 1, 0, 0, 1, 1, 0, 1, 1, 0, 0, 1, 1, 1, 0, 0, 0, 1, 1, 0, 0, 0,\n",
       "       0, 0, 0, 0, 0, 0, 1, 0, 0, 1, 1, 0, 0, 0, 0, 1, 1, 1, 1, 1, 0, 1,\n",
       "       0, 1, 1, 0, 0, 1, 1, 1, 1, 0, 0, 1, 1, 1, 0, 0, 1, 0, 0, 1, 0, 0,\n",
       "       0, 0, 1, 1, 0, 0, 0, 0, 0, 1, 0, 0, 1, 0, 0, 1, 0, 1, 0, 1, 0, 1,\n",
       "       0, 0, 1, 0, 0, 1, 0, 1, 0, 1, 0, 1, 1, 1, 1, 1, 1, 1, 0, 0, 1, 1,\n",
       "       0, 1, 1, 0, 1, 0, 0, 1, 1, 1, 1, 0, 1, 1, 1, 0, 1, 0, 1, 1, 0, 0,\n",
       "       0, 1, 0, 0, 0, 1, 0, 1, 1, 0, 1, 0, 1, 1, 0, 1, 1, 1, 0, 1, 0, 1,\n",
       "       0, 1, 0, 1, 1, 1, 0, 1, 0, 0, 0, 1, 0, 0, 0, 0, 0, 0, 0, 0, 1, 0,\n",
       "       1, 1, 1, 1, 0, 1, 0, 1, 0, 1, 0, 1, 0, 1, 0, 0, 0, 0, 0, 0, 1, 1,\n",
       "       0, 0, 1, 1, 0, 0, 1, 1, 1, 1, 1, 1, 0, 0, 1, 0, 1, 0, 1, 1, 1, 1,\n",
       "       0, 1, 1, 1, 0, 1, 1, 0])"
      ]
     },
     "execution_count": 42,
     "metadata": {},
     "output_type": "execute_result"
    }
   ],
   "source": [
    "y"
   ]
  },
  {
   "cell_type": "code",
   "execution_count": 43,
   "metadata": {
    "colab": {
     "base_uri": "https://localhost:8080/",
     "height": 448
    },
    "id": "igpLzRJAS1pL",
    "outputId": "66a9ea9b-fea0-4f8d-cb7a-52042aeb521b"
   },
   "outputs": [
    {
     "data": {
      "text/plain": [
       "<matplotlib.collections.PathCollection at 0x7f4d56f9e9b0>"
      ]
     },
     "execution_count": 43,
     "metadata": {},
     "output_type": "execute_result"
    },
    {
     "data": {
      "image/png": "[encoded data removed]",
      "text/plain": [
       "<Figure size 640x480 with 1 Axes>"
      ]
     },
     "metadata": {},
     "output_type": "display_data"
    }
   ],
   "source": [
    "plt.scatter(x[:,0], x[:,1], c=y, s=100)                        # we get a non-linear visualization"
   ]
  },
  {
   "cell_type": "code",
   "execution_count": 44,
   "metadata": {
    "id": "sRKon6GeS1sM"
   },
   "outputs": [],
   "source": [
    "model = Sequential()\n",
    "model.add(Dense(10, activation='sigmoid', input_dim=2))\n",
    "model.add(Dense(10, activation='sigmoid'))\n",
    "model.add(Dense(10, activation='sigmoid'))\n",
    "model.add(Dense(10, activation='sigmoid'))\n",
    "model.add(Dense(10, activation='sigmoid'))\n",
    "model.add(Dense(10, activation='sigmoid'))\n",
    "model.add(Dense(10, activation='sigmoid'))\n",
    "model.add(Dense(10, activation='sigmoid'))\n",
    "model.add(Dense(10, activation='sigmoid'))\n",
    "model.add(Dense(10, activation='sigmoid'))\n",
    "model.add(Dense(10, activation='sigmoid'))\n",
    "model.add(Dense(10, activation='sigmoid'))\n",
    "model.add(Dense(1, activation='sigmoid'))\n",
    "\n",
    "# 12 hidden layer, two input and 10 neurons"
   ]
  },
  {
   "cell_type": "code",
   "execution_count": 45,
   "metadata": {
    "id": "qcLZDpwUS1t_"
   },
   "outputs": [],
   "source": [
    "model.compile(loss=\"binary_crossentropy\", optimizer='adam', metrics =['accuracy'])"
   ]
  },
  {
   "cell_type": "code",
   "execution_count": 46,
   "metadata": {
    "colab": {
     "base_uri": "https://localhost:8080/"
    },
    "id": "36AkHNALS1xB",
    "outputId": "21bc48ba-acfa-4661-be51-d14da6636c11"
   },
   "outputs": [
    {
     "data": {
      "text/plain": [
       "array([[ 0.31171137,  0.57209724,  0.12896615,  0.42166382, -0.60625136,\n",
       "         0.21667087, -0.6763853 , -0.05687904,  0.34133345, -0.26856124],\n",
       "       [ 0.6188155 ,  0.1771152 ,  0.01502907,  0.00887275, -0.07279956,\n",
       "         0.28949374, -0.29192558,  0.34443337, -0.2086967 , -0.5210438 ]],\n",
       "      dtype=float32)"
      ]
     },
     "execution_count": 46,
     "metadata": {},
     "output_type": "execute_result"
    }
   ],
   "source": [
    "model.get_weights()[0]    # checking 1st neuron, similarly we can check for the rest\n"
   ]
  },
  {
   "cell_type": "code",
   "execution_count": 47,
   "metadata": {
    "id": "78Muph_sS1yq"
   },
   "outputs": [],
   "source": [
    "old_weights = model.get_weights()[0]"
   ]
  },
  {
   "cell_type": "code",
   "execution_count": 48,
   "metadata": {
    "id": "aT2zDmMuS11U"
   },
   "outputs": [],
   "source": [
    "from sklearn.model_selection import train_test_split\n",
    "x_train, x_test, y_train, y_test = train_test_split(x, y, test_size=0.2, random_state=1)"
   ]
  },
  {
   "cell_type": "code",
   "execution_count": 49,
   "metadata": {
    "colab": {
     "base_uri": "https://localhost:8080/"
    },
    "id": "SNMGtyu1S13R",
    "outputId": "7e307f64-6005-4d25-d777-e15699e4c261"
   },
   "outputs": [
    {
     "name": "stdout",
     "output_type": "stream",
     "text": [
      "Epoch 1/100\n",
      "7/7 [==============================] - 5s 42ms/step - loss: 0.6933 - accuracy: 0.5100 - val_loss: 0.6954 - val_accuracy: 0.4600\n",
      "Epoch 2/100\n",
      "7/7 [==============================] - 0s 14ms/step - loss: 0.6939 - accuracy: 0.5100 - val_loss: 0.6941 - val_accuracy: 0.4600\n",
      "Epoch 3/100\n",
      "7/7 [==============================] - 0s 10ms/step - loss: 0.6931 - accuracy: 0.5100 - val_loss: 0.6942 - val_accuracy: 0.4600\n",
      "Epoch 4/100\n",
      "7/7 [==============================] - 0s 12ms/step - loss: 0.6931 - accuracy: 0.5100 - val_loss: 0.6938 - val_accuracy: 0.4600\n",
      "Epoch 5/100\n",
      "7/7 [==============================] - 0s 9ms/step - loss: 0.6932 - accuracy: 0.5100 - val_loss: 0.6935 - val_accuracy: 0.4600\n",
      "Epoch 6/100\n",
      "7/7 [==============================] - 0s 9ms/step - loss: 0.6932 - accuracy: 0.5100 - val_loss: 0.6936 - val_accuracy: 0.4600\n",
      "Epoch 7/100\n",
      "7/7 [==============================] - 0s 12ms/step - loss: 0.6930 - accuracy: 0.5100 - val_loss: 0.6939 - val_accuracy: 0.4600\n",
      "Epoch 8/100\n",
      "7/7 [==============================] - 0s 10ms/step - loss: 0.6934 - accuracy: 0.5100 - val_loss: 0.6944 - val_accuracy: 0.4600\n",
      "Epoch 9/100\n",
      "7/7 [==============================] - 0s 11ms/step - loss: 0.6933 - accuracy: 0.5100 - val_loss: 0.6939 - val_accuracy: 0.4600\n",
      "Epoch 10/100\n",
      "7/7 [==============================] - 0s 12ms/step - loss: 0.6935 - accuracy: 0.5100 - val_loss: 0.6948 - val_accuracy: 0.4600\n",
      "Epoch 11/100\n",
      "7/7 [==============================] - 0s 10ms/step - loss: 0.6930 - accuracy: 0.5100 - val_loss: 0.6948 - val_accuracy: 0.4600\n",
      "Epoch 12/100\n",
      "7/7 [==============================] - 0s 10ms/step - loss: 0.6930 - accuracy: 0.5100 - val_loss: 0.6952 - val_accuracy: 0.4600\n",
      "Epoch 13/100\n",
      "7/7 [==============================] - 0s 10ms/step - loss: 0.6931 - accuracy: 0.5100 - val_loss: 0.6949 - val_accuracy: 0.4600\n",
      "Epoch 14/100\n",
      "7/7 [==============================] - 0s 10ms/step - loss: 0.6932 - accuracy: 0.5100 - val_loss: 0.6957 - val_accuracy: 0.4600\n",
      "Epoch 15/100\n",
      "7/7 [==============================] - 0s 14ms/step - loss: 0.6930 - accuracy: 0.5100 - val_loss: 0.6959 - val_accuracy: 0.4600\n",
      "Epoch 16/100\n",
      "7/7 [==============================] - 0s 13ms/step - loss: 0.6933 - accuracy: 0.5100 - val_loss: 0.6963 - val_accuracy: 0.4600\n",
      "Epoch 17/100\n",
      "7/7 [==============================] - 0s 12ms/step - loss: 0.6931 - accuracy: 0.5100 - val_loss: 0.6951 - val_accuracy: 0.4600\n",
      "Epoch 18/100\n",
      "7/7 [==============================] - 0s 10ms/step - loss: 0.6930 - accuracy: 0.5100 - val_loss: 0.6949 - val_accuracy: 0.4600\n",
      "Epoch 19/100\n",
      "7/7 [==============================] - 0s 10ms/step - loss: 0.6930 - accuracy: 0.5100 - val_loss: 0.6952 - val_accuracy: 0.4600\n",
      "Epoch 20/100\n",
      "7/7 [==============================] - 0s 9ms/step - loss: 0.6930 - accuracy: 0.5100 - val_loss: 0.6958 - val_accuracy: 0.4600\n",
      "Epoch 21/100\n",
      "7/7 [==============================] - 0s 9ms/step - loss: 0.6931 - accuracy: 0.5100 - val_loss: 0.6961 - val_accuracy: 0.4600\n",
      "Epoch 22/100\n",
      "7/7 [==============================] - 0s 9ms/step - loss: 0.6930 - accuracy: 0.5100 - val_loss: 0.6963 - val_accuracy: 0.4600\n",
      "Epoch 23/100\n",
      "7/7 [==============================] - 0s 15ms/step - loss: 0.6931 - accuracy: 0.5100 - val_loss: 0.6964 - val_accuracy: 0.4600\n",
      "Epoch 24/100\n",
      "7/7 [==============================] - 0s 12ms/step - loss: 0.6931 - accuracy: 0.5100 - val_loss: 0.6967 - val_accuracy: 0.4600\n",
      "Epoch 25/100\n",
      "7/7 [==============================] - 0s 10ms/step - loss: 0.6933 - accuracy: 0.5100 - val_loss: 0.6972 - val_accuracy: 0.4600\n",
      "Epoch 26/100\n",
      "7/7 [==============================] - 0s 12ms/step - loss: 0.6932 - accuracy: 0.5100 - val_loss: 0.6971 - val_accuracy: 0.4600\n",
      "Epoch 27/100\n",
      "7/7 [==============================] - 0s 10ms/step - loss: 0.6932 - accuracy: 0.5100 - val_loss: 0.6967 - val_accuracy: 0.4600\n",
      "Epoch 28/100\n",
      "7/7 [==============================] - 0s 13ms/step - loss: 0.6931 - accuracy: 0.5100 - val_loss: 0.6971 - val_accuracy: 0.4600\n",
      "Epoch 29/100\n",
      "7/7 [==============================] - 0s 12ms/step - loss: 0.6932 - accuracy: 0.5100 - val_loss: 0.6971 - val_accuracy: 0.4600\n",
      "Epoch 30/100\n",
      "7/7 [==============================] - 0s 10ms/step - loss: 0.6935 - accuracy: 0.5100 - val_loss: 0.6960 - val_accuracy: 0.4600\n",
      "Epoch 31/100\n",
      "7/7 [==============================] - 0s 10ms/step - loss: 0.6935 - accuracy: 0.5100 - val_loss: 0.6971 - val_accuracy: 0.4600\n",
      "Epoch 32/100\n",
      "7/7 [==============================] - 0s 10ms/step - loss: 0.6932 - accuracy: 0.5100 - val_loss: 0.6967 - val_accuracy: 0.4600\n",
      "Epoch 33/100\n",
      "7/7 [==============================] - 0s 10ms/step - loss: 0.6931 - accuracy: 0.5100 - val_loss: 0.6966 - val_accuracy: 0.4600\n",
      "Epoch 34/100\n",
      "7/7 [==============================] - 0s 13ms/step - loss: 0.6932 - accuracy: 0.5100 - val_loss: 0.6959 - val_accuracy: 0.4600\n",
      "Epoch 35/100\n",
      "7/7 [==============================] - 0s 12ms/step - loss: 0.6932 - accuracy: 0.5100 - val_loss: 0.6954 - val_accuracy: 0.4600\n",
      "Epoch 36/100\n",
      "7/7 [==============================] - 0s 9ms/step - loss: 0.6934 - accuracy: 0.5100 - val_loss: 0.6962 - val_accuracy: 0.4600\n",
      "Epoch 37/100\n",
      "7/7 [==============================] - 0s 10ms/step - loss: 0.6931 - accuracy: 0.5100 - val_loss: 0.6957 - val_accuracy: 0.4600\n",
      "Epoch 38/100\n",
      "7/7 [==============================] - 0s 12ms/step - loss: 0.6929 - accuracy: 0.5100 - val_loss: 0.6953 - val_accuracy: 0.4600\n",
      "Epoch 39/100\n",
      "7/7 [==============================] - 0s 9ms/step - loss: 0.6931 - accuracy: 0.5100 - val_loss: 0.6949 - val_accuracy: 0.4600\n",
      "Epoch 40/100\n",
      "7/7 [==============================] - 0s 9ms/step - loss: 0.6931 - accuracy: 0.5100 - val_loss: 0.6953 - val_accuracy: 0.4600\n",
      "Epoch 41/100\n",
      "7/7 [==============================] - 0s 14ms/step - loss: 0.6929 - accuracy: 0.5100 - val_loss: 0.6949 - val_accuracy: 0.4600\n",
      "Epoch 42/100\n",
      "7/7 [==============================] - 0s 12ms/step - loss: 0.6931 - accuracy: 0.5100 - val_loss: 0.6942 - val_accuracy: 0.4600\n",
      "Epoch 43/100\n",
      "7/7 [==============================] - 0s 9ms/step - loss: 0.6929 - accuracy: 0.5100 - val_loss: 0.6936 - val_accuracy: 0.4600\n",
      "Epoch 44/100\n",
      "7/7 [==============================] - 0s 12ms/step - loss: 0.6930 - accuracy: 0.5100 - val_loss: 0.6932 - val_accuracy: 0.4600\n",
      "Epoch 45/100\n",
      "7/7 [==============================] - 0s 9ms/step - loss: 0.6933 - accuracy: 0.4500 - val_loss: 0.6929 - val_accuracy: 0.5400\n",
      "Epoch 46/100\n",
      "7/7 [==============================] - 0s 9ms/step - loss: 0.6932 - accuracy: 0.4900 - val_loss: 0.6935 - val_accuracy: 0.4600\n",
      "Epoch 47/100\n",
      "7/7 [==============================] - 0s 9ms/step - loss: 0.6930 - accuracy: 0.5100 - val_loss: 0.6941 - val_accuracy: 0.4600\n",
      "Epoch 48/100\n",
      "7/7 [==============================] - 0s 12ms/step - loss: 0.6930 - accuracy: 0.5100 - val_loss: 0.6948 - val_accuracy: 0.4600\n",
      "Epoch 49/100\n",
      "7/7 [==============================] - 0s 12ms/step - loss: 0.6931 - accuracy: 0.5100 - val_loss: 0.6953 - val_accuracy: 0.4600\n",
      "Epoch 50/100\n",
      "7/7 [==============================] - 0s 12ms/step - loss: 0.6930 - accuracy: 0.5100 - val_loss: 0.6955 - val_accuracy: 0.4600\n",
      "Epoch 51/100\n",
      "7/7 [==============================] - 0s 12ms/step - loss: 0.6930 - accuracy: 0.5100 - val_loss: 0.6952 - val_accuracy: 0.4600\n",
      "Epoch 52/100\n",
      "7/7 [==============================] - 0s 9ms/step - loss: 0.6929 - accuracy: 0.5100 - val_loss: 0.6946 - val_accuracy: 0.4600\n",
      "Epoch 53/100\n",
      "7/7 [==============================] - 0s 9ms/step - loss: 0.6930 - accuracy: 0.5100 - val_loss: 0.6941 - val_accuracy: 0.4600\n",
      "Epoch 54/100\n",
      "7/7 [==============================] - 0s 14ms/step - loss: 0.6934 - accuracy: 0.5100 - val_loss: 0.6950 - val_accuracy: 0.4600\n",
      "Epoch 55/100\n",
      "7/7 [==============================] - 0s 9ms/step - loss: 0.6929 - accuracy: 0.5100 - val_loss: 0.6953 - val_accuracy: 0.4600\n",
      "Epoch 56/100\n",
      "7/7 [==============================] - 0s 12ms/step - loss: 0.6930 - accuracy: 0.5100 - val_loss: 0.6952 - val_accuracy: 0.4600\n",
      "Epoch 57/100\n",
      "7/7 [==============================] - 0s 9ms/step - loss: 0.6930 - accuracy: 0.5100 - val_loss: 0.6953 - val_accuracy: 0.4600\n",
      "Epoch 58/100\n",
      "7/7 [==============================] - 0s 10ms/step - loss: 0.6930 - accuracy: 0.5100 - val_loss: 0.6956 - val_accuracy: 0.4600\n",
      "Epoch 59/100\n",
      "7/7 [==============================] - 0s 10ms/step - loss: 0.6931 - accuracy: 0.5100 - val_loss: 0.6950 - val_accuracy: 0.4600\n",
      "Epoch 60/100\n",
      "7/7 [==============================] - 0s 9ms/step - loss: 0.6930 - accuracy: 0.5100 - val_loss: 0.6946 - val_accuracy: 0.4600\n",
      "Epoch 61/100\n",
      "7/7 [==============================] - 0s 12ms/step - loss: 0.6930 - accuracy: 0.5100 - val_loss: 0.6948 - val_accuracy: 0.4600\n",
      "Epoch 62/100\n",
      "7/7 [==============================] - 0s 10ms/step - loss: 0.6931 - accuracy: 0.5100 - val_loss: 0.6943 - val_accuracy: 0.4600\n",
      "Epoch 63/100\n",
      "7/7 [==============================] - 0s 13ms/step - loss: 0.6931 - accuracy: 0.5100 - val_loss: 0.6946 - val_accuracy: 0.4600\n",
      "Epoch 64/100\n",
      "7/7 [==============================] - 0s 12ms/step - loss: 0.6930 - accuracy: 0.5100 - val_loss: 0.6940 - val_accuracy: 0.4600\n",
      "Epoch 65/100\n",
      "7/7 [==============================] - 0s 12ms/step - loss: 0.6932 - accuracy: 0.5100 - val_loss: 0.6942 - val_accuracy: 0.4600\n",
      "Epoch 66/100\n",
      "7/7 [==============================] - 0s 10ms/step - loss: 0.6930 - accuracy: 0.5100 - val_loss: 0.6950 - val_accuracy: 0.4600\n",
      "Epoch 67/100\n",
      "7/7 [==============================] - 0s 14ms/step - loss: 0.6931 - accuracy: 0.5100 - val_loss: 0.6960 - val_accuracy: 0.4600\n",
      "Epoch 68/100\n",
      "7/7 [==============================] - 0s 13ms/step - loss: 0.6931 - accuracy: 0.5100 - val_loss: 0.6966 - val_accuracy: 0.4600\n",
      "Epoch 69/100\n",
      "7/7 [==============================] - 0s 12ms/step - loss: 0.6932 - accuracy: 0.5100 - val_loss: 0.6961 - val_accuracy: 0.4600\n",
      "Epoch 70/100\n",
      "7/7 [==============================] - 0s 12ms/step - loss: 0.6930 - accuracy: 0.5100 - val_loss: 0.6955 - val_accuracy: 0.4600\n",
      "Epoch 71/100\n",
      "7/7 [==============================] - 0s 10ms/step - loss: 0.6930 - accuracy: 0.5100 - val_loss: 0.6946 - val_accuracy: 0.4600\n",
      "Epoch 72/100\n",
      "7/7 [==============================] - 0s 13ms/step - loss: 0.6931 - accuracy: 0.5100 - val_loss: 0.6942 - val_accuracy: 0.4600\n",
      "Epoch 73/100\n",
      "7/7 [==============================] - 0s 10ms/step - loss: 0.6931 - accuracy: 0.5100 - val_loss: 0.6947 - val_accuracy: 0.4600\n",
      "Epoch 74/100\n",
      "7/7 [==============================] - 0s 11ms/step - loss: 0.6930 - accuracy: 0.5100 - val_loss: 0.6948 - val_accuracy: 0.4600\n",
      "Epoch 75/100\n",
      "7/7 [==============================] - 0s 12ms/step - loss: 0.6932 - accuracy: 0.5100 - val_loss: 0.6952 - val_accuracy: 0.4600\n",
      "Epoch 76/100\n",
      "7/7 [==============================] - 0s 10ms/step - loss: 0.6929 - accuracy: 0.5100 - val_loss: 0.6949 - val_accuracy: 0.4600\n",
      "Epoch 77/100\n",
      "7/7 [==============================] - 0s 9ms/step - loss: 0.6931 - accuracy: 0.5100 - val_loss: 0.6946 - val_accuracy: 0.4600\n",
      "Epoch 78/100\n",
      "7/7 [==============================] - 0s 12ms/step - loss: 0.6930 - accuracy: 0.5100 - val_loss: 0.6951 - val_accuracy: 0.4600\n",
      "Epoch 79/100\n",
      "7/7 [==============================] - 0s 12ms/step - loss: 0.6930 - accuracy: 0.5100 - val_loss: 0.6950 - val_accuracy: 0.4600\n",
      "Epoch 80/100\n",
      "7/7 [==============================] - 0s 12ms/step - loss: 0.6930 - accuracy: 0.5100 - val_loss: 0.6950 - val_accuracy: 0.4600\n",
      "Epoch 81/100\n",
      "7/7 [==============================] - 0s 10ms/step - loss: 0.6930 - accuracy: 0.5100 - val_loss: 0.6949 - val_accuracy: 0.4600\n",
      "Epoch 82/100\n",
      "7/7 [==============================] - 0s 9ms/step - loss: 0.6930 - accuracy: 0.5100 - val_loss: 0.6946 - val_accuracy: 0.4600\n",
      "Epoch 83/100\n",
      "7/7 [==============================] - 0s 10ms/step - loss: 0.6930 - accuracy: 0.5100 - val_loss: 0.6946 - val_accuracy: 0.4600\n",
      "Epoch 84/100\n",
      "7/7 [==============================] - 0s 10ms/step - loss: 0.6930 - accuracy: 0.5100 - val_loss: 0.6946 - val_accuracy: 0.4600\n",
      "Epoch 85/100\n",
      "7/7 [==============================] - 0s 10ms/step - loss: 0.6931 - accuracy: 0.5100 - val_loss: 0.6949 - val_accuracy: 0.4600\n",
      "Epoch 86/100\n",
      "7/7 [==============================] - 0s 12ms/step - loss: 0.6932 - accuracy: 0.5100 - val_loss: 0.6952 - val_accuracy: 0.4600\n",
      "Epoch 87/100\n",
      "7/7 [==============================] - 0s 10ms/step - loss: 0.6934 - accuracy: 0.5100 - val_loss: 0.6941 - val_accuracy: 0.4600\n",
      "Epoch 88/100\n",
      "7/7 [==============================] - 0s 9ms/step - loss: 0.6931 - accuracy: 0.5100 - val_loss: 0.6944 - val_accuracy: 0.4600\n",
      "Epoch 89/100\n",
      "7/7 [==============================] - 0s 9ms/step - loss: 0.6931 - accuracy: 0.5100 - val_loss: 0.6951 - val_accuracy: 0.4600\n",
      "Epoch 90/100\n",
      "7/7 [==============================] - 0s 12ms/step - loss: 0.6929 - accuracy: 0.5100 - val_loss: 0.6955 - val_accuracy: 0.4600\n",
      "Epoch 91/100\n",
      "7/7 [==============================] - 0s 9ms/step - loss: 0.6930 - accuracy: 0.5100 - val_loss: 0.6957 - val_accuracy: 0.4600\n",
      "Epoch 92/100\n",
      "7/7 [==============================] - 0s 10ms/step - loss: 0.6930 - accuracy: 0.5100 - val_loss: 0.6954 - val_accuracy: 0.4600\n",
      "Epoch 93/100\n",
      "7/7 [==============================] - 0s 12ms/step - loss: 0.6931 - accuracy: 0.5100 - val_loss: 0.6953 - val_accuracy: 0.4600\n",
      "Epoch 94/100\n",
      "7/7 [==============================] - 0s 12ms/step - loss: 0.6930 - accuracy: 0.5100 - val_loss: 0.6952 - val_accuracy: 0.4600\n",
      "Epoch 95/100\n",
      "7/7 [==============================] - 0s 12ms/step - loss: 0.6929 - accuracy: 0.5100 - val_loss: 0.6948 - val_accuracy: 0.4600\n",
      "Epoch 96/100\n",
      "7/7 [==============================] - 0s 9ms/step - loss: 0.6930 - accuracy: 0.5100 - val_loss: 0.6946 - val_accuracy: 0.4600\n",
      "Epoch 97/100\n",
      "7/7 [==============================] - 0s 10ms/step - loss: 0.6930 - accuracy: 0.5100 - val_loss: 0.6943 - val_accuracy: 0.4600\n",
      "Epoch 98/100\n",
      "7/7 [==============================] - 0s 13ms/step - loss: 0.6930 - accuracy: 0.5100 - val_loss: 0.6939 - val_accuracy: 0.4600\n",
      "Epoch 99/100\n",
      "7/7 [==============================] - 0s 12ms/step - loss: 0.6930 - accuracy: 0.5100 - val_loss: 0.6940 - val_accuracy: 0.4600\n",
      "Epoch 100/100\n",
      "7/7 [==============================] - 0s 12ms/step - loss: 0.6930 - accuracy: 0.5100 - val_loss: 0.6941 - val_accuracy: 0.4600\n"
     ]
    },
    {
     "data": {
      "text/plain": [
       "<keras.callbacks.History at 0x7f4d57068730>"
      ]
     },
     "execution_count": 49,
     "metadata": {},
     "output_type": "execute_result"
    }
   ],
   "source": [
    "model.fit(x_train, y_train, validation_data=(x_test, y_test), epochs=100)"
   ]
  },
  {
   "cell_type": "code",
   "execution_count": 50,
   "metadata": {
    "id": "JhbkAqpoS16f"
   },
   "outputs": [],
   "source": [
    "# We observe taht even though we run 100 time, training accuracy is 51% and test accuracy is 46% and the loss value have not decreased \n",
    "# ie., there is no improvement in the training. We can conclude that there is a huge possibility of Vanishing Gradient Problem. "
   ]
  },
  {
   "cell_type": "code",
   "execution_count": 51,
   "metadata": {
    "id": "EfXI1x9oS179"
   },
   "outputs": [],
   "source": [
    "new_weights = model.get_weights()[0]"
   ]
  },
  {
   "cell_type": "code",
   "execution_count": 52,
   "metadata": {
    "colab": {
     "base_uri": "https://localhost:8080/"
    },
    "id": "3fX38oFGS1-7",
    "outputId": "c4a0a9fd-ce7a-4a21-d3fb-f6b9e42752e8"
   },
   "outputs": [
    {
     "data": {
      "text/plain": [
       "array([[ 0.3090549 ,  0.57267123,  0.12641414,  0.42713088, -0.61158544,\n",
       "         0.22548778, -0.6794073 , -0.05127204,  0.3475729 , -0.2501831 ],\n",
       "       [ 0.62053186,  0.17665045,  0.01625149,  0.00517783, -0.0688126 ,\n",
       "         0.28442606, -0.28947008,  0.34121206, -0.21257733, -0.5322933 ]],\n",
       "      dtype=float32)"
      ]
     },
     "execution_count": 52,
     "metadata": {},
     "output_type": "execute_result"
    }
   ],
   "source": [
    "new_weights"
   ]
  },
  {
   "cell_type": "code",
   "execution_count": 53,
   "metadata": {
    "colab": {
     "base_uri": "https://localhost:8080/"
    },
    "id": "JOxujKfOS2Ao",
    "outputId": "b38c22ca-fb4d-4679-82ba-881be5c766f4"
   },
   "outputs": [
    {
     "data": {
      "text/plain": [
       "array([[ 0.31171137,  0.57209724,  0.12896615,  0.42166382, -0.60625136,\n",
       "         0.21667087, -0.6763853 , -0.05687904,  0.34133345, -0.26856124],\n",
       "       [ 0.6188155 ,  0.1771152 ,  0.01502907,  0.00887275, -0.07279956,\n",
       "         0.28949374, -0.29192558,  0.34443337, -0.2086967 , -0.5210438 ]],\n",
       "      dtype=float32)"
      ]
     },
     "execution_count": 53,
     "metadata": {},
     "output_type": "execute_result"
    }
   ],
   "source": [
    "old_weights"
   ]
  },
  {
   "cell_type": "code",
   "execution_count": 54,
   "metadata": {
    "id": "X2bTUmMBS2Dw"
   },
   "outputs": [],
   "source": [
    "# from the above we see that the new weighs and the old weights are very close to eachother"
   ]
  },
  {
   "cell_type": "code",
   "execution_count": 55,
   "metadata": {
    "colab": {
     "base_uri": "https://localhost:8080/"
    },
    "id": "ZwuBESEqae48",
    "outputId": "d9dd6817-7c9e-47b5-a488-753740408eea"
   },
   "outputs": [
    {
     "data": {
      "text/plain": [
       "0.001"
      ]
     },
     "execution_count": 55,
     "metadata": {},
     "output_type": "execute_result"
    }
   ],
   "source": [
    "model.optimizer.get_config()['learning_rate']"
   ]
  },
  {
   "cell_type": "code",
   "execution_count": 56,
   "metadata": {
    "id": "88JCAJp9S2FY"
   },
   "outputs": [],
   "source": [
    "gradient = (old_weights - new_weights)/0.001\n",
    "percent_change = abs(100*(old_weights - new_weights)/0.001)"
   ]
  },
  {
   "cell_type": "code",
   "execution_count": 57,
   "metadata": {
    "colab": {
     "base_uri": "https://localhost:8080/"
    },
    "id": "ndD21yNgS2Ij",
    "outputId": "da4fba03-4541-42a2-f090-b5b4edc49353"
   },
   "outputs": [
    {
     "data": {
      "text/plain": [
       "array([[  2.6564596,  -0.5739927,   2.5520175,  -5.4670568,   5.334079 ,\n",
       "         -8.816913 ,   3.0220149,  -5.607005 ,  -6.239444 , -18.378138 ],\n",
       "       [ -1.7163752,   0.4647523,  -1.222413 ,   3.6949127,  -3.9869618,\n",
       "          5.067676 ,  -2.4555027,   3.221303 ,   3.8806348,  11.249541 ]],\n",
       "      dtype=float32)"
      ]
     },
     "execution_count": 57,
     "metadata": {},
     "output_type": "execute_result"
    }
   ],
   "source": [
    "gradient"
   ]
  },
  {
   "cell_type": "code",
   "execution_count": 58,
   "metadata": {
    "colab": {
     "base_uri": "https://localhost:8080/"
    },
    "id": "3kNkpWQyS2Lb",
    "outputId": "3cf721cb-f03d-475d-9f26-fd7b8d4a28bd"
   },
   "outputs": [
    {
     "data": {
      "text/plain": [
       "array([[ 265.64597 ,   57.39927 ,  255.20175 ,  546.7057  ,  533.4079  ,\n",
       "         881.6912  ,  302.2015  ,  560.7005  ,  623.9444  , 1837.8137  ],\n",
       "       [ 171.63753 ,   46.47523 ,  122.241295,  369.49127 ,  398.6962  ,\n",
       "         506.7676  ,  245.55026 ,  322.1303  ,  388.06348 , 1124.9542  ]],\n",
       "      dtype=float32)"
      ]
     },
     "execution_count": 58,
     "metadata": {},
     "output_type": "execute_result"
    }
   ],
   "source": [
    "percent_change"
   ]
  },
  {
   "cell_type": "code",
   "execution_count": 59,
   "metadata": {
    "id": "ZYlZvX3wbFs9"
   },
   "outputs": [],
   "source": [
    "# therefore though we have change the percentage value only a slight difference we can observe between new and old weights."
   ]
  },
  {
   "cell_type": "markdown",
   "metadata": {
    "id": "W61zfIsNcBwC"
   },
   "source": [
    "HOW TO HANDLE:\n",
    "\n",
    "Approach 1 : Reduce Complexity"
   ]
  },
  {
   "cell_type": "code",
   "execution_count": 62,
   "metadata": {
    "id": "HbDSjmoubFyl"
   },
   "outputs": [],
   "source": [
    "model1 = Sequential()\n",
    "model1.add(Dense(10, activation='sigmoid', input_dim=2))\n",
    "model1.add(Dense(10, activation='sigmoid'))\n",
    "model1.add(Dense(1, activation='sigmoid'))\n",
    "model1.compile(loss=\"binary_crossentropy\", optimizer='adam', metrics =['accuracy'])\n"
   ]
  },
  {
   "cell_type": "code",
   "execution_count": 64,
   "metadata": {
    "colab": {
     "base_uri": "https://localhost:8080/"
    },
    "id": "jF-tumIubF14",
    "outputId": "df6f2ec2-e4f5-471a-aa91-e9cef7b8b623"
   },
   "outputs": [
    {
     "name": "stdout",
     "output_type": "stream",
     "text": [
      "Epoch 1/100\n",
      "7/7 [==============================] - 1s 38ms/step - loss: 0.9489 - accuracy: 0.4900 - val_loss: 0.8577 - val_accuracy: 0.5400\n",
      "Epoch 2/100\n",
      "7/7 [==============================] - 0s 14ms/step - loss: 0.9185 - accuracy: 0.4900 - val_loss: 0.8345 - val_accuracy: 0.5400\n",
      "Epoch 3/100\n",
      "7/7 [==============================] - 0s 13ms/step - loss: 0.8921 - accuracy: 0.4900 - val_loss: 0.8130 - val_accuracy: 0.5400\n",
      "Epoch 4/100\n",
      "7/7 [==============================] - 0s 13ms/step - loss: 0.8677 - accuracy: 0.4900 - val_loss: 0.7929 - val_accuracy: 0.5400\n",
      "Epoch 5/100\n",
      "7/7 [==============================] - 0s 13ms/step - loss: 0.8453 - accuracy: 0.4900 - val_loss: 0.7754 - val_accuracy: 0.5400\n",
      "Epoch 6/100\n",
      "7/7 [==============================] - 0s 16ms/step - loss: 0.8234 - accuracy: 0.4900 - val_loss: 0.7595 - val_accuracy: 0.5400\n",
      "Epoch 7/100\n",
      "7/7 [==============================] - 0s 13ms/step - loss: 0.8039 - accuracy: 0.4900 - val_loss: 0.7454 - val_accuracy: 0.5400\n",
      "Epoch 8/100\n",
      "7/7 [==============================] - 0s 13ms/step - loss: 0.7875 - accuracy: 0.4900 - val_loss: 0.7326 - val_accuracy: 0.5400\n",
      "Epoch 9/100\n",
      "7/7 [==============================] - 0s 11ms/step - loss: 0.7710 - accuracy: 0.4900 - val_loss: 0.7213 - val_accuracy: 0.5400\n",
      "Epoch 10/100\n",
      "7/7 [==============================] - 0s 13ms/step - loss: 0.7571 - accuracy: 0.4900 - val_loss: 0.7111 - val_accuracy: 0.5400\n",
      "Epoch 11/100\n",
      "7/7 [==============================] - 0s 14ms/step - loss: 0.7446 - accuracy: 0.4900 - val_loss: 0.7024 - val_accuracy: 0.5400\n",
      "Epoch 12/100\n",
      "7/7 [==============================] - 0s 13ms/step - loss: 0.7339 - accuracy: 0.4900 - val_loss: 0.6953 - val_accuracy: 0.5400\n",
      "Epoch 13/100\n",
      "7/7 [==============================] - 0s 12ms/step - loss: 0.7242 - accuracy: 0.4900 - val_loss: 0.6894 - val_accuracy: 0.5400\n",
      "Epoch 14/100\n",
      "7/7 [==============================] - 0s 14ms/step - loss: 0.7164 - accuracy: 0.4900 - val_loss: 0.6843 - val_accuracy: 0.5400\n",
      "Epoch 15/100\n",
      "7/7 [==============================] - 0s 13ms/step - loss: 0.7091 - accuracy: 0.4900 - val_loss: 0.6798 - val_accuracy: 0.5400\n",
      "Epoch 16/100\n",
      "7/7 [==============================] - 0s 11ms/step - loss: 0.7029 - accuracy: 0.4900 - val_loss: 0.6758 - val_accuracy: 0.5400\n",
      "Epoch 17/100\n",
      "7/7 [==============================] - 0s 12ms/step - loss: 0.6971 - accuracy: 0.4900 - val_loss: 0.6723 - val_accuracy: 0.5400\n",
      "Epoch 18/100\n",
      "7/7 [==============================] - 0s 15ms/step - loss: 0.6918 - accuracy: 0.4900 - val_loss: 0.6694 - val_accuracy: 0.5400\n",
      "Epoch 19/100\n",
      "7/7 [==============================] - 0s 13ms/step - loss: 0.6871 - accuracy: 0.4900 - val_loss: 0.6667 - val_accuracy: 0.5400\n",
      "Epoch 20/100\n",
      "7/7 [==============================] - 0s 11ms/step - loss: 0.6829 - accuracy: 0.4900 - val_loss: 0.6643 - val_accuracy: 0.5400\n",
      "Epoch 21/100\n",
      "7/7 [==============================] - 0s 10ms/step - loss: 0.6791 - accuracy: 0.4900 - val_loss: 0.6622 - val_accuracy: 0.5400\n",
      "Epoch 22/100\n",
      "7/7 [==============================] - 0s 14ms/step - loss: 0.6753 - accuracy: 0.4900 - val_loss: 0.6602 - val_accuracy: 0.5400\n",
      "Epoch 23/100\n",
      "7/7 [==============================] - 0s 13ms/step - loss: 0.6721 - accuracy: 0.4900 - val_loss: 0.6585 - val_accuracy: 0.5400\n",
      "Epoch 24/100\n",
      "7/7 [==============================] - 0s 14ms/step - loss: 0.6689 - accuracy: 0.4900 - val_loss: 0.6570 - val_accuracy: 0.5400\n",
      "Epoch 25/100\n",
      "7/7 [==============================] - 0s 12ms/step - loss: 0.6660 - accuracy: 0.4900 - val_loss: 0.6556 - val_accuracy: 0.5400\n",
      "Epoch 26/100\n",
      "7/7 [==============================] - 0s 10ms/step - loss: 0.6636 - accuracy: 0.4900 - val_loss: 0.6543 - val_accuracy: 0.5600\n",
      "Epoch 27/100\n",
      "7/7 [==============================] - 0s 8ms/step - loss: 0.6617 - accuracy: 0.5200 - val_loss: 0.6531 - val_accuracy: 0.6400\n",
      "Epoch 28/100\n",
      "7/7 [==============================] - 0s 10ms/step - loss: 0.6593 - accuracy: 0.5900 - val_loss: 0.6520 - val_accuracy: 0.7200\n",
      "Epoch 29/100\n",
      "7/7 [==============================] - 0s 8ms/step - loss: 0.6572 - accuracy: 0.6450 - val_loss: 0.6507 - val_accuracy: 0.7800\n",
      "Epoch 30/100\n",
      "7/7 [==============================] - 0s 9ms/step - loss: 0.6553 - accuracy: 0.6550 - val_loss: 0.6493 - val_accuracy: 0.8200\n",
      "Epoch 31/100\n",
      "7/7 [==============================] - 0s 8ms/step - loss: 0.6532 - accuracy: 0.6700 - val_loss: 0.6480 - val_accuracy: 0.8000\n",
      "Epoch 32/100\n",
      "7/7 [==============================] - 0s 11ms/step - loss: 0.6515 - accuracy: 0.6800 - val_loss: 0.6467 - val_accuracy: 0.8000\n",
      "Epoch 33/100\n",
      "7/7 [==============================] - 0s 10ms/step - loss: 0.6494 - accuracy: 0.7150 - val_loss: 0.6455 - val_accuracy: 0.8000\n",
      "Epoch 34/100\n",
      "7/7 [==============================] - 0s 8ms/step - loss: 0.6475 - accuracy: 0.7300 - val_loss: 0.6439 - val_accuracy: 0.8000\n",
      "Epoch 35/100\n",
      "7/7 [==============================] - 0s 10ms/step - loss: 0.6456 - accuracy: 0.7550 - val_loss: 0.6424 - val_accuracy: 0.8000\n",
      "Epoch 36/100\n",
      "7/7 [==============================] - 0s 8ms/step - loss: 0.6439 - accuracy: 0.7600 - val_loss: 0.6407 - val_accuracy: 0.8000\n",
      "Epoch 37/100\n",
      "7/7 [==============================] - 0s 10ms/step - loss: 0.6417 - accuracy: 0.7750 - val_loss: 0.6390 - val_accuracy: 0.8000\n",
      "Epoch 38/100\n",
      "7/7 [==============================] - 0s 10ms/step - loss: 0.6399 - accuracy: 0.7800 - val_loss: 0.6375 - val_accuracy: 0.8000\n",
      "Epoch 39/100\n",
      "7/7 [==============================] - 0s 11ms/step - loss: 0.6381 - accuracy: 0.7800 - val_loss: 0.6360 - val_accuracy: 0.8200\n",
      "Epoch 40/100\n",
      "7/7 [==============================] - 0s 10ms/step - loss: 0.6360 - accuracy: 0.7800 - val_loss: 0.6346 - val_accuracy: 0.7800\n",
      "Epoch 41/100\n",
      "7/7 [==============================] - 0s 7ms/step - loss: 0.6341 - accuracy: 0.7850 - val_loss: 0.6331 - val_accuracy: 0.8000\n",
      "Epoch 42/100\n",
      "7/7 [==============================] - 0s 8ms/step - loss: 0.6320 - accuracy: 0.7900 - val_loss: 0.6315 - val_accuracy: 0.8000\n",
      "Epoch 43/100\n",
      "7/7 [==============================] - 0s 10ms/step - loss: 0.6301 - accuracy: 0.8000 - val_loss: 0.6299 - val_accuracy: 0.8000\n",
      "Epoch 44/100\n",
      "7/7 [==============================] - 0s 8ms/step - loss: 0.6281 - accuracy: 0.8000 - val_loss: 0.6281 - val_accuracy: 0.8000\n",
      "Epoch 45/100\n",
      "7/7 [==============================] - 0s 10ms/step - loss: 0.6262 - accuracy: 0.8000 - val_loss: 0.6262 - val_accuracy: 0.8000\n",
      "Epoch 46/100\n",
      "7/7 [==============================] - 0s 11ms/step - loss: 0.6242 - accuracy: 0.8000 - val_loss: 0.6242 - val_accuracy: 0.8000\n",
      "Epoch 47/100\n",
      "7/7 [==============================] - 0s 10ms/step - loss: 0.6223 - accuracy: 0.8000 - val_loss: 0.6222 - val_accuracy: 0.8000\n",
      "Epoch 48/100\n",
      "7/7 [==============================] - 0s 8ms/step - loss: 0.6203 - accuracy: 0.8000 - val_loss: 0.6203 - val_accuracy: 0.8000\n",
      "Epoch 49/100\n",
      "7/7 [==============================] - 0s 8ms/step - loss: 0.6182 - accuracy: 0.8000 - val_loss: 0.6183 - val_accuracy: 0.8000\n",
      "Epoch 50/100\n",
      "7/7 [==============================] - 0s 8ms/step - loss: 0.6161 - accuracy: 0.8000 - val_loss: 0.6161 - val_accuracy: 0.8000\n",
      "Epoch 51/100\n",
      "7/7 [==============================] - 0s 8ms/step - loss: 0.6140 - accuracy: 0.8000 - val_loss: 0.6142 - val_accuracy: 0.8000\n",
      "Epoch 52/100\n",
      "7/7 [==============================] - 0s 11ms/step - loss: 0.6120 - accuracy: 0.8000 - val_loss: 0.6124 - val_accuracy: 0.8000\n",
      "Epoch 53/100\n",
      "7/7 [==============================] - 0s 8ms/step - loss: 0.6098 - accuracy: 0.8000 - val_loss: 0.6103 - val_accuracy: 0.8000\n",
      "Epoch 54/100\n",
      "7/7 [==============================] - 0s 8ms/step - loss: 0.6076 - accuracy: 0.8000 - val_loss: 0.6080 - val_accuracy: 0.8000\n",
      "Epoch 55/100\n",
      "7/7 [==============================] - 0s 10ms/step - loss: 0.6055 - accuracy: 0.8000 - val_loss: 0.6060 - val_accuracy: 0.8000\n",
      "Epoch 56/100\n",
      "7/7 [==============================] - 0s 10ms/step - loss: 0.6033 - accuracy: 0.8000 - val_loss: 0.6037 - val_accuracy: 0.8000\n",
      "Epoch 57/100\n",
      "7/7 [==============================] - 0s 10ms/step - loss: 0.6011 - accuracy: 0.8000 - val_loss: 0.6015 - val_accuracy: 0.8000\n",
      "Epoch 58/100\n",
      "7/7 [==============================] - 0s 10ms/step - loss: 0.5990 - accuracy: 0.7950 - val_loss: 0.5993 - val_accuracy: 0.8000\n",
      "Epoch 59/100\n",
      "7/7 [==============================] - 0s 8ms/step - loss: 0.5967 - accuracy: 0.8000 - val_loss: 0.5971 - val_accuracy: 0.8000\n",
      "Epoch 60/100\n",
      "7/7 [==============================] - 0s 10ms/step - loss: 0.5945 - accuracy: 0.7950 - val_loss: 0.5948 - val_accuracy: 0.8000\n",
      "Epoch 61/100\n",
      "7/7 [==============================] - 0s 11ms/step - loss: 0.5922 - accuracy: 0.7950 - val_loss: 0.5929 - val_accuracy: 0.8000\n",
      "Epoch 62/100\n",
      "7/7 [==============================] - 0s 11ms/step - loss: 0.5901 - accuracy: 0.8000 - val_loss: 0.5912 - val_accuracy: 0.8200\n",
      "Epoch 63/100\n",
      "7/7 [==============================] - 0s 7ms/step - loss: 0.5876 - accuracy: 0.8000 - val_loss: 0.5891 - val_accuracy: 0.8200\n",
      "Epoch 64/100\n",
      "7/7 [==============================] - 0s 10ms/step - loss: 0.5853 - accuracy: 0.8000 - val_loss: 0.5872 - val_accuracy: 0.8200\n",
      "Epoch 65/100\n",
      "7/7 [==============================] - 0s 8ms/step - loss: 0.5832 - accuracy: 0.8000 - val_loss: 0.5850 - val_accuracy: 0.8200\n",
      "Epoch 66/100\n",
      "7/7 [==============================] - 0s 8ms/step - loss: 0.5810 - accuracy: 0.8000 - val_loss: 0.5829 - val_accuracy: 0.8200\n",
      "Epoch 67/100\n",
      "7/7 [==============================] - 0s 9ms/step - loss: 0.5787 - accuracy: 0.8000 - val_loss: 0.5810 - val_accuracy: 0.8200\n",
      "Epoch 68/100\n",
      "7/7 [==============================] - 0s 10ms/step - loss: 0.5764 - accuracy: 0.8000 - val_loss: 0.5792 - val_accuracy: 0.8000\n",
      "Epoch 69/100\n",
      "7/7 [==============================] - 0s 10ms/step - loss: 0.5740 - accuracy: 0.8100 - val_loss: 0.5780 - val_accuracy: 0.8000\n",
      "Epoch 70/100\n",
      "7/7 [==============================] - 0s 8ms/step - loss: 0.5719 - accuracy: 0.8050 - val_loss: 0.5765 - val_accuracy: 0.7800\n",
      "Epoch 71/100\n",
      "7/7 [==============================] - 0s 7ms/step - loss: 0.5695 - accuracy: 0.8000 - val_loss: 0.5751 - val_accuracy: 0.7800\n",
      "Epoch 72/100\n",
      "7/7 [==============================] - 0s 10ms/step - loss: 0.5675 - accuracy: 0.7950 - val_loss: 0.5733 - val_accuracy: 0.7800\n",
      "Epoch 73/100\n",
      "7/7 [==============================] - 0s 7ms/step - loss: 0.5655 - accuracy: 0.7950 - val_loss: 0.5717 - val_accuracy: 0.7600\n",
      "Epoch 74/100\n",
      "7/7 [==============================] - 0s 11ms/step - loss: 0.5629 - accuracy: 0.7950 - val_loss: 0.5703 - val_accuracy: 0.7600\n",
      "Epoch 75/100\n",
      "7/7 [==============================] - 0s 8ms/step - loss: 0.5612 - accuracy: 0.7850 - val_loss: 0.5687 - val_accuracy: 0.7600\n",
      "Epoch 76/100\n",
      "7/7 [==============================] - 0s 9ms/step - loss: 0.5591 - accuracy: 0.7850 - val_loss: 0.5664 - val_accuracy: 0.7600\n",
      "Epoch 77/100\n",
      "7/7 [==============================] - 0s 8ms/step - loss: 0.5569 - accuracy: 0.7950 - val_loss: 0.5643 - val_accuracy: 0.7600\n",
      "Epoch 78/100\n",
      "7/7 [==============================] - 0s 10ms/step - loss: 0.5547 - accuracy: 0.7900 - val_loss: 0.5629 - val_accuracy: 0.7600\n",
      "Epoch 79/100\n",
      "7/7 [==============================] - 0s 10ms/step - loss: 0.5527 - accuracy: 0.7850 - val_loss: 0.5612 - val_accuracy: 0.7600\n",
      "Epoch 80/100\n",
      "7/7 [==============================] - 0s 11ms/step - loss: 0.5506 - accuracy: 0.7900 - val_loss: 0.5593 - val_accuracy: 0.7600\n",
      "Epoch 81/100\n",
      "7/7 [==============================] - 0s 11ms/step - loss: 0.5489 - accuracy: 0.7950 - val_loss: 0.5572 - val_accuracy: 0.7600\n",
      "Epoch 82/100\n",
      "7/7 [==============================] - 0s 8ms/step - loss: 0.5468 - accuracy: 0.7950 - val_loss: 0.5557 - val_accuracy: 0.7600\n",
      "Epoch 83/100\n",
      "7/7 [==============================] - 0s 8ms/step - loss: 0.5449 - accuracy: 0.7950 - val_loss: 0.5539 - val_accuracy: 0.7600\n",
      "Epoch 84/100\n",
      "7/7 [==============================] - 0s 8ms/step - loss: 0.5429 - accuracy: 0.7950 - val_loss: 0.5518 - val_accuracy: 0.7600\n",
      "Epoch 85/100\n",
      "7/7 [==============================] - 0s 8ms/step - loss: 0.5411 - accuracy: 0.8000 - val_loss: 0.5496 - val_accuracy: 0.7800\n",
      "Epoch 86/100\n",
      "7/7 [==============================] - 0s 10ms/step - loss: 0.5391 - accuracy: 0.8050 - val_loss: 0.5477 - val_accuracy: 0.7800\n",
      "Epoch 87/100\n",
      "7/7 [==============================] - 0s 10ms/step - loss: 0.5375 - accuracy: 0.8050 - val_loss: 0.5459 - val_accuracy: 0.7800\n",
      "Epoch 88/100\n",
      "7/7 [==============================] - 0s 8ms/step - loss: 0.5355 - accuracy: 0.8050 - val_loss: 0.5446 - val_accuracy: 0.7800\n",
      "Epoch 89/100\n",
      "7/7 [==============================] - 0s 10ms/step - loss: 0.5337 - accuracy: 0.8050 - val_loss: 0.5433 - val_accuracy: 0.7800\n",
      "Epoch 90/100\n",
      "7/7 [==============================] - 0s 10ms/step - loss: 0.5318 - accuracy: 0.8050 - val_loss: 0.5418 - val_accuracy: 0.7600\n",
      "Epoch 91/100\n",
      "7/7 [==============================] - 0s 12ms/step - loss: 0.5302 - accuracy: 0.8050 - val_loss: 0.5405 - val_accuracy: 0.7600\n",
      "Epoch 92/100\n",
      "7/7 [==============================] - 0s 10ms/step - loss: 0.5285 - accuracy: 0.8000 - val_loss: 0.5395 - val_accuracy: 0.7600\n",
      "Epoch 93/100\n",
      "7/7 [==============================] - 0s 11ms/step - loss: 0.5268 - accuracy: 0.8000 - val_loss: 0.5381 - val_accuracy: 0.7600\n",
      "Epoch 94/100\n",
      "7/7 [==============================] - 0s 8ms/step - loss: 0.5257 - accuracy: 0.8000 - val_loss: 0.5374 - val_accuracy: 0.7600\n",
      "Epoch 95/100\n",
      "7/7 [==============================] - 0s 8ms/step - loss: 0.5239 - accuracy: 0.7950 - val_loss: 0.5360 - val_accuracy: 0.7600\n",
      "Epoch 96/100\n",
      "7/7 [==============================] - 0s 8ms/step - loss: 0.5223 - accuracy: 0.7950 - val_loss: 0.5348 - val_accuracy: 0.7600\n",
      "Epoch 97/100\n",
      "7/7 [==============================] - 0s 8ms/step - loss: 0.5206 - accuracy: 0.7950 - val_loss: 0.5337 - val_accuracy: 0.7600\n",
      "Epoch 98/100\n",
      "7/7 [==============================] - 0s 8ms/step - loss: 0.5192 - accuracy: 0.7950 - val_loss: 0.5326 - val_accuracy: 0.7600\n",
      "Epoch 99/100\n",
      "7/7 [==============================] - 0s 8ms/step - loss: 0.5178 - accuracy: 0.8000 - val_loss: 0.5320 - val_accuracy: 0.7600\n",
      "Epoch 100/100\n",
      "7/7 [==============================] - 0s 9ms/step - loss: 0.5164 - accuracy: 0.8000 - val_loss: 0.5307 - val_accuracy: 0.7600\n"
     ]
    },
    {
     "data": {
      "text/plain": [
       "<keras.callbacks.History at 0x7f4d58aee440>"
      ]
     },
     "execution_count": 64,
     "metadata": {},
     "output_type": "execute_result"
    }
   ],
   "source": [
    "model1.fit(x_train, y_train, validation_data=(x_test, y_test), epochs=100)"
   ]
  },
  {
   "cell_type": "code",
   "execution_count": 65,
   "metadata": {
    "id": "swxxKLF9bF3O"
   },
   "outputs": [],
   "source": [
    "# from the above we can observe that their is a difference in accuracy"
   ]
  },
  {
   "cell_type": "markdown",
   "metadata": {
    "id": "o6i8GZoZfe5v"
   },
   "source": [
    "Approach 2 : Relu activation function in Hidden layer\n",
    "\n"
   ]
  },
  {
   "cell_type": "code",
   "execution_count": 66,
   "metadata": {
    "id": "i1paAbMKbF75"
   },
   "outputs": [],
   "source": [
    "model2 = Sequential()\n",
    "model2.add(Dense(10, activation='relu', input_dim=2))\n",
    "model2.add(Dense(10, activation='relu'))\n",
    "model2.add(Dense(10, activation='relu'))\n",
    "model2.add(Dense(10, activation='relu'))\n",
    "model2.add(Dense(10, activation='relu'))\n",
    "model2.add(Dense(10, activation='relu'))\n",
    "model2.add(Dense(10, activation='relu'))\n",
    "model2.add(Dense(10, activation='relu'))\n",
    "model2.add(Dense(10, activation='relu'))\n",
    "model2.add(Dense(10, activation='relu'))\n",
    "model2.add(Dense(10, activation='relu'))\n",
    "model2.add(Dense(10, activation='relu'))\n",
    "model2.add(Dense(1, activation='sigmoid'))"
   ]
  },
  {
   "cell_type": "code",
   "execution_count": 67,
   "metadata": {
    "id": "6m8mt5dfbF_k"
   },
   "outputs": [],
   "source": [
    "model2.compile(loss=\"binary_crossentropy\", optimizer='adam', metrics =['accuracy'])\n"
   ]
  },
  {
   "cell_type": "code",
   "execution_count": 68,
   "metadata": {
    "colab": {
     "base_uri": "https://localhost:8080/"
    },
    "id": "wDYEznBkgTsX",
    "outputId": "11a05e56-4c1e-4b49-b382-580604ebd561"
   },
   "outputs": [
    {
     "name": "stdout",
     "output_type": "stream",
     "text": [
      "Epoch 1/100\n",
      "7/7 [==============================] - 6s 45ms/step - loss: 0.6932 - accuracy: 0.4900 - val_loss: 0.6928 - val_accuracy: 0.5400\n",
      "Epoch 2/100\n",
      "7/7 [==============================] - 0s 12ms/step - loss: 0.6930 - accuracy: 0.5000 - val_loss: 0.6931 - val_accuracy: 0.4800\n",
      "Epoch 3/100\n",
      "7/7 [==============================] - 0s 9ms/step - loss: 0.6931 - accuracy: 0.5100 - val_loss: 0.6933 - val_accuracy: 0.4600\n",
      "Epoch 4/100\n",
      "7/7 [==============================] - 0s 10ms/step - loss: 0.6931 - accuracy: 0.5100 - val_loss: 0.6933 - val_accuracy: 0.4600\n",
      "Epoch 5/100\n",
      "7/7 [==============================] - 0s 10ms/step - loss: 0.6930 - accuracy: 0.5100 - val_loss: 0.6934 - val_accuracy: 0.4600\n",
      "Epoch 6/100\n",
      "7/7 [==============================] - 0s 9ms/step - loss: 0.6930 - accuracy: 0.5100 - val_loss: 0.6934 - val_accuracy: 0.4600\n",
      "Epoch 7/100\n",
      "7/7 [==============================] - 0s 9ms/step - loss: 0.6930 - accuracy: 0.5100 - val_loss: 0.6934 - val_accuracy: 0.4600\n",
      "Epoch 8/100\n",
      "7/7 [==============================] - 0s 14ms/step - loss: 0.6928 - accuracy: 0.5100 - val_loss: 0.6933 - val_accuracy: 0.4600\n",
      "Epoch 9/100\n",
      "7/7 [==============================] - 0s 10ms/step - loss: 0.6926 - accuracy: 0.5100 - val_loss: 0.6931 - val_accuracy: 0.4600\n",
      "Epoch 10/100\n",
      "7/7 [==============================] - 0s 12ms/step - loss: 0.6922 - accuracy: 0.5100 - val_loss: 0.6925 - val_accuracy: 0.4600\n",
      "Epoch 11/100\n",
      "7/7 [==============================] - 0s 10ms/step - loss: 0.6916 - accuracy: 0.5100 - val_loss: 0.6915 - val_accuracy: 0.4600\n",
      "Epoch 12/100\n",
      "7/7 [==============================] - 0s 12ms/step - loss: 0.6904 - accuracy: 0.5100 - val_loss: 0.6900 - val_accuracy: 0.4600\n",
      "Epoch 13/100\n",
      "7/7 [==============================] - 0s 15ms/step - loss: 0.6875 - accuracy: 0.5100 - val_loss: 0.6866 - val_accuracy: 0.4600\n",
      "Epoch 14/100\n",
      "7/7 [==============================] - 0s 15ms/step - loss: 0.6822 - accuracy: 0.5100 - val_loss: 0.6808 - val_accuracy: 0.4600\n",
      "Epoch 15/100\n",
      "7/7 [==============================] - 0s 16ms/step - loss: 0.6739 - accuracy: 0.5100 - val_loss: 0.6736 - val_accuracy: 0.4600\n",
      "Epoch 16/100\n",
      "7/7 [==============================] - 0s 17ms/step - loss: 0.6569 - accuracy: 0.7100 - val_loss: 0.6558 - val_accuracy: 0.6200\n",
      "Epoch 17/100\n",
      "7/7 [==============================] - 0s 16ms/step - loss: 0.6325 - accuracy: 0.7550 - val_loss: 0.6353 - val_accuracy: 0.6400\n",
      "Epoch 18/100\n",
      "7/7 [==============================] - 0s 16ms/step - loss: 0.5981 - accuracy: 0.7950 - val_loss: 0.6098 - val_accuracy: 0.6600\n",
      "Epoch 19/100\n",
      "7/7 [==============================] - 0s 16ms/step - loss: 0.5717 - accuracy: 0.8000 - val_loss: 0.5973 - val_accuracy: 0.6800\n",
      "Epoch 20/100\n",
      "7/7 [==============================] - 0s 17ms/step - loss: 0.5479 - accuracy: 0.8000 - val_loss: 0.5719 - val_accuracy: 0.7000\n",
      "Epoch 21/100\n",
      "7/7 [==============================] - 0s 14ms/step - loss: 0.5117 - accuracy: 0.8200 - val_loss: 0.5234 - val_accuracy: 0.7400\n",
      "Epoch 22/100\n",
      "7/7 [==============================] - 0s 16ms/step - loss: 0.4779 - accuracy: 0.8100 - val_loss: 0.5165 - val_accuracy: 0.7400\n",
      "Epoch 23/100\n",
      "7/7 [==============================] - 0s 13ms/step - loss: 0.4478 - accuracy: 0.8100 - val_loss: 0.5414 - val_accuracy: 0.7400\n",
      "Epoch 24/100\n",
      "7/7 [==============================] - 0s 17ms/step - loss: 0.4399 - accuracy: 0.8350 - val_loss: 0.5597 - val_accuracy: 0.7400\n",
      "Epoch 25/100\n",
      "7/7 [==============================] - 0s 16ms/step - loss: 0.4304 - accuracy: 0.8350 - val_loss: 0.5553 - val_accuracy: 0.7400\n",
      "Epoch 26/100\n",
      "7/7 [==============================] - 0s 16ms/step - loss: 0.4267 - accuracy: 0.8400 - val_loss: 0.5367 - val_accuracy: 0.7400\n",
      "Epoch 27/100\n",
      "7/7 [==============================] - 0s 15ms/step - loss: 0.4285 - accuracy: 0.8250 - val_loss: 0.5333 - val_accuracy: 0.7400\n",
      "Epoch 28/100\n",
      "7/7 [==============================] - 0s 16ms/step - loss: 0.4214 - accuracy: 0.8350 - val_loss: 0.5551 - val_accuracy: 0.7400\n",
      "Epoch 29/100\n",
      "7/7 [==============================] - 0s 17ms/step - loss: 0.4223 - accuracy: 0.8550 - val_loss: 0.5474 - val_accuracy: 0.7400\n",
      "Epoch 30/100\n",
      "7/7 [==============================] - 0s 18ms/step - loss: 0.4197 - accuracy: 0.8400 - val_loss: 0.5218 - val_accuracy: 0.7400\n",
      "Epoch 31/100\n",
      "7/7 [==============================] - 0s 19ms/step - loss: 0.4241 - accuracy: 0.8300 - val_loss: 0.5425 - val_accuracy: 0.7400\n",
      "Epoch 32/100\n",
      "7/7 [==============================] - 0s 16ms/step - loss: 0.4160 - accuracy: 0.8450 - val_loss: 0.5281 - val_accuracy: 0.7400\n",
      "Epoch 33/100\n",
      "7/7 [==============================] - 0s 12ms/step - loss: 0.4158 - accuracy: 0.8350 - val_loss: 0.5391 - val_accuracy: 0.7400\n",
      "Epoch 34/100\n",
      "7/7 [==============================] - 0s 13ms/step - loss: 0.4123 - accuracy: 0.8400 - val_loss: 0.5524 - val_accuracy: 0.7400\n",
      "Epoch 35/100\n",
      "7/7 [==============================] - 0s 11ms/step - loss: 0.4104 - accuracy: 0.8550 - val_loss: 0.5472 - val_accuracy: 0.7400\n",
      "Epoch 36/100\n",
      "7/7 [==============================] - 0s 10ms/step - loss: 0.4089 - accuracy: 0.8550 - val_loss: 0.5438 - val_accuracy: 0.7400\n",
      "Epoch 37/100\n",
      "7/7 [==============================] - 0s 12ms/step - loss: 0.4161 - accuracy: 0.8450 - val_loss: 0.5433 - val_accuracy: 0.7400\n",
      "Epoch 38/100\n",
      "7/7 [==============================] - 0s 13ms/step - loss: 0.4088 - accuracy: 0.8450 - val_loss: 0.5363 - val_accuracy: 0.7400\n",
      "Epoch 39/100\n",
      "7/7 [==============================] - 0s 13ms/step - loss: 0.4094 - accuracy: 0.8500 - val_loss: 0.5452 - val_accuracy: 0.7400\n",
      "Epoch 40/100\n",
      "7/7 [==============================] - 0s 13ms/step - loss: 0.4081 - accuracy: 0.8500 - val_loss: 0.5468 - val_accuracy: 0.7400\n",
      "Epoch 41/100\n",
      "7/7 [==============================] - 0s 13ms/step - loss: 0.4096 - accuracy: 0.8400 - val_loss: 0.5472 - val_accuracy: 0.7400\n",
      "Epoch 42/100\n",
      "7/7 [==============================] - 0s 14ms/step - loss: 0.4059 - accuracy: 0.8500 - val_loss: 0.5655 - val_accuracy: 0.7400\n",
      "Epoch 43/100\n",
      "7/7 [==============================] - 0s 10ms/step - loss: 0.4049 - accuracy: 0.8600 - val_loss: 0.5407 - val_accuracy: 0.7400\n",
      "Epoch 44/100\n",
      "7/7 [==============================] - 0s 10ms/step - loss: 0.4055 - accuracy: 0.8500 - val_loss: 0.5343 - val_accuracy: 0.7400\n",
      "Epoch 45/100\n",
      "7/7 [==============================] - 0s 10ms/step - loss: 0.4057 - accuracy: 0.8550 - val_loss: 0.5456 - val_accuracy: 0.7400\n",
      "Epoch 46/100\n",
      "7/7 [==============================] - 0s 13ms/step - loss: 0.4037 - accuracy: 0.8550 - val_loss: 0.5395 - val_accuracy: 0.7400\n",
      "Epoch 47/100\n",
      "7/7 [==============================] - 0s 13ms/step - loss: 0.4070 - accuracy: 0.8450 - val_loss: 0.5461 - val_accuracy: 0.7400\n",
      "Epoch 48/100\n",
      "7/7 [==============================] - 0s 10ms/step - loss: 0.4064 - accuracy: 0.8450 - val_loss: 0.5547 - val_accuracy: 0.7400\n",
      "Epoch 49/100\n",
      "7/7 [==============================] - 0s 10ms/step - loss: 0.4027 - accuracy: 0.8550 - val_loss: 0.5540 - val_accuracy: 0.7400\n",
      "Epoch 50/100\n",
      "7/7 [==============================] - 0s 13ms/step - loss: 0.4038 - accuracy: 0.8400 - val_loss: 0.5607 - val_accuracy: 0.7400\n",
      "Epoch 51/100\n",
      "7/7 [==============================] - 0s 13ms/step - loss: 0.4015 - accuracy: 0.8550 - val_loss: 0.5548 - val_accuracy: 0.7400\n",
      "Epoch 52/100\n",
      "7/7 [==============================] - 0s 13ms/step - loss: 0.4017 - accuracy: 0.8500 - val_loss: 0.5466 - val_accuracy: 0.7400\n",
      "Epoch 53/100\n",
      "7/7 [==============================] - 0s 11ms/step - loss: 0.4021 - accuracy: 0.8550 - val_loss: 0.5427 - val_accuracy: 0.7400\n",
      "Epoch 54/100\n",
      "7/7 [==============================] - 0s 12ms/step - loss: 0.4036 - accuracy: 0.8450 - val_loss: 0.5464 - val_accuracy: 0.7400\n",
      "Epoch 55/100\n",
      "7/7 [==============================] - 0s 13ms/step - loss: 0.4072 - accuracy: 0.8400 - val_loss: 0.5775 - val_accuracy: 0.7200\n",
      "Epoch 56/100\n",
      "7/7 [==============================] - 0s 10ms/step - loss: 0.4112 - accuracy: 0.8400 - val_loss: 0.5469 - val_accuracy: 0.7400\n",
      "Epoch 57/100\n",
      "7/7 [==============================] - 0s 10ms/step - loss: 0.4088 - accuracy: 0.8400 - val_loss: 0.5451 - val_accuracy: 0.7400\n",
      "Epoch 58/100\n",
      "7/7 [==============================] - 0s 10ms/step - loss: 0.4072 - accuracy: 0.8500 - val_loss: 0.5540 - val_accuracy: 0.7400\n",
      "Epoch 59/100\n",
      "7/7 [==============================] - 0s 10ms/step - loss: 0.4055 - accuracy: 0.8550 - val_loss: 0.5545 - val_accuracy: 0.7400\n",
      "Epoch 60/100\n",
      "7/7 [==============================] - 0s 9ms/step - loss: 0.4036 - accuracy: 0.8500 - val_loss: 0.5484 - val_accuracy: 0.7400\n",
      "Epoch 61/100\n",
      "7/7 [==============================] - 0s 13ms/step - loss: 0.4056 - accuracy: 0.8550 - val_loss: 0.5372 - val_accuracy: 0.7400\n",
      "Epoch 62/100\n",
      "7/7 [==============================] - 0s 10ms/step - loss: 0.4022 - accuracy: 0.8550 - val_loss: 0.5399 - val_accuracy: 0.7400\n",
      "Epoch 63/100\n",
      "7/7 [==============================] - 0s 12ms/step - loss: 0.3977 - accuracy: 0.8550 - val_loss: 0.5450 - val_accuracy: 0.7400\n",
      "Epoch 64/100\n",
      "7/7 [==============================] - 0s 10ms/step - loss: 0.3969 - accuracy: 0.8550 - val_loss: 0.5480 - val_accuracy: 0.7400\n",
      "Epoch 65/100\n",
      "7/7 [==============================] - 0s 9ms/step - loss: 0.4002 - accuracy: 0.8450 - val_loss: 0.5505 - val_accuracy: 0.7400\n",
      "Epoch 66/100\n",
      "7/7 [==============================] - 0s 13ms/step - loss: 0.3969 - accuracy: 0.8500 - val_loss: 0.5498 - val_accuracy: 0.7400\n",
      "Epoch 67/100\n",
      "7/7 [==============================] - 0s 13ms/step - loss: 0.3974 - accuracy: 0.8550 - val_loss: 0.5502 - val_accuracy: 0.7400\n",
      "Epoch 68/100\n",
      "7/7 [==============================] - 0s 10ms/step - loss: 0.4039 - accuracy: 0.8450 - val_loss: 0.5363 - val_accuracy: 0.7400\n",
      "Epoch 69/100\n",
      "7/7 [==============================] - 0s 12ms/step - loss: 0.3970 - accuracy: 0.8500 - val_loss: 0.5310 - val_accuracy: 0.7400\n",
      "Epoch 70/100\n",
      "7/7 [==============================] - 0s 10ms/step - loss: 0.4017 - accuracy: 0.8500 - val_loss: 0.5555 - val_accuracy: 0.7400\n",
      "Epoch 71/100\n",
      "7/7 [==============================] - 0s 12ms/step - loss: 0.4057 - accuracy: 0.8450 - val_loss: 0.5662 - val_accuracy: 0.7400\n",
      "Epoch 72/100\n",
      "7/7 [==============================] - 0s 10ms/step - loss: 0.3996 - accuracy: 0.8500 - val_loss: 0.5400 - val_accuracy: 0.7400\n",
      "Epoch 73/100\n",
      "7/7 [==============================] - 0s 10ms/step - loss: 0.4031 - accuracy: 0.8400 - val_loss: 0.5547 - val_accuracy: 0.7400\n",
      "Epoch 74/100\n",
      "7/7 [==============================] - 0s 10ms/step - loss: 0.3984 - accuracy: 0.8500 - val_loss: 0.5661 - val_accuracy: 0.7400\n",
      "Epoch 75/100\n",
      "7/7 [==============================] - 0s 10ms/step - loss: 0.3939 - accuracy: 0.8550 - val_loss: 0.5498 - val_accuracy: 0.7400\n",
      "Epoch 76/100\n",
      "7/7 [==============================] - 0s 10ms/step - loss: 0.4055 - accuracy: 0.8400 - val_loss: 0.5500 - val_accuracy: 0.7400\n",
      "Epoch 77/100\n",
      "7/7 [==============================] - 0s 10ms/step - loss: 0.3937 - accuracy: 0.8550 - val_loss: 0.5581 - val_accuracy: 0.7400\n",
      "Epoch 78/100\n",
      "7/7 [==============================] - 0s 10ms/step - loss: 0.3951 - accuracy: 0.8550 - val_loss: 0.5447 - val_accuracy: 0.7400\n",
      "Epoch 79/100\n",
      "7/7 [==============================] - 0s 10ms/step - loss: 0.4002 - accuracy: 0.8350 - val_loss: 0.5429 - val_accuracy: 0.7400\n",
      "Epoch 80/100\n",
      "7/7 [==============================] - 0s 12ms/step - loss: 0.3944 - accuracy: 0.8550 - val_loss: 0.5554 - val_accuracy: 0.7400\n",
      "Epoch 81/100\n",
      "7/7 [==============================] - 0s 13ms/step - loss: 0.3945 - accuracy: 0.8550 - val_loss: 0.5541 - val_accuracy: 0.7400\n",
      "Epoch 82/100\n",
      "7/7 [==============================] - 0s 14ms/step - loss: 0.3920 - accuracy: 0.8500 - val_loss: 0.5605 - val_accuracy: 0.7400\n",
      "Epoch 83/100\n",
      "7/7 [==============================] - 0s 10ms/step - loss: 0.3910 - accuracy: 0.8550 - val_loss: 0.5633 - val_accuracy: 0.7400\n",
      "Epoch 84/100\n",
      "7/7 [==============================] - 0s 10ms/step - loss: 0.3903 - accuracy: 0.8550 - val_loss: 0.5607 - val_accuracy: 0.7400\n",
      "Epoch 85/100\n",
      "7/7 [==============================] - 0s 9ms/step - loss: 0.3911 - accuracy: 0.8500 - val_loss: 0.5524 - val_accuracy: 0.7400\n",
      "Epoch 86/100\n",
      "7/7 [==============================] - 0s 9ms/step - loss: 0.3892 - accuracy: 0.8600 - val_loss: 0.5459 - val_accuracy: 0.7400\n",
      "Epoch 87/100\n",
      "7/7 [==============================] - 0s 10ms/step - loss: 0.3891 - accuracy: 0.8600 - val_loss: 0.5407 - val_accuracy: 0.7400\n",
      "Epoch 88/100\n",
      "7/7 [==============================] - 0s 12ms/step - loss: 0.3897 - accuracy: 0.8450 - val_loss: 0.5465 - val_accuracy: 0.7400\n",
      "Epoch 89/100\n",
      "7/7 [==============================] - 0s 11ms/step - loss: 0.3890 - accuracy: 0.8550 - val_loss: 0.5479 - val_accuracy: 0.7400\n",
      "Epoch 90/100\n",
      "7/7 [==============================] - 0s 10ms/step - loss: 0.3884 - accuracy: 0.8550 - val_loss: 0.5496 - val_accuracy: 0.7400\n",
      "Epoch 91/100\n",
      "7/7 [==============================] - 0s 10ms/step - loss: 0.3872 - accuracy: 0.8600 - val_loss: 0.5421 - val_accuracy: 0.7400\n",
      "Epoch 92/100\n",
      "7/7 [==============================] - 0s 11ms/step - loss: 0.3868 - accuracy: 0.8600 - val_loss: 0.5408 - val_accuracy: 0.7400\n",
      "Epoch 93/100\n",
      "7/7 [==============================] - 0s 13ms/step - loss: 0.3859 - accuracy: 0.8600 - val_loss: 0.5343 - val_accuracy: 0.7400\n",
      "Epoch 94/100\n",
      "7/7 [==============================] - 0s 12ms/step - loss: 0.3873 - accuracy: 0.8500 - val_loss: 0.5463 - val_accuracy: 0.7400\n",
      "Epoch 95/100\n",
      "7/7 [==============================] - 0s 12ms/step - loss: 0.3862 - accuracy: 0.8600 - val_loss: 0.5478 - val_accuracy: 0.7400\n",
      "Epoch 96/100\n",
      "7/7 [==============================] - 0s 10ms/step - loss: 0.3869 - accuracy: 0.8500 - val_loss: 0.5525 - val_accuracy: 0.7400\n",
      "Epoch 97/100\n",
      "7/7 [==============================] - 0s 9ms/step - loss: 0.3861 - accuracy: 0.8550 - val_loss: 0.5465 - val_accuracy: 0.7400\n",
      "Epoch 98/100\n",
      "7/7 [==============================] - 0s 10ms/step - loss: 0.3837 - accuracy: 0.8600 - val_loss: 0.5374 - val_accuracy: 0.7400\n",
      "Epoch 99/100\n",
      "7/7 [==============================] - 0s 12ms/step - loss: 0.3856 - accuracy: 0.8550 - val_loss: 0.5371 - val_accuracy: 0.7400\n",
      "Epoch 100/100\n",
      "7/7 [==============================] - 0s 10ms/step - loss: 0.3849 - accuracy: 0.8550 - val_loss: 0.5508 - val_accuracy: 0.7400\n"
     ]
    },
    {
     "data": {
      "text/plain": [
       "<keras.callbacks.History at 0x7f4d52f1bee0>"
      ]
     },
     "execution_count": 68,
     "metadata": {},
     "output_type": "execute_result"
    }
   ],
   "source": [
    "model2.fit(x_train, y_train, validation_data=(x_test, y_test), epochs=100)"
   ]
  },
  {
   "cell_type": "markdown",
   "metadata": {
    "id": "o53KVF3ShEo9"
   },
   "source": [
    "Approach 3 : Merge approach 1 and 2"
   ]
  },
  {
   "cell_type": "code",
   "execution_count": 70,
   "metadata": {
    "colab": {
     "base_uri": "https://localhost:8080/"
    },
    "id": "DNNx6NWUhJqa",
    "outputId": "125ab0ce-1e01-4f7e-ec2d-2282c5251214"
   },
   "outputs": [
    {
     "name": "stdout",
     "output_type": "stream",
     "text": [
      "Epoch 1/100\n",
      "7/7 [==============================] - 2s 33ms/step - loss: 0.7281 - accuracy: 0.4750 - val_loss: 0.7117 - val_accuracy: 0.5400\n",
      "Epoch 2/100\n",
      "7/7 [==============================] - 0s 12ms/step - loss: 0.7142 - accuracy: 0.4750 - val_loss: 0.7015 - val_accuracy: 0.5400\n",
      "Epoch 3/100\n",
      "7/7 [==============================] - 0s 11ms/step - loss: 0.7042 - accuracy: 0.5050 - val_loss: 0.6928 - val_accuracy: 0.5400\n",
      "Epoch 4/100\n",
      "7/7 [==============================] - 0s 8ms/step - loss: 0.6946 - accuracy: 0.5450 - val_loss: 0.6832 - val_accuracy: 0.5800\n",
      "Epoch 5/100\n",
      "7/7 [==============================] - 0s 10ms/step - loss: 0.6849 - accuracy: 0.5950 - val_loss: 0.6736 - val_accuracy: 0.6200\n",
      "Epoch 6/100\n",
      "7/7 [==============================] - 0s 8ms/step - loss: 0.6743 - accuracy: 0.6550 - val_loss: 0.6640 - val_accuracy: 0.7600\n",
      "Epoch 7/100\n",
      "7/7 [==============================] - 0s 8ms/step - loss: 0.6629 - accuracy: 0.7250 - val_loss: 0.6520 - val_accuracy: 0.8200\n",
      "Epoch 8/100\n",
      "7/7 [==============================] - 0s 11ms/step - loss: 0.6491 - accuracy: 0.7750 - val_loss: 0.6405 - val_accuracy: 0.8200\n",
      "Epoch 9/100\n",
      "7/7 [==============================] - 0s 10ms/step - loss: 0.6359 - accuracy: 0.7850 - val_loss: 0.6289 - val_accuracy: 0.8200\n",
      "Epoch 10/100\n",
      "7/7 [==============================] - 0s 8ms/step - loss: 0.6205 - accuracy: 0.7900 - val_loss: 0.6164 - val_accuracy: 0.8000\n",
      "Epoch 11/100\n",
      "7/7 [==============================] - 0s 8ms/step - loss: 0.6064 - accuracy: 0.7900 - val_loss: 0.6054 - val_accuracy: 0.8000\n",
      "Epoch 12/100\n",
      "7/7 [==============================] - 0s 10ms/step - loss: 0.5929 - accuracy: 0.8000 - val_loss: 0.5936 - val_accuracy: 0.8000\n",
      "Epoch 13/100\n",
      "7/7 [==============================] - 0s 9ms/step - loss: 0.5782 - accuracy: 0.8050 - val_loss: 0.5845 - val_accuracy: 0.7800\n",
      "Epoch 14/100\n",
      "7/7 [==============================] - 0s 8ms/step - loss: 0.5652 - accuracy: 0.8000 - val_loss: 0.5765 - val_accuracy: 0.7800\n",
      "Epoch 15/100\n",
      "7/7 [==============================] - 0s 8ms/step - loss: 0.5523 - accuracy: 0.8100 - val_loss: 0.5687 - val_accuracy: 0.7800\n",
      "Epoch 16/100\n",
      "7/7 [==============================] - 0s 8ms/step - loss: 0.5414 - accuracy: 0.8100 - val_loss: 0.5611 - val_accuracy: 0.7800\n",
      "Epoch 17/100\n",
      "7/7 [==============================] - 0s 12ms/step - loss: 0.5303 - accuracy: 0.8100 - val_loss: 0.5560 - val_accuracy: 0.7600\n",
      "Epoch 18/100\n",
      "7/7 [==============================] - 0s 8ms/step - loss: 0.5198 - accuracy: 0.8100 - val_loss: 0.5543 - val_accuracy: 0.7600\n",
      "Epoch 19/100\n",
      "7/7 [==============================] - 0s 8ms/step - loss: 0.5105 - accuracy: 0.8150 - val_loss: 0.5531 - val_accuracy: 0.7600\n",
      "Epoch 20/100\n",
      "7/7 [==============================] - 0s 8ms/step - loss: 0.5030 - accuracy: 0.8150 - val_loss: 0.5502 - val_accuracy: 0.7600\n",
      "Epoch 21/100\n",
      "7/7 [==============================] - 0s 8ms/step - loss: 0.4953 - accuracy: 0.8150 - val_loss: 0.5468 - val_accuracy: 0.7600\n",
      "Epoch 22/100\n",
      "7/7 [==============================] - 0s 8ms/step - loss: 0.4899 - accuracy: 0.8150 - val_loss: 0.5425 - val_accuracy: 0.7600\n",
      "Epoch 23/100\n",
      "7/7 [==============================] - 0s 9ms/step - loss: 0.4838 - accuracy: 0.8150 - val_loss: 0.5419 - val_accuracy: 0.7600\n",
      "Epoch 24/100\n",
      "7/7 [==============================] - 0s 8ms/step - loss: 0.4793 - accuracy: 0.8200 - val_loss: 0.5439 - val_accuracy: 0.7600\n",
      "Epoch 25/100\n",
      "7/7 [==============================] - 0s 8ms/step - loss: 0.4763 - accuracy: 0.8150 - val_loss: 0.5449 - val_accuracy: 0.7600\n",
      "Epoch 26/100\n",
      "7/7 [==============================] - 0s 11ms/step - loss: 0.4723 - accuracy: 0.8150 - val_loss: 0.5426 - val_accuracy: 0.7600\n",
      "Epoch 27/100\n",
      "7/7 [==============================] - 0s 8ms/step - loss: 0.4692 - accuracy: 0.8150 - val_loss: 0.5399 - val_accuracy: 0.7600\n",
      "Epoch 28/100\n",
      "7/7 [==============================] - 0s 8ms/step - loss: 0.4665 - accuracy: 0.8150 - val_loss: 0.5386 - val_accuracy: 0.7600\n",
      "Epoch 29/100\n",
      "7/7 [==============================] - 0s 8ms/step - loss: 0.4655 - accuracy: 0.8150 - val_loss: 0.5389 - val_accuracy: 0.7600\n",
      "Epoch 30/100\n",
      "7/7 [==============================] - 0s 10ms/step - loss: 0.4642 - accuracy: 0.8200 - val_loss: 0.5374 - val_accuracy: 0.7600\n",
      "Epoch 31/100\n",
      "7/7 [==============================] - 0s 8ms/step - loss: 0.4621 - accuracy: 0.8200 - val_loss: 0.5349 - val_accuracy: 0.7600\n",
      "Epoch 32/100\n",
      "7/7 [==============================] - 0s 11ms/step - loss: 0.4612 - accuracy: 0.8200 - val_loss: 0.5333 - val_accuracy: 0.7600\n",
      "Epoch 33/100\n",
      "7/7 [==============================] - 0s 12ms/step - loss: 0.4601 - accuracy: 0.8200 - val_loss: 0.5328 - val_accuracy: 0.7600\n",
      "Epoch 34/100\n",
      "7/7 [==============================] - 0s 8ms/step - loss: 0.4601 - accuracy: 0.8150 - val_loss: 0.5348 - val_accuracy: 0.7600\n",
      "Epoch 35/100\n",
      "7/7 [==============================] - 0s 9ms/step - loss: 0.4597 - accuracy: 0.8150 - val_loss: 0.5344 - val_accuracy: 0.7600\n",
      "Epoch 36/100\n",
      "7/7 [==============================] - 0s 10ms/step - loss: 0.4584 - accuracy: 0.8150 - val_loss: 0.5312 - val_accuracy: 0.7600\n",
      "Epoch 37/100\n",
      "7/7 [==============================] - 0s 10ms/step - loss: 0.4568 - accuracy: 0.8200 - val_loss: 0.5273 - val_accuracy: 0.7600\n",
      "Epoch 38/100\n",
      "7/7 [==============================] - 0s 8ms/step - loss: 0.4562 - accuracy: 0.8200 - val_loss: 0.5260 - val_accuracy: 0.7600\n",
      "Epoch 39/100\n",
      "7/7 [==============================] - 0s 13ms/step - loss: 0.4559 - accuracy: 0.8200 - val_loss: 0.5258 - val_accuracy: 0.7600\n",
      "Epoch 40/100\n",
      "7/7 [==============================] - 0s 8ms/step - loss: 0.4546 - accuracy: 0.8200 - val_loss: 0.5261 - val_accuracy: 0.7600\n",
      "Epoch 41/100\n",
      "7/7 [==============================] - 0s 8ms/step - loss: 0.4540 - accuracy: 0.8200 - val_loss: 0.5270 - val_accuracy: 0.7600\n",
      "Epoch 42/100\n",
      "7/7 [==============================] - 0s 12ms/step - loss: 0.4536 - accuracy: 0.8200 - val_loss: 0.5299 - val_accuracy: 0.7600\n",
      "Epoch 43/100\n",
      "7/7 [==============================] - 0s 8ms/step - loss: 0.4536 - accuracy: 0.8200 - val_loss: 0.5292 - val_accuracy: 0.7600\n",
      "Epoch 44/100\n",
      "7/7 [==============================] - 0s 11ms/step - loss: 0.4530 - accuracy: 0.8200 - val_loss: 0.5281 - val_accuracy: 0.7600\n",
      "Epoch 45/100\n",
      "7/7 [==============================] - 0s 8ms/step - loss: 0.4507 - accuracy: 0.8200 - val_loss: 0.5225 - val_accuracy: 0.7600\n",
      "Epoch 46/100\n",
      "7/7 [==============================] - 0s 8ms/step - loss: 0.4519 - accuracy: 0.8200 - val_loss: 0.5186 - val_accuracy: 0.7600\n",
      "Epoch 47/100\n",
      "7/7 [==============================] - 0s 12ms/step - loss: 0.4524 - accuracy: 0.8200 - val_loss: 0.5195 - val_accuracy: 0.7600\n",
      "Epoch 48/100\n",
      "7/7 [==============================] - 0s 10ms/step - loss: 0.4513 - accuracy: 0.8200 - val_loss: 0.5243 - val_accuracy: 0.7600\n",
      "Epoch 49/100\n",
      "7/7 [==============================] - 0s 11ms/step - loss: 0.4502 - accuracy: 0.8200 - val_loss: 0.5281 - val_accuracy: 0.7600\n",
      "Epoch 50/100\n",
      "7/7 [==============================] - 0s 11ms/step - loss: 0.4497 - accuracy: 0.8250 - val_loss: 0.5297 - val_accuracy: 0.7600\n",
      "Epoch 51/100\n",
      "7/7 [==============================] - 0s 9ms/step - loss: 0.4497 - accuracy: 0.8150 - val_loss: 0.5302 - val_accuracy: 0.7600\n",
      "Epoch 52/100\n",
      "7/7 [==============================] - 0s 11ms/step - loss: 0.4492 - accuracy: 0.8200 - val_loss: 0.5268 - val_accuracy: 0.7600\n",
      "Epoch 53/100\n",
      "7/7 [==============================] - 0s 8ms/step - loss: 0.4492 - accuracy: 0.8200 - val_loss: 0.5237 - val_accuracy: 0.7600\n",
      "Epoch 54/100\n",
      "7/7 [==============================] - 0s 8ms/step - loss: 0.4491 - accuracy: 0.8200 - val_loss: 0.5238 - val_accuracy: 0.7600\n",
      "Epoch 55/100\n",
      "7/7 [==============================] - 0s 11ms/step - loss: 0.4472 - accuracy: 0.8200 - val_loss: 0.5213 - val_accuracy: 0.7600\n",
      "Epoch 56/100\n",
      "7/7 [==============================] - 0s 8ms/step - loss: 0.4471 - accuracy: 0.8200 - val_loss: 0.5191 - val_accuracy: 0.7600\n",
      "Epoch 57/100\n",
      "7/7 [==============================] - 0s 9ms/step - loss: 0.4462 - accuracy: 0.8200 - val_loss: 0.5193 - val_accuracy: 0.7600\n",
      "Epoch 58/100\n",
      "7/7 [==============================] - 0s 11ms/step - loss: 0.4458 - accuracy: 0.8200 - val_loss: 0.5213 - val_accuracy: 0.7600\n",
      "Epoch 59/100\n",
      "7/7 [==============================] - 0s 8ms/step - loss: 0.4455 - accuracy: 0.8200 - val_loss: 0.5224 - val_accuracy: 0.7600\n",
      "Epoch 60/100\n",
      "7/7 [==============================] - 0s 11ms/step - loss: 0.4446 - accuracy: 0.8200 - val_loss: 0.5243 - val_accuracy: 0.7600\n",
      "Epoch 61/100\n",
      "7/7 [==============================] - 0s 11ms/step - loss: 0.4441 - accuracy: 0.8200 - val_loss: 0.5255 - val_accuracy: 0.7600\n",
      "Epoch 62/100\n",
      "7/7 [==============================] - 0s 10ms/step - loss: 0.4446 - accuracy: 0.8250 - val_loss: 0.5258 - val_accuracy: 0.7600\n",
      "Epoch 63/100\n",
      "7/7 [==============================] - 0s 11ms/step - loss: 0.4443 - accuracy: 0.8250 - val_loss: 0.5254 - val_accuracy: 0.7600\n",
      "Epoch 64/100\n",
      "7/7 [==============================] - 0s 11ms/step - loss: 0.4442 - accuracy: 0.8250 - val_loss: 0.5210 - val_accuracy: 0.7600\n",
      "Epoch 65/100\n",
      "7/7 [==============================] - 0s 9ms/step - loss: 0.4421 - accuracy: 0.8200 - val_loss: 0.5196 - val_accuracy: 0.7600\n",
      "Epoch 66/100\n",
      "7/7 [==============================] - 0s 11ms/step - loss: 0.4417 - accuracy: 0.8200 - val_loss: 0.5198 - val_accuracy: 0.7600\n",
      "Epoch 67/100\n",
      "7/7 [==============================] - 0s 8ms/step - loss: 0.4415 - accuracy: 0.8200 - val_loss: 0.5188 - val_accuracy: 0.7600\n",
      "Epoch 68/100\n",
      "7/7 [==============================] - 0s 8ms/step - loss: 0.4411 - accuracy: 0.8200 - val_loss: 0.5156 - val_accuracy: 0.7600\n",
      "Epoch 69/100\n",
      "7/7 [==============================] - 0s 8ms/step - loss: 0.4409 - accuracy: 0.8200 - val_loss: 0.5167 - val_accuracy: 0.7600\n",
      "Epoch 70/100\n",
      "7/7 [==============================] - 0s 11ms/step - loss: 0.4404 - accuracy: 0.8200 - val_loss: 0.5163 - val_accuracy: 0.7600\n",
      "Epoch 71/100\n",
      "7/7 [==============================] - 0s 8ms/step - loss: 0.4401 - accuracy: 0.8200 - val_loss: 0.5160 - val_accuracy: 0.7600\n",
      "Epoch 72/100\n",
      "7/7 [==============================] - 0s 8ms/step - loss: 0.4392 - accuracy: 0.8200 - val_loss: 0.5179 - val_accuracy: 0.7600\n",
      "Epoch 73/100\n",
      "7/7 [==============================] - 0s 11ms/step - loss: 0.4388 - accuracy: 0.8200 - val_loss: 0.5180 - val_accuracy: 0.7600\n",
      "Epoch 74/100\n",
      "7/7 [==============================] - 0s 12ms/step - loss: 0.4402 - accuracy: 0.8200 - val_loss: 0.5167 - val_accuracy: 0.7600\n",
      "Epoch 75/100\n",
      "7/7 [==============================] - 0s 9ms/step - loss: 0.4385 - accuracy: 0.8200 - val_loss: 0.5187 - val_accuracy: 0.7600\n",
      "Epoch 76/100\n",
      "7/7 [==============================] - 0s 13ms/step - loss: 0.4372 - accuracy: 0.8200 - val_loss: 0.5219 - val_accuracy: 0.7600\n",
      "Epoch 77/100\n",
      "7/7 [==============================] - 0s 11ms/step - loss: 0.4382 - accuracy: 0.8200 - val_loss: 0.5265 - val_accuracy: 0.7400\n",
      "Epoch 78/100\n",
      "7/7 [==============================] - 0s 11ms/step - loss: 0.4370 - accuracy: 0.8200 - val_loss: 0.5244 - val_accuracy: 0.7400\n",
      "Epoch 79/100\n",
      "7/7 [==============================] - 0s 14ms/step - loss: 0.4364 - accuracy: 0.8200 - val_loss: 0.5228 - val_accuracy: 0.7600\n",
      "Epoch 80/100\n",
      "7/7 [==============================] - 0s 15ms/step - loss: 0.4360 - accuracy: 0.8200 - val_loss: 0.5229 - val_accuracy: 0.7400\n",
      "Epoch 81/100\n",
      "7/7 [==============================] - 0s 14ms/step - loss: 0.4355 - accuracy: 0.8200 - val_loss: 0.5217 - val_accuracy: 0.7400\n",
      "Epoch 82/100\n",
      "7/7 [==============================] - 0s 15ms/step - loss: 0.4350 - accuracy: 0.8200 - val_loss: 0.5187 - val_accuracy: 0.7600\n",
      "Epoch 83/100\n",
      "7/7 [==============================] - 0s 12ms/step - loss: 0.4364 - accuracy: 0.8200 - val_loss: 0.5158 - val_accuracy: 0.7600\n",
      "Epoch 84/100\n",
      "7/7 [==============================] - 0s 12ms/step - loss: 0.4353 - accuracy: 0.8150 - val_loss: 0.5162 - val_accuracy: 0.7400\n",
      "Epoch 85/100\n",
      "7/7 [==============================] - 0s 14ms/step - loss: 0.4342 - accuracy: 0.8150 - val_loss: 0.5147 - val_accuracy: 0.7400\n",
      "Epoch 86/100\n",
      "7/7 [==============================] - 0s 14ms/step - loss: 0.4339 - accuracy: 0.8150 - val_loss: 0.5125 - val_accuracy: 0.7400\n",
      "Epoch 87/100\n",
      "7/7 [==============================] - 0s 16ms/step - loss: 0.4335 - accuracy: 0.8200 - val_loss: 0.5159 - val_accuracy: 0.7400\n",
      "Epoch 88/100\n",
      "7/7 [==============================] - 0s 14ms/step - loss: 0.4332 - accuracy: 0.8200 - val_loss: 0.5166 - val_accuracy: 0.7400\n",
      "Epoch 89/100\n",
      "7/7 [==============================] - 0s 14ms/step - loss: 0.4330 - accuracy: 0.8250 - val_loss: 0.5187 - val_accuracy: 0.7400\n",
      "Epoch 90/100\n",
      "7/7 [==============================] - 0s 15ms/step - loss: 0.4329 - accuracy: 0.8250 - val_loss: 0.5169 - val_accuracy: 0.7400\n",
      "Epoch 91/100\n",
      "7/7 [==============================] - 0s 14ms/step - loss: 0.4324 - accuracy: 0.8250 - val_loss: 0.5130 - val_accuracy: 0.7400\n",
      "Epoch 92/100\n",
      "7/7 [==============================] - 0s 14ms/step - loss: 0.4321 - accuracy: 0.8250 - val_loss: 0.5109 - val_accuracy: 0.7400\n",
      "Epoch 93/100\n",
      "7/7 [==============================] - 0s 14ms/step - loss: 0.4320 - accuracy: 0.8250 - val_loss: 0.5126 - val_accuracy: 0.7400\n",
      "Epoch 94/100\n",
      "7/7 [==============================] - 0s 13ms/step - loss: 0.4315 - accuracy: 0.8250 - val_loss: 0.5139 - val_accuracy: 0.7400\n",
      "Epoch 95/100\n",
      "7/7 [==============================] - 0s 14ms/step - loss: 0.4314 - accuracy: 0.8200 - val_loss: 0.5123 - val_accuracy: 0.7400\n",
      "Epoch 96/100\n",
      "7/7 [==============================] - 0s 14ms/step - loss: 0.4309 - accuracy: 0.8200 - val_loss: 0.5095 - val_accuracy: 0.7400\n",
      "Epoch 97/100\n",
      "7/7 [==============================] - 0s 14ms/step - loss: 0.4310 - accuracy: 0.8300 - val_loss: 0.5090 - val_accuracy: 0.7400\n",
      "Epoch 98/100\n",
      "7/7 [==============================] - 0s 15ms/step - loss: 0.4311 - accuracy: 0.8250 - val_loss: 0.5049 - val_accuracy: 0.7400\n",
      "Epoch 99/100\n",
      "7/7 [==============================] - 0s 15ms/step - loss: 0.4306 - accuracy: 0.8250 - val_loss: 0.5058 - val_accuracy: 0.7400\n",
      "Epoch 100/100\n",
      "7/7 [==============================] - 0s 13ms/step - loss: 0.4307 - accuracy: 0.8150 - val_loss: 0.5065 - val_accuracy: 0.7400\n"
     ]
    },
    {
     "data": {
      "text/plain": [
       "<keras.callbacks.History at 0x7f4d5285abf0>"
      ]
     },
     "execution_count": 70,
     "metadata": {},
     "output_type": "execute_result"
    }
   ],
   "source": [
    "model3 = Sequential()\n",
    "model3.add(Dense(10, activation='relu', input_dim=2))\n",
    "model3.add(Dense(10, activation='relu'))\n",
    "model3.add(Dense(10, activation='relu'))\n",
    "model3.add(Dense(10, activation='relu'))\n",
    "model3.add(Dense(1, activation='sigmoid'))\n",
    "model3.compile(loss=\"binary_crossentropy\", optimizer='adam', metrics =['accuracy'])\n",
    "model3.fit(x_train, y_train, validation_data=(x_test, y_test), epochs=100)"
   ]
  },
  {
   "cell_type": "code",
   "execution_count": 71,
   "metadata": {
    "id": "gYqDgN2Vhu38"
   },
   "outputs": [],
   "source": []
  },
  {
   "cell_type": "code",
   "execution_count": null,
   "metadata": {
    "id": "UudMF16aipvM"
   },
   "outputs": [],
   "source": []
  }
 ],
 "metadata": {
  "accelerator": "GPU",
  "colab": {
   "gpuType": "T4",
   "provenance": []
  },
  "kernelspec": {
   "display_name": "Python 3 (ipykernel)",
   "language": "python",
   "name": "python3"
  },
  "language_info": {
   "codemirror_mode": {
    "name": "ipython",
    "version": 3
   },
   "file_extension": ".py",
   "mimetype": "text/x-python",
   "name": "python",
   "nbconvert_exporter": "python",
   "pygments_lexer": "ipython3",
   "version": "3.9.13"
  }
 },
 "nbformat": 4,
 "nbformat_minor": 1
}
